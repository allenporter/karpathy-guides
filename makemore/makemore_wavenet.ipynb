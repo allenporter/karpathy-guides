{
 "cells": [
  {
   "cell_type": "code",
   "execution_count": 395,
   "metadata": {},
   "outputs": [],
   "source": [
    "from typing import Union, Any, Tuple\n",
    "from collections.abc import Callable\n",
    "\n",
    "import torch\n",
    "import torch.nn.functional as F\n",
    "import matplotlib.pyplot as plt\n",
    "%matplotlib inline"
   ]
  },
  {
   "cell_type": "code",
   "execution_count": 396,
   "metadata": {},
   "outputs": [
    {
     "data": {
      "text/plain": [
       "32033"
      ]
     },
     "execution_count": 396,
     "metadata": {},
     "output_type": "execute_result"
    }
   ],
   "source": [
    "with open('names.txt') as f:\n",
    "    content = f.read()\n",
    "    words = content.splitlines()\n",
    "len(words)"
   ]
  },
  {
   "attachments": {},
   "cell_type": "markdown",
   "metadata": {},
   "source": [
    "# Preprocess the data"
   ]
  },
  {
   "cell_type": "code",
   "execution_count": 397,
   "metadata": {},
   "outputs": [],
   "source": [
    "chars = sorted(list(set(''.join(words))))\n",
    "stoi = { s: i+1 for i, s in enumerate(chars) }\n",
    "stoi['.'] = 0\n",
    "itos = { i: s for s, i in stoi.items() }\n",
    "vocab_size = len(itos)"
   ]
  },
  {
   "cell_type": "code",
   "execution_count": 398,
   "metadata": {},
   "outputs": [
    {
     "name": "stdout",
     "output_type": "stream",
     "text": [
      "torch.Size([182625, 8]) torch.Size([182625])\n",
      "torch.Size([22655, 8]) torch.Size([22655])\n",
      "torch.Size([22866, 8]) torch.Size([22866])\n"
     ]
    }
   ],
   "source": [
    "import torch\n",
    "\n",
    "# Build dataset splits\n",
    "def build_dataset(words: list[str], block_size: int) -> Tuple[torch.Tensor, torch.Tensor]:\n",
    "    x, y = [], []\n",
    "    for w in words:\n",
    "        #print(w)\n",
    "        context = [0] * block_size\n",
    "        for ch in w + '.':\n",
    "            ix = stoi[ch]\n",
    "            x.append(context)\n",
    "            y.append(ix)\n",
    "            #print(''.join(itos[i] for i in context), \"--->\", ch)\n",
    "            # Advance the rolling window of context\n",
    "            context = context[1:] + [ix]\n",
    "    X = torch.tensor(x)\n",
    "    Y = torch.tensor(y)\n",
    "    print(X.shape, Y.shape)\n",
    "    return X, Y\n",
    "\n",
    "import random\n",
    "random.seed(42)\n",
    "random.shuffle(words)\n",
    "n1 = int(0.8*len(words))\n",
    "n2 = int(0.9*len(words))\n",
    "\n",
    "CONTEXT_SZ = 8\n",
    "Xtr, Ytr = build_dataset(words[:n1], CONTEXT_SZ)\n",
    "Xdev, Ydev = build_dataset(words[n1:n2], CONTEXT_SZ)\n",
    "Xte, Yte = build_dataset(words[n2:], CONTEXT_SZ)"
   ]
  },
  {
   "cell_type": "code",
   "execution_count": 399,
   "metadata": {},
   "outputs": [
    {
     "name": "stdout",
     "output_type": "stream",
     "text": [
      "........ -> y\n",
      ".......y -> u\n",
      "......yu -> h\n",
      ".....yuh -> e\n",
      "....yuhe -> n\n",
      "...yuhen -> g\n",
      "..yuheng -> .\n",
      "........ -> d\n",
      ".......d -> i\n",
      "......di -> o\n",
      ".....dio -> n\n",
      "....dion -> d\n",
      "...diond -> r\n",
      "..diondr -> e\n",
      ".diondre -> .\n",
      "........ -> x\n",
      ".......x -> a\n",
      "......xa -> v\n",
      ".....xav -> i\n",
      "....xavi -> e\n"
     ]
    }
   ],
   "source": [
    "for x, y in zip(Xtr[:20], Ytr[:20]):\n",
    "    print(''.join(itos[ix.item()] for ix in x), '->', itos[y.item()])"
   ]
  },
  {
   "attachments": {},
   "cell_type": "markdown",
   "metadata": {},
   "source": [
    "# Model"
   ]
  },
  {
   "cell_type": "code",
   "execution_count": 400,
   "metadata": {},
   "outputs": [],
   "source": [
    "class Linear:\n",
    "    \"\"\"A linear layer.\"\"\"\n",
    "\n",
    "    def __init__(\n",
    "        self,\n",
    "        fan_in: int,\n",
    "        fan_out: int,\n",
    "        bias: bool = False,\n",
    "        generator: Union[torch.Generator, None] = None,\n",
    "        activation: str = 'leaky_relu'\n",
    "    ) -> None:\n",
    "        \"\"\"Initialize Linear.\"\"\"\n",
    "        self.weight = torch.randn((fan_in, fan_out), generator=generator)  #.abs()\n",
    "        self.weight = torch.nn.init.kaiming_normal_(self.weight, nonlinearity=activation)\n",
    "        self.bias = torch.randn(fan_out, generator=g) * 0.01 if bias else None\n",
    "        self.out: Union[torch.tensor, None] = None\n",
    "\n",
    "    def __call__(self, x: torch.Tensor) -> torch.Tensor:\n",
    "        \"\"\"Forward pass\"\"\"\n",
    "        self.out = x @ self.weight\n",
    "        if self.bias is not None:\n",
    "            self.out += self.bias\n",
    "        return self.out\n",
    "\n",
    "    def parameters(self):\n",
    "        return [self.weight] + ([] if self.bias is None else [self.bias])\n",
    "\n",
    "    def __str__(self) -> str:\n",
    "        return self.__class__.__name__\n",
    "\n",
    "\n",
    "class BatchNorm1d:\n",
    "    \"\"\"A batch normalization layer.\"\"\"\n",
    "\n",
    "    def __init__(self, dim: int, eps: float = 1e-5, momentum=0.001) -> None:\n",
    "        \"\"\"Initialize BatchNorm1d.\"\"\"\n",
    "        self.eps = eps\n",
    "        self.momentum = momentum\n",
    "        self.training = True\n",
    "        # parameters, trained with backprop\n",
    "        self.bngain = torch.ones((1, dim))  # gamma\n",
    "        self.bnbias = torch.zeros((1, dim))  # beta\n",
    "        # Buffers, trained with a running momentum update\n",
    "        self.running_mean = torch.zeros((1, dim))\n",
    "        self.running_std = torch.ones((1, dim))\n",
    "        self.out: Union[torch.tensor, None] = None\n",
    "\n",
    "    def __call__(self, x: torch.Tensor) -> torch.Tensor:\n",
    "        \"\"\"Forward pass.\"\"\"\n",
    "        if self.training:\n",
    "            if x.ndim == 2:\n",
    "                dim = 0\n",
    "            else:\n",
    "                dim = (0, 1)\n",
    "            xmean = x.mean(dim, keepdim=True)\n",
    "            xstd = x.std(dim, keepdim=True)\n",
    "\n",
    "            # Update buffers\n",
    "            with torch.no_grad():\n",
    "                self.running_mean = (1-self.momentum) * self.running_mean + self.momentum * xmean\n",
    "                self.running_std = (1-self.momentum) * self.running_std + self.momentum * xstd\n",
    "        else:\n",
    "            xmean = self.running_mean\n",
    "            xstd = self.running_std\n",
    "\n",
    "        # Preserve last value for statistics. TODO: We're not doing sqrt(xvar + eps) here. Fix?\n",
    "        self.out = self.bngain * (x - xmean) / (xstd + self.eps) + self.bnbias\n",
    "        return self.out\n",
    "\n",
    "    def parameters(self):\n",
    "        return [self.bngain, self.bnbias]\n",
    "\n",
    "    def __str__(self) -> str:\n",
    "        return self.__class__.__name__\n",
    "\n",
    "\n",
    "class Nonlinearity:\n",
    "    \"\"\"Nonlinearity.\"\"\"\n",
    "\n",
    "    def __init__(self, activation: str = 'leaky_relu') -> None:\n",
    "        \"\"\"Initialize Nonlinearity.\"\"\"\n",
    "        if activation == 'leaky_relu':\n",
    "            self.act = torch.nn.LeakyReLU() \n",
    "        elif activation == 'relu':\n",
    "            self.act = torch.nn.ReLU()\n",
    "        elif activation == 'tanh':\n",
    "            self.act = torch.nn.Tanh()\n",
    "        else:\n",
    "            raise ValueError(f\"Unknown activation {activation}\")\n",
    "        self.activation = activation\n",
    "        self.out: Union[torch.tensor, None] = None\n",
    "\n",
    "    def __call__(self, x: torch.Tensor) -> torch.Tensor:\n",
    "        \"\"\"Forward pass\"\"\"\n",
    "        self.out = self.act(x)\n",
    "        return self.out\n",
    "\n",
    "    def __str__(self) -> str:\n",
    "        return f\"{self.__class__.__name__}:{self.activation}\"\n",
    "\n",
    "    def parameters(self):\n",
    "        return []\n",
    "    \n",
    "class Embedding:\n",
    "    \"\"\"An embedding lookup.\"\"\"\n",
    "\n",
    "    def __init__(self, num_embeddings: int, embedding_dim: int, generator: torch.Generator = None) -> None:\n",
    "        self.weight = torch.randn((num_embeddings, embedding_dim), generator=g)\n",
    "\n",
    "    def __call__(self, x: torch.Tensor) -> torch.Tensor:\n",
    "        self.out = self.weight[x]\n",
    "        return self.out\n",
    "\n",
    "    def parameters(self):\n",
    "        return [self.weight]\n",
    "    \n",
    "class FlattenConsecutive:\n",
    "    \"\"\"Flattens n consecutive elements.\"\"\"\n",
    "\n",
    "    def __init__(self, n: int) -> None:\n",
    "        self.n = n\n",
    "\n",
    "    def __call__(self, x: torch.Tensor) -> torch.Tensor:\n",
    "        B, T, C = x.shape\n",
    "        x = x.view(B, T//self.n, C * self.n)\n",
    "        if x.shape[1] == 1:\n",
    "            x = x.squeeze(1)\n",
    "        self.out = x\n",
    "        return self.out\n",
    "\n",
    "    def parameters(self):\n",
    "        return []\n",
    "\n",
    "class Sequential:\n",
    "    \"\"\"A container of layers invoked sequentially.\"\"\"\n",
    "\n",
    "    def __init__(self, layers: list[Callable[[torch.Tensor], torch.Tensor]]) -> None:\n",
    "        self.layers = layers\n",
    "\n",
    "    def __call__(self, x: torch.Tensor) -> torch.Tensor:\n",
    "        for layer in self.layers:\n",
    "            x = layer(x)\n",
    "        self.out = x\n",
    "        return self.out\n",
    "    \n",
    "    def parameters(self):\n",
    "        return [p for layer in self.layers for p in layer.parameters()]\n",
    "\n",
    "    @property\n",
    "    def shape(self) -> list[str]:\n",
    "        \"\"\"Return the shape of the model.\"\"\"\n",
    "        results = []\n",
    "        for layer in self.layers:\n",
    "            results.append(f\"{layer.__class__.__name__}: {layer.out.shape}\")\n",
    "        return results\n",
    "\n"
   ]
  },
  {
   "cell_type": "code",
   "execution_count": 401,
   "metadata": {},
   "outputs": [],
   "source": [
    "EMBED_SZ = 24\n",
    "HIDDEN_LAYER_SZ = 128\n",
    "CHAR_GRP = 2\n",
    "\n",
    "class Model:\n",
    "\n",
    "    def __init__(self, vocab_size: int, generator: torch.Generator = None, activation: str = 'leaky_relu') -> None:\n",
    "        self.layers = Sequential([        \n",
    "            Embedding(vocab_size, EMBED_SZ, generator=g),\n",
    "\n",
    "            # Flattens in CONTEXT_SZ but instead want to group by 2s\n",
    "            FlattenConsecutive(CHAR_GRP),\n",
    "            Linear(EMBED_SZ * CHAR_GRP, HIDDEN_LAYER_SZ, activation=activation, generator=g, bias=False),\n",
    "            BatchNorm1d(HIDDEN_LAYER_SZ),\n",
    "            Nonlinearity(activation=activation),\n",
    "\n",
    "            FlattenConsecutive(CHAR_GRP),\n",
    "            Linear(HIDDEN_LAYER_SZ * CHAR_GRP, HIDDEN_LAYER_SZ, activation=activation, generator=g, bias=False),\n",
    "            BatchNorm1d(HIDDEN_LAYER_SZ),\n",
    "            Nonlinearity(activation=activation),\n",
    "\n",
    "            FlattenConsecutive(CHAR_GRP),\n",
    "            Linear(HIDDEN_LAYER_SZ * CHAR_GRP, HIDDEN_LAYER_SZ, activation=activation, generator=g, bias=False),\n",
    "            BatchNorm1d(HIDDEN_LAYER_SZ),\n",
    "            Nonlinearity(activation=activation),\n",
    "\n",
    "            Linear(HIDDEN_LAYER_SZ, vocab_size, activation=activation, generator=g, bias=False),\n",
    "            BatchNorm1d(vocab_size),\n",
    "        ])\n",
    "\n",
    "        for layer in self.layers.layers:\n",
    "            layer.training = True\n",
    "\n",
    "        # Reset parameters for training\n",
    "        for p in self.parameters():\n",
    "            p.requires_grad = True\n",
    "\n",
    "    def parameters(self):\n",
    "        return self.layers.parameters()\n",
    "\n",
    "    @property\n",
    "    def num_parameters(self) -> int:\n",
    "        \"\"\"Total number of parameters.\"\"\"\n",
    "        return sum(p.nelement() for p in self.parameters())\n",
    "\n",
    "    def forward_pass(self, x: torch.Tensor) -> torch.Tensor:\n",
    "        \"\"\"Forward pass.\"\"\"\n",
    "        return self.layers(x)\n",
    "    \n",
    "    @property\n",
    "    def shape(self) -> list[str]:\n",
    "        \"\"\"Return the shape of the model.\"\"\"\n",
    "        return self.layers.shape\n",
    "    \n"
   ]
  },
  {
   "cell_type": "code",
   "execution_count": 402,
   "metadata": {},
   "outputs": [
    {
     "name": "stdout",
     "output_type": "stream",
     "text": [
      "76606\n"
     ]
    },
    {
     "data": {
      "application/vnd.jupyter.widget-view+json": {
       "model_id": "d4632ecabb274e9080e9d8deb0f417af",
       "version_major": 2,
       "version_minor": 0
      },
      "text/plain": [
       "  0%|          | 0/30000 [00:00<?, ?it/s]"
      ]
     },
     "metadata": {},
     "output_type": "display_data"
    }
   ],
   "source": [
    "from statistics import mean\n",
    "from tqdm.notebook import tqdm\n",
    "from torch import nn\n",
    "from torch.nn import functional as F\n",
    "\n",
    "MINI_BATCH_SZ = 32\n",
    "\n",
    "# It doesn't make sense to step through the learning rate linearly. Instead, we'll\n",
    "# step through the exponents linearly.\n",
    "lre = torch.cat([-1 * torch.ones(20000), torch.linspace(-1, -5, steps=10000)])\n",
    "lrs = 10**lre\n",
    "#plt.plot(range(0, len(lrs)), lrs)\n",
    "\n",
    "lri = []\n",
    "lossi = []\n",
    "loglossi = []\n",
    "loglossiavg = []\n",
    "stepi = []\n",
    "ud = []\n",
    "\n",
    "activation = 'leaky_relu'\n",
    "g = torch.Generator().manual_seed(42)\n",
    "model = Model(vocab_size, generator=g, activation=activation)\n",
    "print(model.num_parameters)\n",
    "\n",
    "with torch.enable_grad():\n",
    "    pbar = tqdm(range(len(lrs)))\n",
    "    for i in pbar:\n",
    "        # Mini batch\n",
    "        ix = torch.randint(0, Xtr.shape[0], (MINI_BATCH_SZ,), generator=g) # (MINI_BATCH_SZ)\n",
    "        Xb, Yb = Xtr[ix], Ytr[ix]\n",
    "\n",
    "        # Forward pass\n",
    "        logits = model.forward_pass(Xb)\n",
    "        loss = F.cross_entropy(logits, Yb)\n",
    "        \n",
    "        # Update parameters\n",
    "        lr = lrs[i]\n",
    "        sgd = torch.optim.SGD(model.parameters(), lr=lr, weight_decay=0.001)\n",
    "        sgd.zero_grad()\n",
    "        loss.backward()\n",
    "        sgd.step()\n",
    "\n",
    "        # Track stats\n",
    "        stepi.append(i)\n",
    "        lossi.append(loss.item())\n",
    "        loglossi.append(loss.log10().item())\n",
    "        if i < 500:\n",
    "            loglossiavg.append(loss.log10().item())\n",
    "        else:\n",
    "            loglossiavg.append(mean(loglossi[-100:]))\n",
    "        if i % 1000 == 0:\n",
    "            pbar.set_description(\"LR: %0.4f Loss %0.4f\" % (lr, mean(lossi[-500:])))\n",
    "            with torch.no_grad():\n",
    "                ud.append([(lr*p.grad.std() / p.data.std()).log().item() for p in model.parameters()])\n",
    "        #if i >= 10000:\n",
    "        #    break\n"
   ]
  },
  {
   "cell_type": "code",
   "execution_count": 403,
   "metadata": {},
   "outputs": [
    {
     "data": {
      "text/plain": [
       "[<matplotlib.lines.Line2D at 0x15c4dd750>]"
      ]
     },
     "execution_count": 403,
     "metadata": {},
     "output_type": "execute_result"
    },
    {
     "data": {
      "image/png": "[encoded data removed]",
      "text/plain": [
       "<Figure size 640x480 with 1 Axes>"
      ]
     },
     "metadata": {},
     "output_type": "display_data"
    }
   ],
   "source": [
    "plt.plot(loglossiavg)"
   ]
  },
  {
   "attachments": {},
   "cell_type": "markdown",
   "metadata": {},
   "source": [
    "# View Training Results"
   ]
  },
  {
   "cell_type": "code",
   "execution_count": 404,
   "metadata": {},
   "outputs": [
    {
     "name": "stdout",
     "output_type": "stream",
     "text": [
      "{'MINI_BATCH_SZ': 32, 'CONTEXT_SZ': 8, 'EMBED_SZ': 24, 'HIDDEN_LAYER_SZ': 128, 'num_parameters': 76606}\n",
      "Xtr loss: 1.9982\n",
      "Xdev loss: 2.0496\n"
     ]
    }
   ],
   "source": [
    "print({\n",
    "    'MINI_BATCH_SZ': MINI_BATCH_SZ,\n",
    "    'CONTEXT_SZ': CONTEXT_SZ,\n",
    "    'EMBED_SZ': EMBED_SZ,\n",
    "    'HIDDEN_LAYER_SZ': HIDDEN_LAYER_SZ,\n",
    "    'num_parameters': sum(p.nelement() for p in model.parameters()),\n",
    "})\n",
    "\n",
    "for l in model.layers.layers:\n",
    "    l.training = False\n",
    "\n",
    "with torch.no_grad():\n",
    "    xtr_loss = F.cross_entropy(model.forward_pass(Xtr), Ytr)\n",
    "    print(f\"Xtr loss: {xtr_loss:0.4f}\")\n",
    "\n",
    "    xdev_loss = F.cross_entropy(model.forward_pass(Xdev), Ydev)\n",
    "    print(f\"Xdev loss: {xdev_loss:0.4f}\")"
   ]
  },
  {
   "attachments": {},
   "cell_type": "markdown",
   "metadata": {},
   "source": [
    "# Sample"
   ]
  },
  {
   "cell_type": "code",
   "execution_count": 405,
   "metadata": {},
   "outputs": [
    {
     "name": "stdout",
     "output_type": "stream",
     "text": [
      "lacelas.\n",
      "jawlyn.\n",
      "urgon.\n",
      "deliry.\n",
      "josseck.\n",
      "jahmelilean.\n",
      "saama.\n",
      "zyan.\n",
      "otera.\n",
      "seracie.\n",
      "delin.\n",
      "kalyreae.\n",
      "meison.\n",
      "galike.\n",
      "esianna.\n",
      "esha.\n",
      "todyn.\n",
      "laliyah.\n",
      "miriall.\n",
      "daniam.\n"
     ]
    }
   ],
   "source": [
    "\n",
    "for l in model.layers.layers:\n",
    "    l.training = False\n",
    "\n",
    "for _ in range(20):\n",
    "    out = []\n",
    "    context = [0] * CONTEXT_SZ\n",
    "    while True:\n",
    "        x = torch.tensor([context])\n",
    "        logits = model.forward_pass(x)\n",
    "\n",
    "        # Make logits sum to 1\n",
    "        probs = F.softmax(logits, dim=1)\n",
    "\n",
    "        # Sample from probabilities\n",
    "        ix = torch.multinomial(probs, num_samples=1, generator=g).item()\n",
    "        context = context[1:] + [ix]\n",
    "        out.append(itos[ix])\n",
    "        if ix == 0:\n",
    "             break\n",
    "    print(''.join(out))"
   ]
  },
  {
   "cell_type": "code",
   "execution_count": 406,
   "metadata": {},
   "outputs": [
    {
     "name": "stdout",
     "output_type": "stream",
     "text": [
      "torch.Size([4, 8])\n"
     ]
    },
    {
     "data": {
      "text/plain": [
       "tensor([[ 0,  0,  0,  0,  0,  0, 19, 25],\n",
       "        [ 0,  0,  0,  0,  0,  0,  4, 15],\n",
       "        [ 0,  0,  0,  0, 11,  1, 13,  1],\n",
       "        [ 0,  0,  0,  3,  9, 14, 20,  8]])"
      ]
     },
     "execution_count": 406,
     "metadata": {},
     "output_type": "execute_result"
    }
   ],
   "source": [
    "ix = torch.randint(0, Xtr.shape[0], (4,), generator=g) # (MINI_BATCH_SZ)\n",
    "Xb, Yb = Xtr[ix], Ytr[ix]\n",
    "logits = model.forward_pass(Xb)\n",
    "print(Xb.shape)\n",
    "Xb\n"
   ]
  },
  {
   "cell_type": "code",
   "execution_count": 407,
   "metadata": {},
   "outputs": [
    {
     "name": "stdout",
     "output_type": "stream",
     "text": [
      "Embedding: torch.Size([4, 8, 24])\n",
      "FlattenConsecutive: torch.Size([4, 4, 48])\n",
      "Linear: torch.Size([4, 4, 128])\n",
      "BatchNorm1d: torch.Size([4, 4, 128])\n",
      "Nonlinearity: torch.Size([4, 4, 128])\n",
      "FlattenConsecutive: torch.Size([4, 2, 256])\n",
      "Linear: torch.Size([4, 2, 128])\n",
      "BatchNorm1d: torch.Size([4, 2, 128])\n",
      "Nonlinearity: torch.Size([4, 2, 128])\n",
      "FlattenConsecutive: torch.Size([4, 256])\n",
      "Linear: torch.Size([4, 128])\n",
      "BatchNorm1d: torch.Size([4, 128])\n",
      "Nonlinearity: torch.Size([4, 128])\n",
      "Linear: torch.Size([4, 27])\n",
      "BatchNorm1d: torch.Size([4, 27])\n"
     ]
    }
   ],
   "source": [
    "# Layer inspection\n",
    "\n",
    "for s in model.layers.shape:\n",
    "    print(s)"
   ]
  },
  {
   "attachments": {},
   "cell_type": "markdown",
   "metadata": {},
   "source": [
    "# Performance log\n",
    "\n",
    "## Larger context size\n",
    "\n",
    "```\n",
    "{'MINI_BATCH_SZ': 128, 'CONTEXT_SZ': 8, 'EMBED_SZ': 10, 'HIDDEN_LAYER_SZ': 200, 'num_parameters': 183724}\n",
    "Xtr loss: 1.8502\n",
    "Xdev loss: 1.9980\n",
    "```\n",
    "\n",
    "## Flat to Hierarchical / WaveNet first attempt\n",
    "\n",
    "```\n",
    "{'MINI_BATCH_SZ': 128, 'CONTEXT_SZ': 8, 'EMBED_SZ': 10, 'HIDDEN_LAYER_SZ': 200, 'num_parameters': 170870}\n",
    "Xtr loss: 1.9189\n",
    "Xdev loss: 2.0017\n",
    "```\n",
    "\n",
    "## Fix batch norm bug + Scale up\n",
    "\n",
    "When fixing batchnorm, also restructured the network so that alone was a regression of\n",
    "like 2.10. Scaling up brought back some of the wins\n",
    "```\n",
    "{'MINI_BATCH_SZ': 32, 'CONTEXT_SZ': 8, 'EMBED_SZ': 24, 'HIDDEN_LAYER_SZ': 128, 'num_parameters': 76552}\n",
    "Xtr loss: 2.0454\n",
    "Xdev loss: 2.0749\n",
    "```\n",
    "\n",
    "## Add batch batch norm final layer\n",
    "\n",
    "```\n",
    "{'MINI_BATCH_SZ': 32, 'CONTEXT_SZ': 8, 'EMBED_SZ': 24, 'HIDDEN_LAYER_SZ': 128, 'num_parameters': 76606}\n",
    "Xtr loss: 2.0471\n",
    "Xdev loss: 2.0835\n",
    "```\n",
    "\n",
    "## Learning rates\n",
    "\n",
    "Random learning rate improvements:\n",
    "\n",
    "```\n",
    "{'MINI_BATCH_SZ': 32, 'CONTEXT_SZ': 8, 'EMBED_SZ': 24, 'HIDDEN_LAYER_SZ': 128, 'num_parameters': 76606}\n",
    "Xtr loss: 1.9982\n",
    "Xdev loss: 2.0496\n",
    "```"
   ]
  },
  {
   "cell_type": "code",
   "execution_count": null,
   "metadata": {},
   "outputs": [],
   "source": []
  }
 ],
 "metadata": {
  "kernelspec": {
   "display_name": "venv",
   "language": "python",
   "name": "python3"
  },
  "language_info": {
   "codemirror_mode": {
    "name": "ipython",
    "version": 3
   },
   "file_extension": ".py",
   "mimetype": "text/x-python",
   "name": "python",
   "nbconvert_exporter": "python",
   "pygments_lexer": "ipython3",
   "version": "3.11.3"
  },
  "orig_nbformat": 4
 },
 "nbformat": 4,
 "nbformat_minor": 2
}
