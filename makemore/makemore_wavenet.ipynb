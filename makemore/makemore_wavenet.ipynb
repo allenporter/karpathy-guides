{
 "cells": [
  {
   "cell_type": "code",
   "execution_count": 212,
   "metadata": {},
   "outputs": [],
   "source": [
    "from typing import Union, Any, Tuple\n",
    "from collections.abc import Callable\n",
    "\n",
    "import torch\n",
    "import torch.nn.functional as F\n",
    "import matplotlib.pyplot as plt\n",
    "%matplotlib inline"
   ]
  },
  {
   "cell_type": "code",
   "execution_count": 213,
   "metadata": {},
   "outputs": [
    {
     "data": {
      "text/plain": [
       "32033"
      ]
     },
     "execution_count": 213,
     "metadata": {},
     "output_type": "execute_result"
    }
   ],
   "source": [
    "with open('names.txt') as f:\n",
    "    content = f.read()\n",
    "    words = content.splitlines()\n",
    "len(words)"
   ]
  },
  {
   "attachments": {},
   "cell_type": "markdown",
   "metadata": {},
   "source": [
    "# Preprocess the data"
   ]
  },
  {
   "cell_type": "code",
   "execution_count": 214,
   "metadata": {},
   "outputs": [],
   "source": [
    "chars = sorted(list(set(''.join(words))))\n",
    "stoi = { s: i+1 for i, s in enumerate(chars) }\n",
    "stoi['.'] = 0\n",
    "itos = { i: s for s, i in stoi.items() }\n",
    "vocab_size = len(itos)"
   ]
  },
  {
   "cell_type": "code",
   "execution_count": 215,
   "metadata": {},
   "outputs": [
    {
     "name": "stdout",
     "output_type": "stream",
     "text": [
      "torch.Size([182625, 3]) torch.Size([182625])\n",
      "torch.Size([22655, 3]) torch.Size([22655])\n",
      "torch.Size([22866, 3]) torch.Size([22866])\n"
     ]
    }
   ],
   "source": [
    "import torch\n",
    "\n",
    "# Build dataset splits\n",
    "def build_dataset(words: list[str], block_size: int) -> Tuple[torch.Tensor, torch.Tensor]:\n",
    "    x, y = [], []\n",
    "    for w in words:\n",
    "        #print(w)\n",
    "        context = [0] * block_size\n",
    "        for ch in w + '.':\n",
    "            ix = stoi[ch]\n",
    "            x.append(context)\n",
    "            y.append(ix)\n",
    "            #print(''.join(itos[i] for i in context), \"--->\", ch)\n",
    "            # Advance the rolling window of context\n",
    "            context = context[1:] + [ix]\n",
    "    X = torch.tensor(x)\n",
    "    Y = torch.tensor(y)\n",
    "    print(X.shape, Y.shape)\n",
    "    return X, Y\n",
    "\n",
    "import random\n",
    "random.seed(42)\n",
    "random.shuffle(words)\n",
    "n1 = int(0.8*len(words))\n",
    "n2 = int(0.9*len(words))\n",
    "\n",
    "CONTEXT_SZ = 3\n",
    "Xtr, Ytr = build_dataset(words[:n1], CONTEXT_SZ)\n",
    "Xdev, Ydev = build_dataset(words[n1:n2], CONTEXT_SZ)\n",
    "Xte, Yte = build_dataset(words[n2:], CONTEXT_SZ)"
   ]
  },
  {
   "attachments": {},
   "cell_type": "markdown",
   "metadata": {},
   "source": [
    "# Model"
   ]
  },
  {
   "cell_type": "code",
   "execution_count": 216,
   "metadata": {},
   "outputs": [],
   "source": [
    "class Linear:\n",
    "    \"\"\"A linear layer.\"\"\"\n",
    "\n",
    "    def __init__(\n",
    "        self,\n",
    "        fan_in: int,\n",
    "        fan_out: int,\n",
    "        bias: bool = False,\n",
    "        generator: Union[torch.Generator, None] = None,\n",
    "        activation: str = 'leaky_relu'\n",
    "    ) -> None:\n",
    "        \"\"\"Initialize Linear.\"\"\"\n",
    "        self.weight = torch.randn((fan_in, fan_out), generator=generator)  #.abs()\n",
    "        self.weight = torch.nn.init.kaiming_normal_(self.weight, nonlinearity=activation)\n",
    "        self.bias = torch.randn(fan_out, generator=g) * 0.01 if bias else None\n",
    "        self.out: Union[torch.tensor, None] = None\n",
    "\n",
    "    def __call__(self, x: torch.Tensor) -> torch.Tensor:\n",
    "        \"\"\"Forward pass\"\"\"\n",
    "        self.out = x @ self.weight\n",
    "        if self.bias is not None:\n",
    "            self.out += self.bias\n",
    "        return self.out\n",
    "\n",
    "    def parameters(self):\n",
    "        return [self.weight] + ([] if self.bias is None else [self.bias])\n",
    "\n",
    "    def __str__(self) -> str:\n",
    "        return self.__class__.__name__\n",
    "\n",
    "\n",
    "class BatchNorm1d:\n",
    "    \"\"\"A batch normalization layer.\"\"\"\n",
    "\n",
    "    def __init__(self, dim: int, eps: float = 1e-5, momentum=0.001) -> None:\n",
    "        \"\"\"Initialize BatchNorm1d.\"\"\"\n",
    "        self.eps = eps\n",
    "        self.momentum = momentum\n",
    "        self.training = True\n",
    "        # parameters, trained with backprop\n",
    "        self.bngain = torch.ones((1, dim))  # gamma\n",
    "        self.bnbias = torch.zeros((1, dim))  # beta\n",
    "        # Buffers, trained with a running momentum update\n",
    "        self.running_mean = torch.zeros((1, dim))\n",
    "        self.running_std = torch.ones((1, dim))\n",
    "        self.out: Union[torch.tensor, None] = None\n",
    "\n",
    "    def __call__(self, x: torch.Tensor) -> torch.Tensor:\n",
    "        \"\"\"Forward pass.\"\"\"\n",
    "        if self.training:\n",
    "            xmean = x.mean(0, keepdim=True)\n",
    "            xstd = x.std(0, keepdim=True)\n",
    "\n",
    "            # Update buffers\n",
    "            with torch.no_grad():\n",
    "                self.running_mean = (1-self.momentum) * self.running_mean + self.momentum * xmean\n",
    "                self.running_std = (1-self.momentum) * self.running_std + self.momentum * xstd\n",
    "        else:\n",
    "            xmean = self.running_mean\n",
    "            xstd = self.running_std\n",
    "\n",
    "        # Preserve last value for statistics. TODO: We're not doing sqrt(xvar + eps) here. Fix?\n",
    "        self.out = self.bngain * (x - xmean) / (xstd + self.eps) + self.bnbias\n",
    "        return self.out\n",
    "\n",
    "    def parameters(self):\n",
    "        return [self.bngain, self.bnbias]\n",
    "\n",
    "    def __str__(self) -> str:\n",
    "        return self.__class__.__name__\n",
    "\n",
    "\n",
    "class Nonlinearity:\n",
    "    \"\"\"Nonlinearity.\"\"\"\n",
    "\n",
    "    def __init__(self, activation: str = 'leaky_relu') -> None:\n",
    "        \"\"\"Initialize Nonlinearity.\"\"\"\n",
    "        if activation == 'leaky_relu':\n",
    "            self.act = torch.nn.LeakyReLU() \n",
    "        elif activation == 'relu':\n",
    "            self.act = torch.nn.ReLU()\n",
    "        elif activation == 'tanh':\n",
    "            self.act = torch.nn.Tanh()\n",
    "        else:\n",
    "            raise ValueError(f\"Unknown activation {activation}\")\n",
    "        self.activation = activation\n",
    "        self.out: Union[torch.tensor, None] = None\n",
    "\n",
    "    def __call__(self, x: torch.Tensor) -> torch.Tensor:\n",
    "        \"\"\"Forward pass\"\"\"\n",
    "        self.out = self.act(x)\n",
    "        return self.out\n",
    "\n",
    "    def __str__(self) -> str:\n",
    "        return f\"{self.__class__.__name__}:{self.activation}\"\n",
    "\n",
    "    def parameters(self):\n",
    "        return []\n",
    "    \n",
    "class Embedding:\n",
    "    \"\"\"An embedding lookup.\"\"\"\n",
    "\n",
    "    def __init__(self, num_embeddings: int, embedding_dim: int, generator: torch.Generator = None) -> None:\n",
    "        self.weight = torch.randn((num_embeddings, embedding_dim), generator=g)\n",
    "\n",
    "    def __call__(self, x: torch.Tensor) -> torch.Tensor:\n",
    "        self.out = self.weight[x]\n",
    "        return self.out\n",
    "\n",
    "    def parameters(self):\n",
    "        return [self.weight]\n",
    "    \n",
    "class Flatten:\n",
    "    \"\"\"Reshape the input.\"\"\"\n",
    "\n",
    "    def __call__(self, x: torch.Tensor) -> torch.Tensor:\n",
    "        self.out = x.view(x.shape[0], -1)\n",
    "        return self.out\n",
    "\n",
    "    def parameters(self):\n",
    "        return []\n",
    "\n",
    "class Sequential:\n",
    "    \"\"\"A container of layers invoked sequentially.\"\"\"\n",
    "\n",
    "    def __init__(self, layers: list[Callable[[torch.Tensor], torch.Tensor]]) -> None:\n",
    "        self.layers = layers\n",
    "\n",
    "    def __call__(self, x: torch.Tensor) -> torch.Tensor:\n",
    "        for layer in self.layers:\n",
    "            x = layer(x)\n",
    "        self.out = x\n",
    "        return self.out\n",
    "    \n",
    "    def parameters(self):\n",
    "        return [p for layer in self.layers for p in layer.parameters()]\n"
   ]
  },
  {
   "cell_type": "code",
   "execution_count": 217,
   "metadata": {},
   "outputs": [],
   "source": [
    "EMBED_SZ = 10\n",
    "HIDDEN_LAYER_SZ = 200\n",
    "\n",
    "class Model:\n",
    "\n",
    "    def __init__(self, vocab_size: int, generator: torch.Generator = None, activation: str = 'leaky_relu') -> None:\n",
    "        self.layers = Sequential([        \n",
    "            Embedding(vocab_size, EMBED_SZ, generator=g),\n",
    "            Flatten(),\n",
    "    \n",
    "            Linear(EMBED_SZ * CONTEXT_SZ, HIDDEN_LAYER_SZ, activation=activation, generator=g, bias=False),\n",
    "            BatchNorm1d(HIDDEN_LAYER_SZ),\n",
    "            Nonlinearity(activation=activation),\n",
    "\n",
    "            Linear(HIDDEN_LAYER_SZ, HIDDEN_LAYER_SZ, activation=activation, generator=g, bias=False),\n",
    "            BatchNorm1d(HIDDEN_LAYER_SZ),\n",
    "            Nonlinearity(activation=activation),\n",
    "\n",
    "            Linear(HIDDEN_LAYER_SZ, HIDDEN_LAYER_SZ, activation=activation, generator=g, bias=False),\n",
    "            BatchNorm1d(HIDDEN_LAYER_SZ),\n",
    "            Nonlinearity(activation=activation),\n",
    "\n",
    "            Linear(HIDDEN_LAYER_SZ, HIDDEN_LAYER_SZ, activation=activation, generator=g, bias=False),\n",
    "            BatchNorm1d(HIDDEN_LAYER_SZ),\n",
    "            Nonlinearity(activation=activation),\n",
    "\n",
    "            Linear(HIDDEN_LAYER_SZ, HIDDEN_LAYER_SZ, activation=activation, generator=g, bias=False),\n",
    "            BatchNorm1d(HIDDEN_LAYER_SZ),\n",
    "            Nonlinearity(activation=activation),\n",
    "\n",
    "            Linear(HIDDEN_LAYER_SZ, vocab_size, activation=activation, generator=g, bias=False),\n",
    "            BatchNorm1d(vocab_size),\n",
    "            #Nonlinearity(activation=activation),\n",
    "        ])\n",
    "\n",
    "        for layer in self.layers.layers:\n",
    "            layer.training = True\n",
    "\n",
    "        # Reset parameters for training\n",
    "        for p in self.parameters():\n",
    "            p.requires_grad = True\n",
    "\n",
    "    def parameters(self):\n",
    "        return self.layers.parameters()\n",
    "\n",
    "    @property\n",
    "    def num_parameters(self) -> int:\n",
    "        \"\"\"Total number of parameters.\"\"\"\n",
    "        return sum(p.nelement() for p in self.parameters())\n",
    "\n",
    "    def forward_pass(self, x: torch.Tensor) -> torch.Tensor:\n",
    "        \"\"\"Forward pass.\"\"\"\n",
    "        return self.layers(x)\n"
   ]
  },
  {
   "cell_type": "code",
   "execution_count": 218,
   "metadata": {},
   "outputs": [
    {
     "name": "stdout",
     "output_type": "stream",
     "text": [
      "173724\n"
     ]
    },
    {
     "data": {
      "application/vnd.jupyter.widget-view+json": {
       "model_id": "b831158a5a954f2e9663d99af292e99c",
       "version_major": 2,
       "version_minor": 0
      },
      "text/plain": [
       "  0%|          | 0/15000 [00:00<?, ?it/s]"
      ]
     },
     "metadata": {},
     "output_type": "display_data"
    }
   ],
   "source": [
    "from statistics import mean\n",
    "from tqdm.notebook import tqdm\n",
    "from torch import nn\n",
    "from torch.nn import functional as F\n",
    "\n",
    "MINI_BATCH_SZ = 128\n",
    "\n",
    "# It doesn't make sense to step through the learning rate linearly. Instead, we'll\n",
    "# step through the exponents linearly.\n",
    "lre = torch.cat([-1 * torch.ones(10000), torch.linspace(-1, -5, steps=5000)])\n",
    "lrs = 10**lre\n",
    "#plt.plot(range(0, len(lrs)), lrs)\n",
    "\n",
    "lri = []\n",
    "lossi = []\n",
    "loglossi = []\n",
    "loglossiavg = []\n",
    "stepi = []\n",
    "ud = []\n",
    "\n",
    "activation = 'leaky_relu'\n",
    "g = torch.Generator().manual_seed(42)\n",
    "model = Model(vocab_size, generator=g, activation=activation)\n",
    "print(model.num_parameters)\n",
    "\n",
    "with torch.enable_grad():\n",
    "    pbar = tqdm(range(len(lrs)))\n",
    "    for i in pbar:\n",
    "        # Mini batch\n",
    "        ix = torch.randint(0, Xtr.shape[0], (MINI_BATCH_SZ,), generator=g) # (MINI_BATCH_SZ)\n",
    "        Xb, Yb = Xtr[ix], Ytr[ix]\n",
    "\n",
    "        # Forward pass\n",
    "        logits = model.forward_pass(Xb)\n",
    "        loss = F.cross_entropy(logits, Yb)\n",
    "        \n",
    "        # Update parameters\n",
    "        lr = lrs[i]\n",
    "        sgd = torch.optim.SGD(model.parameters(), lr=lr, weight_decay=0.001)\n",
    "        sgd.zero_grad()\n",
    "        loss.backward()\n",
    "        sgd.step()\n",
    "\n",
    "        # Track stats\n",
    "        stepi.append(i)\n",
    "        lossi.append(loss.item())\n",
    "        loglossi.append(loss.log10().item())\n",
    "        if i < 500:\n",
    "            loglossiavg.append(loss.log10().item())\n",
    "        else:\n",
    "            loglossiavg.append(mean(loglossi[-100:]))\n",
    "        if i % 1000 == 0:\n",
    "            pbar.set_description(\"LR: %0.4f Loss %0.4f\" % (lr, mean(lossi[-500:])))\n",
    "            with torch.no_grad():\n",
    "                ud.append([(lr*p.grad.std() / p.data.std()).log().item() for p in model.parameters()])\n",
    "        #if i >= 10000:\n",
    "        #    break\n"
   ]
  },
  {
   "cell_type": "code",
   "execution_count": 219,
   "metadata": {},
   "outputs": [
    {
     "data": {
      "text/plain": [
       "[<matplotlib.lines.Line2D at 0x150cb5f90>]"
      ]
     },
     "execution_count": 219,
     "metadata": {},
     "output_type": "execute_result"
    },
    {
     "data": {
      "image/png": "[encoded data removed]",
      "text/plain": [
       "<Figure size 640x480 with 1 Axes>"
      ]
     },
     "metadata": {},
     "output_type": "display_data"
    }
   ],
   "source": [
    "plt.plot(loglossiavg)"
   ]
  },
  {
   "attachments": {},
   "cell_type": "markdown",
   "metadata": {},
   "source": [
    "# View Training Results"
   ]
  },
  {
   "cell_type": "code",
   "execution_count": 220,
   "metadata": {},
   "outputs": [
    {
     "name": "stdout",
     "output_type": "stream",
     "text": [
      "{'MINI_BATCH_SZ': 128, 'CONTEXT_SZ': 3, 'EMBED_SZ': 10, 'HIDDEN_LAYER_SZ': 200, 'num_parameters': 173724}\n",
      "Xtr loss: 2.0204\n",
      "Xdev loss: 2.0898\n"
     ]
    }
   ],
   "source": [
    "print({\n",
    "    'MINI_BATCH_SZ': MINI_BATCH_SZ,\n",
    "    'CONTEXT_SZ': CONTEXT_SZ,\n",
    "    'EMBED_SZ': EMBED_SZ,\n",
    "    'HIDDEN_LAYER_SZ': HIDDEN_LAYER_SZ,\n",
    "    'num_parameters': sum(p.nelement() for p in model.parameters()),\n",
    "})\n",
    "\n",
    "for l in model.layers.layers:\n",
    "    l.training = False\n",
    "\n",
    "with torch.no_grad():\n",
    "    xtr_loss = F.cross_entropy(model.forward_pass(Xtr), Ytr)\n",
    "    print(f\"Xtr loss: {xtr_loss:0.4f}\")\n",
    "\n",
    "    xdev_loss = F.cross_entropy(model.forward_pass(Xdev), Ydev)\n",
    "    print(f\"Xdev loss: {xdev_loss:0.4f}\")"
   ]
  },
  {
   "attachments": {},
   "cell_type": "markdown",
   "metadata": {},
   "source": [
    "# Sample"
   ]
  },
  {
   "cell_type": "code",
   "execution_count": 221,
   "metadata": {},
   "outputs": [
    {
     "name": "stdout",
     "output_type": "stream",
     "text": [
      "josson.\n",
      "hariyah.\n",
      "lan.\n",
      "harmiyah.\n",
      "taree.\n",
      "marance.\n",
      "zyondraispoojuandose.\n",
      "love.\n",
      "coaylon.\n",
      "jal.\n",
      "kier.\n",
      "ella.\n",
      "rija.\n",
      "omari.\n",
      "keyya.\n",
      "mer.\n",
      "maiah.\n",
      "jamar.\n",
      "andraina.\n",
      "jennell.\n"
     ]
    }
   ],
   "source": [
    "\n",
    "for l in model.layers.layers:\n",
    "    l.training = False\n",
    "\n",
    "for _ in range(20):\n",
    "    out = []\n",
    "    context = [0] * CONTEXT_SZ\n",
    "    while True:\n",
    "        x = torch.tensor([context])\n",
    "        logits = model.forward_pass(x)\n",
    "\n",
    "        # Make logits sum to 1\n",
    "        probs = F.softmax(logits, dim=1)\n",
    "\n",
    "        # Sample from probabilities\n",
    "        ix = torch.multinomial(probs, num_samples=1, generator=g).item()\n",
    "        context = context[1:] + [ix]\n",
    "        out.append(itos[ix])\n",
    "        if ix == 0:\n",
    "             break\n",
    "    print(''.join(out))"
   ]
  }
 ],
 "metadata": {
  "kernelspec": {
   "display_name": "venv",
   "language": "python",
   "name": "python3"
  },
  "language_info": {
   "codemirror_mode": {
    "name": "ipython",
    "version": 3
   },
   "file_extension": ".py",
   "mimetype": "text/x-python",
   "name": "python",
   "nbconvert_exporter": "python",
   "pygments_lexer": "ipython3",
   "version": "3.11.3"
  },
  "orig_nbformat": 4
 },
 "nbformat": 4,
 "nbformat_minor": 2
}
