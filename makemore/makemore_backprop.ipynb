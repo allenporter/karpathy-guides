{
 "cells": [
  {
   "cell_type": "code",
   "execution_count": 3,
   "metadata": {},
   "outputs": [],
   "source": [
    "import matplotlib.pyplot as plt\n",
    "%matplotlib inline"
   ]
  },
  {
   "cell_type": "code",
   "execution_count": 4,
   "metadata": {},
   "outputs": [
    {
     "data": {
      "text/plain": [
       "32033"
      ]
     },
     "execution_count": 4,
     "metadata": {},
     "output_type": "execute_result"
    }
   ],
   "source": [
    "with open('names.txt') as f:\n",
    "    content = f.read()\n",
    "    words = content.splitlines()\n",
    "len(words)"
   ]
  },
  {
   "cell_type": "code",
   "execution_count": 5,
   "metadata": {},
   "outputs": [],
   "source": [
    "chars = sorted(list(set(''.join(words))))\n",
    "stoi = { s: i+1 for i, s in enumerate(chars) }\n",
    "stoi['.'] = 0\n",
    "itos = { i: s for s, i in stoi.items() }\n",
    "vocab_size = len(itos)"
   ]
  },
  {
   "cell_type": "code",
   "execution_count": 6,
   "metadata": {},
   "outputs": [
    {
     "name": "stdout",
     "output_type": "stream",
     "text": [
      "torch.Size([182625, 5]) torch.Size([182625])\n",
      "torch.Size([22655, 5]) torch.Size([22655])\n",
      "torch.Size([22866, 5]) torch.Size([22866])\n"
     ]
    }
   ],
   "source": [
    "import torch\n",
    "\n",
    "# Build dataset splits\n",
    "def build_dataset(words: list[str], block_size: int) -> (torch.tensor, torch.tensor):\n",
    "    x, y = [], []\n",
    "    for w in words:\n",
    "        #print(w)\n",
    "        context = [0] * block_size\n",
    "        for ch in w + '.':\n",
    "            ix = stoi[ch]\n",
    "            x.append(context)\n",
    "            y.append(ix)\n",
    "            #print(''.join(itos[i] for i in context), \"--->\", ch)\n",
    "            # Advance the rolling window of context\n",
    "            context = context[1:] + [ix]\n",
    "    X = torch.tensor(x)\n",
    "    Y = torch.tensor(y)\n",
    "    print(X.shape, Y.shape)\n",
    "    return X, Y\n",
    "\n",
    "import random\n",
    "random.seed(42)\n",
    "random.shuffle(words)\n",
    "n1 = int(0.8*len(words))\n",
    "n2 = int(0.9*len(words))\n",
    "\n",
    "CONTEXT_SZ = 5\n",
    "Xtr, Ytr = build_dataset(words[:n1], CONTEXT_SZ)\n",
    "Xdev, Ydev = build_dataset(words[n1:n2], CONTEXT_SZ)\n",
    "Xte, Yte = build_dataset(words[n2:], CONTEXT_SZ)"
   ]
  },
  {
   "attachments": {},
   "cell_type": "markdown",
   "metadata": {},
   "source": [
    "# Model"
   ]
  },
  {
   "cell_type": "code",
   "execution_count": 8,
   "metadata": {},
   "outputs": [],
   "source": [
    "def cmp(s: label, dt: Any, t: torch.tensor) -> None:\n",
    "    \"\"\"Compre manual gradient calculation with our own calculation.\"\"\"\n",
    "    ex = torch.all(dt == t.grad).item()\n",
    "    app = torch.allclose(dt, t.grad)\n",
    "    maxdiff = (dt - t.grad).abs().max().item()\n",
    "    printf(f\"{s:15s} | exact: {str(ex):5s} | approx: {str(app):5s} | maxdiff: {maxdiff}\")"
   ]
  },
  {
   "cell_type": "code",
   "execution_count": 12,
   "metadata": {},
   "outputs": [],
   "source": [
    "from typing import Union\n",
    "\n",
    "class Linear:\n",
    "    \"\"\"A linear layer.\"\"\"\n",
    "\n",
    "    def __init__(\n",
    "        self,\n",
    "        fan_in: int,\n",
    "        fan_out: int,\n",
    "        generator: Union[torch.Generator, None] = None,\n",
    "        weight_gain: float | None = None,\n",
    "        bias_gain: float = 0.1,\n",
    "    ) -> None:\n",
    "        \"\"\"Initialize Linear.\"\"\"\n",
    "        if weight_gain is None:\n",
    "            weight_gain = (5/3) / (fan_in**0.5)\n",
    "        self.weight = torch.randn((fan_in, fan_out), generator=generator) * weight_gain\n",
    "        # Note: bias is spurious given we're using batch norm, but calculating anyway\n",
    "        self.bias = torch.randn(fan_out, generator=g) * bias_gain\n",
    "        self.out: Union[torch.tensor, None] = None\n",
    "\n",
    "    def __call__(self, x: torch.tensor) -> torch.tensor:\n",
    "        \"\"\"Forward pass\"\"\"\n",
    "        self.out = x @ self.weight + self.bias\n",
    "        return self.out\n",
    "\n",
    "    def parameters(self):\n",
    "        return [self.weight, self.bias]\n",
    "\n",
    "    def __str__(self) -> str:\n",
    "        return self.__class__.__name__\n",
    "\n",
    "\n",
    "class BatchNorm1d:\n",
    "    \"\"\"A batch normalization layer.\"\"\"\n",
    "\n",
    "    def __init__(self, dim: int, eps: float = 1e-5, momentum=0.001) -> None:\n",
    "        \"\"\"Initialize BatchNorm1d.\"\"\"\n",
    "        self.eps = eps\n",
    "        self.momentum = momentum\n",
    "        self.training = True\n",
    "        # Adds small random numbers to unmask gradient errors\n",
    "        self.bngain = torch.randn((1, dim)) * 0.1 + 1.0\n",
    "        self.bnbias = torch.randn((1, dim)) * 0.1\n",
    "        # Buffers, trained with a running momentum update\n",
    "        self.running_mean = torch.zeros((1, dim))\n",
    "        self.running_std = torch.ones((1, dim))\n",
    "        self.out: Union[torch.tensor, None] = None\n",
    "\n",
    "    def __call__(self, x: torch.tensor) -> torch.tensor:\n",
    "        \"\"\"Forward pass.\"\"\"\n",
    "        if not self.training:\n",
    "            xmean = self.running_mean\n",
    "            xstd = self.running_std\n",
    "        else:\n",
    "\n",
    "            xmean = x.mean(0, keepdim=True)\n",
    "            xstd = x.std(0, keepdim=True)\n",
    "\n",
    "            # Update buffers\n",
    "            with torch.no_grad():\n",
    "                self.running_mean = (1-self.momentum) * self.running_mean + self.momentum * xmean\n",
    "                self.running_std = (1-self.momentum) * self.running_std + self.momentum * xstd\n",
    "\n",
    "        # Preserve last value for statistics. TODO: We're not doing sqrt(xvar + eps) here. Fix?\n",
    "        self.out = self.bngain * (x - xmean) / (xstd + self.eps) + self.bnbias\n",
    "        return self.out\n",
    "\n",
    "    def parameters(self):\n",
    "        return [self.bngain, self.bnbias]\n",
    "\n",
    "    def __str__(self) -> str:\n",
    "        return self.__class__.__name__\n",
    "\n",
    "\n",
    "class Nonlinearity:\n",
    "    \"\"\"Nonlinearity.\"\"\"\n",
    "\n",
    "    def __init__(self) -> None:\n",
    "        \"\"\"Initialize Nonlinearity.\"\"\"\n",
    "        self.act = torch.nn.Tanh()\n",
    "        self.out: Union[torch.tensor, None] = None\n",
    "\n",
    "    def __call__(self, x: torch.tensor) -> torch.tensor:\n",
    "        \"\"\"Forward pass\"\"\"\n",
    "        self.out = self.act(x)\n",
    "        return self.out\n",
    "\n",
    "    def __str__(self) -> str:\n",
    "        return f\"{self.__class__.__name__}\"\n",
    "\n",
    "    def parameters(self):\n",
    "        return []"
   ]
  },
  {
   "cell_type": "code",
   "execution_count": 13,
   "metadata": {},
   "outputs": [],
   "source": [
    "class Model:\n",
    "\n",
    "    def __init__(self, vocab_size: int, generator: torch.Generator = None) -> None:\n",
    "        self.C = torch.randn((vocab_size, EMBED_SZ), generator=g)\n",
    "        self.layers = [\n",
    "            Linear(EMBED_SZ * CONTEXT_SZ, HIDDEN_LAYER_SZ, generator=g),\n",
    "            Nonlinearity(activation=activation),\n",
    "            BatchNorm1d(HIDDEN_LAYER_SZ),\n",
    "        ]\n",
    "\n",
    "        for layer in layers:\n",
    "            layer.training = True\n",
    "\n",
    "        # Reset parameters for training\n",
    "        for p in self.parameters():\n",
    "            p.requires_grad = True\n",
    "\n",
    "    def parameters(self):\n",
    "        return [self.C] + [p for layer in self.layers for p in layer.parameters()]\n",
    "\n",
    "    @property\n",
    "    def num_parameters(self) -> int:\n",
    "        \"\"\"Total number of parameters.\"\"\"\n",
    "        return sum(p.nelement() for p in self.parameters())\n",
    "\n",
    "    def forward_pass(self, x: torch.tensor) -> torch.tensor:\n",
    "        \"\"\"Forward pass.\"\"\"\n",
    "\n",
    "        emb = self.C[x] # (N, CONTEXT_SZ, 2)\n",
    "        xhat = emb.view(emb.shape[0], -1)  # concatenate the vectors\n",
    "\n",
    "        for layer in self.layers:\n",
    "            xhat = layer(xhat)\n",
    "\n",
    "        return xhat"
   ]
  }
 ],
 "metadata": {
  "kernelspec": {
   "display_name": "venv",
   "language": "python",
   "name": "python3"
  },
  "language_info": {
   "codemirror_mode": {
    "name": "ipython",
    "version": 3
   },
   "file_extension": ".py",
   "mimetype": "text/x-python",
   "name": "python",
   "nbconvert_exporter": "python",
   "pygments_lexer": "ipython3",
   "version": "3.11.3"
  },
  "orig_nbformat": 4
 },
 "nbformat": 4,
 "nbformat_minor": 2
}
