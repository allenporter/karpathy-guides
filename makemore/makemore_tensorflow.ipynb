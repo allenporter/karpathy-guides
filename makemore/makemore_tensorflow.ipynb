{
 "cells": [
  {
   "attachments": {},
   "cell_type": "markdown",
   "metadata": {},
   "source": [
    "# Dataset"
   ]
  },
  {
   "cell_type": "code",
   "execution_count": 2,
   "metadata": {},
   "outputs": [
    {
     "name": "stdout",
     "output_type": "stream",
     "text": [
      "Dataset size:  32033\n",
      "Smallest length:  2\n",
      "Largest length:  15\n",
      "Examples:  ['emma', 'olivia', 'ava', 'isabella', 'sophia', 'charlotte', 'mia', 'amelia', 'harper', 'evelyn']\n"
     ]
    }
   ],
   "source": [
    "with open('names.txt') as f:\n",
    "    content = f.read()\n",
    "    words = content.splitlines()\n",
    "\n",
    "print(\"Dataset size: \", len(words))\n",
    "print(\"Smallest length: \", min(len(w) for w in words))\n",
    "print(\"Largest length: \", max(len(w) for w in words))\n",
    "print(\"Examples: \", words[:10])"
   ]
  },
  {
   "attachments": {},
   "cell_type": "markdown",
   "metadata": {},
   "source": [
    "# Count bigrams using Tensorflow"
   ]
  },
  {
   "cell_type": "code",
   "execution_count": 16,
   "metadata": {},
   "outputs": [
    {
     "data": {
      "text/plain": [
       "<tf.Tensor: shape=(28, 28), dtype=int32, numpy=\n",
       "array([[ 556,  541,  470, 1042,  692,  134,  168, 2332, 1650,  175,  568,\n",
       "        2528, 1634, 5438,   63,   82,   60, 3264, 1118,  687,  381,  834,\n",
       "         161,  182, 2050,  435,    0, 6640],\n",
       "       [ 321,   38,    1,   65,  655,    0,    0,   41,  217,    1,    0,\n",
       "         103,    0,    4,  105,    0,    0,  842,    8,    2,   45,    0,\n",
       "           0,    0,   83,    0,    0,  114],\n",
       "       [ 815,    0,   42,    1,  551,    0,    2,  664,  271,    3,  316,\n",
       "         116,    0,    0,  380,    1,   11,   76,    5,   35,   35,    0,\n",
       "           0,    3,  104,    4,    0,   97],\n",
       "       [1303,    1,    3,  149, 1283,    5,   25,  118,  674,    9,    3,\n",
       "          60,   30,   31,  378,    0,    1,  424,   29,    4,   92,   17,\n",
       "          23,    0,  317,    1,    0,  516],\n",
       "       [ 679,  121,  153,  384, 1271,   82,  125,  152,  818,   55,  178,\n",
       "        3248,  769, 2675,  269,   83,   14, 1958,  861,  580,   69,  463,\n",
       "          50,  132, 1070,  181,    0, 3983],\n",
       "       [ 242,    0,    0,    0,  123,   44,    1,    1,  160,    0,    2,\n",
       "          20,    0,    4,   60,    0,    0,  114,    6,   18,   10,    0,\n",
       "           4,    0,   14,    2,    0,   80],\n",
       "       [ 330,    3,    0,   19,  334,    1,   25,  360,  190,    3,    0,\n",
       "          32,    6,   27,   83,    0,    0,  201,   30,   31,   85,    1,\n",
       "          26,    0,   31,    1,    0,  108],\n",
       "       [2244,    8,    2,   24,  674,    2,    2,    1,  729,    9,   29,\n",
       "         185,  117,  138,  287,    1,    1,  204,   31,   71,  166,   39,\n",
       "          10,    0,  213,   20,    0, 2409],\n",
       "       [2445,  110,  509,  440, 1653,  101,  428,   95,   82,   76,  445,\n",
       "        1345,  427, 2126,  588,   53,   52,  849, 1316,  541,  109,  269,\n",
       "           8,   89,  779,  277,    0, 2489],\n",
       "       [1473,    1,    4,    4,  440,    0,    0,   45,  119,    2,    2,\n",
       "           9,    5,    2,  479,    1,    0,   11,    7,    2,  202,    5,\n",
       "           6,    0,   10,    0,    0,   71],\n",
       "       [1731,    2,    2,    2,  895,    1,    0,  307,  509,    2,   20,\n",
       "         139,    9,   26,  344,    0,    0,  109,   95,   17,   50,    2,\n",
       "          34,    0,  379,    2,    0,  363],\n",
       "       [2623,   52,   25,  138, 2921,   22,    6,   19, 2480,    6,   24,\n",
       "        1345,   60,   14,  692,   15,    3,   18,   94,   77,  324,   72,\n",
       "          16,    0, 1588,   10,    0, 1314],\n",
       "       [2590,  112,   51,   24,  818,    1,    0,    5, 1256,    7,    1,\n",
       "           5,  168,   20,  452,   38,    0,   97,   35,    4,  139,    3,\n",
       "           2,    0,  287,   11,    0,  516],\n",
       "       [2977,    8,  213,  704, 1359,   11,  273,   26, 1725,   44,   58,\n",
       "         195,   19, 1906,  496,    5,    2,   44,  278,  443,   96,   55,\n",
       "          11,    6,  465,  145,    0, 6763],\n",
       "       [ 149,  140,  114,  190,  132,   34,   44,  171,   69,   16,   68,\n",
       "         619,  261, 2411,  115,   95,    3, 1059,  504,  118,  275,  176,\n",
       "         114,   45,  103,   54,    0,  855],\n",
       "       [ 209,    2,    1,    0,  197,    1,    0,  204,   61,    1,    1,\n",
       "          16,    1,    1,   59,   39,    0,  151,   16,   17,    4,    0,\n",
       "           0,    0,   12,    0,    0,   33],\n",
       "       [  13,    0,    0,    0,    1,    0,    0,    0,   13,    0,    0,\n",
       "           1,    2,    0,    2,    0,    0,    1,    2,    0,  206,    0,\n",
       "           3,    0,    0,    0,    0,   28],\n",
       "       [2356,   41,   99,  187, 1697,    9,   76,  121, 3033,   25,   90,\n",
       "         413,  162,  140,  869,   14,   16,  425,  190,  208,  252,   80,\n",
       "          21,    3,  773,   23,    0, 1377],\n",
       "       [1201,   21,   60,    9,  884,    2,    2, 1285,  684,    2,   82,\n",
       "         279,   90,   24,  531,   51,    1,   55,  461,  765,  185,   14,\n",
       "          24,    0,  215,   10,    0, 1169],\n",
       "       [1027,    1,   17,    0,  716,    2,    2,  647,  532,    3,    0,\n",
       "         134,    4,   22,  667,    0,    0,  352,   35,  374,   78,   15,\n",
       "          11,    2,  341,  105,    0,  483],\n",
       "       [ 163,  103,  103,  136,  169,   19,   47,   58,  121,   14,   93,\n",
       "         301,  154,  275,   10,   16,   10,  414,  474,   82,    3,   37,\n",
       "          86,   34,   13,   45,    0,  155],\n",
       "       [ 642,    1,    0,    1,  568,    0,    0,    1,  911,    0,    3,\n",
       "          14,    0,    8,  153,    0,    0,   48,    0,    0,    7,    7,\n",
       "           0,    0,  121,    0,    0,   88],\n",
       "       [ 280,    1,    0,    8,  149,    2,    1,   23,  148,    0,    6,\n",
       "          13,    2,   58,   36,    0,    0,   22,   20,    8,   25,    0,\n",
       "           2,    0,   73,    1,    0,   51],\n",
       "       [ 103,    1,    4,    5,   36,    3,    0,    1,  102,    0,    0,\n",
       "          39,    1,    1,   41,    0,    0,    0,   31,   70,    5,    0,\n",
       "           3,   38,   30,   19,    0,  164],\n",
       "       [2143,   27,  115,  272,  301,   12,   30,   22,  192,   23,   86,\n",
       "        1104,  148, 1826,  271,   15,    6,  291,  401,  104,  141,  106,\n",
       "           4,   28,   23,   78,    0, 2007],\n",
       "       [ 860,    4,    2,    2,  373,    0,    1,   43,  364,    2,    2,\n",
       "         123,   35,    4,  110,    2,    0,   32,    4,    4,   73,    2,\n",
       "           3,    1,  147,   45,    0,  160],\n",
       "       [4410, 1306, 1542, 1690, 1531,  417,  669,  874,  591, 2422, 2963,\n",
       "        1572, 2538, 1146,  394,  515,   92, 1639, 2055, 1308,   78,  376,\n",
       "         307,  134,  535,  929,    0,    0],\n",
       "       [   0,    0,    0,    0,    0,    0,    0,    0,    0,    0,    0,\n",
       "           0,    0,    0,    0,    0,    0,    0,    0,    0,    0,    0,\n",
       "           0,    0,    0,    0,    0,    0]], dtype=int32)>"
      ]
     },
     "execution_count": 16,
     "metadata": {},
     "output_type": "execute_result"
    }
   ],
   "source": [
    "import numpy as np\n",
    "import tensorflow.keras.backend as K\n",
    "\n",
    "# Use tensors to capture the frequency of bigrams. First lets determine the characters\n",
    "# in the dataset used as offsets within the tensor.\n",
    "\n",
    "START = '<S>'\n",
    "END = '<E>'\n",
    "chars = sorted(list(set(''.join(words))))\n",
    "stoi = { s: i for i, s in enumerate(chars) }\n",
    "stoi[START] = 26\n",
    "stoi[END] = 27\n",
    "\n",
    "C = np.zeros([len(stoi), len(stoi)], dtype=np.int32)\n",
    "for w in words:\n",
    "    chs = [START]  + list(w) + [END]\n",
    "    for ch1, ch2 in zip(chs, chs[1:]):\n",
    "        C[stoi[ch1], stoi[ch2]] +=1\n",
    "\n",
    "N = tf.constant(N)\n"
   ]
  },
  {
   "cell_type": "code",
   "execution_count": 17,
   "metadata": {},
   "outputs": [
    {
     "data": {
      "text/plain": [
       "<matplotlib.image.AxesImage at 0x2aba2cb90>"
      ]
     },
     "execution_count": 17,
     "metadata": {},
     "output_type": "execute_result"
    },
    {
     "data": {
      "image/png": "[encoded data removed]",
      "text/plain": [
       "<Figure size 640x480 with 1 Axes>"
      ]
     },
     "metadata": {},
     "output_type": "display_data"
    }
   ],
   "source": [
    "import matplotlib.pyplot as plt\n",
    "%matplotlib inline\n",
    "\n",
    "plt.imshow(N)"
   ]
  }
 ],
 "metadata": {
  "kernelspec": {
   "display_name": "venv",
   "language": "python",
   "name": "python3"
  },
  "language_info": {
   "codemirror_mode": {
    "name": "ipython",
    "version": 3
   },
   "file_extension": ".py",
   "mimetype": "text/x-python",
   "name": "python",
   "nbconvert_exporter": "python",
   "pygments_lexer": "ipython3",
   "version": "3.11.1"
  },
  "orig_nbformat": 4
 },
 "nbformat": 4,
 "nbformat_minor": 2
}
