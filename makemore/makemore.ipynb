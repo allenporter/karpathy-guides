{
 "cells": [
  {
   "attachments": {},
   "cell_type": "markdown",
   "metadata": {},
   "source": [
    "# Dataset"
   ]
  },
  {
   "cell_type": "code",
   "execution_count": 7,
   "metadata": {},
   "outputs": [
    {
     "name": "stdout",
     "output_type": "stream",
     "text": [
      "Dataset size:  32033\n",
      "Smallest length:  2\n",
      "Largest length:  15\n",
      "Examples:  ['emma', 'olivia', 'ava', 'isabella', 'sophia', 'charlotte', 'mia', 'amelia', 'harper', 'evelyn']\n"
     ]
    }
   ],
   "source": [
    "with open('names.txt') as f:\n",
    "    content = f.read()\n",
    "    words = content.splitlines()\n",
    "\n",
    "print(\"Dataset size: \", len(words))\n",
    "print(\"Smallest length: \", min(len(w) for w in words))\n",
    "print(\"Largest length: \", max(len(w) for w in words))\n",
    "print(\"Examples: \", words[:10])"
   ]
  },
  {
   "attachments": {},
   "cell_type": "markdown",
   "metadata": {},
   "source": [
    "# Examining & Counting Bigrams"
   ]
  },
  {
   "cell_type": "code",
   "execution_count": 64,
   "metadata": {},
   "outputs": [],
   "source": [
    "freq: dict[tuple[str, str], int] = {}\n",
    "# Create bigrams of individual character pairs, including start and end. Keep\n",
    "# statistics about likelihood of pairs of one character following another\n",
    "for w in words:\n",
    "    chs = ['<S>']  + list(w) + ['<E>']\n",
    "    for ch1, ch2 in zip(chs, chs[1:]):\n",
    "        bigram = (ch1, ch2)\n",
    "        freq[bigram] = freq.get(bigram, 0) + 1"
   ]
  },
  {
   "cell_type": "code",
   "execution_count": 65,
   "metadata": {},
   "outputs": [
    {
     "data": {
      "text/plain": [
       "[(('n', '<E>'), 6763),\n",
       " (('a', '<E>'), 6640),\n",
       " (('a', 'n'), 5438),\n",
       " (('<S>', 'a'), 4410),\n",
       " (('e', '<E>'), 3983),\n",
       " (('a', 'r'), 3264),\n",
       " (('e', 'l'), 3248),\n",
       " (('r', 'i'), 3033),\n",
       " (('n', 'a'), 2977),\n",
       " (('<S>', 'k'), 2963)]"
      ]
     },
     "execution_count": 65,
     "metadata": {},
     "output_type": "execute_result"
    }
   ],
   "source": [
    "most_common = list(freq.items())\n",
    "most_common.sort(reverse=True, key=lambda kv: kv[1])\n",
    "most_common[:10]"
   ]
  },
  {
   "attachments": {},
   "cell_type": "markdown",
   "metadata": {},
   "source": [
    "# Count bigrams using Torch Tensors"
   ]
  },
  {
   "cell_type": "code",
   "execution_count": 70,
   "metadata": {},
   "outputs": [
    {
     "data": {
      "text/plain": [
       "tensor([[ 556,  541,  470, 1042,  692,  134,  168, 2332, 1650,  175,  568, 2528,\n",
       "         1634, 5438,   63,   82,   60, 3264, 1118,  687,  381,  834,  161,  182,\n",
       "         2050,  435,    0, 6640],\n",
       "        [ 321,   38,    1,   65,  655,    0,    0,   41,  217,    1,    0,  103,\n",
       "            0,    4,  105,    0,    0,  842,    8,    2,   45,    0,    0,    0,\n",
       "           83,    0,    0,  114],\n",
       "        [ 815,    0,   42,    1,  551,    0,    2,  664,  271,    3,  316,  116,\n",
       "            0,    0,  380,    1,   11,   76,    5,   35,   35,    0,    0,    3,\n",
       "          104,    4,    0,   97],\n",
       "        [1303,    1,    3,  149, 1283,    5,   25,  118,  674,    9,    3,   60,\n",
       "           30,   31,  378,    0,    1,  424,   29,    4,   92,   17,   23,    0,\n",
       "          317,    1,    0,  516],\n",
       "        [ 679,  121,  153,  384, 1271,   82,  125,  152,  818,   55,  178, 3248,\n",
       "          769, 2675,  269,   83,   14, 1958,  861,  580,   69,  463,   50,  132,\n",
       "         1070,  181,    0, 3983],\n",
       "        [ 242,    0,    0,    0,  123,   44,    1,    1,  160,    0,    2,   20,\n",
       "            0,    4,   60,    0,    0,  114,    6,   18,   10,    0,    4,    0,\n",
       "           14,    2,    0,   80],\n",
       "        [ 330,    3,    0,   19,  334,    1,   25,  360,  190,    3,    0,   32,\n",
       "            6,   27,   83,    0,    0,  201,   30,   31,   85,    1,   26,    0,\n",
       "           31,    1,    0,  108],\n",
       "        [2244,    8,    2,   24,  674,    2,    2,    1,  729,    9,   29,  185,\n",
       "          117,  138,  287,    1,    1,  204,   31,   71,  166,   39,   10,    0,\n",
       "          213,   20,    0, 2409],\n",
       "        [2445,  110,  509,  440, 1653,  101,  428,   95,   82,   76,  445, 1345,\n",
       "          427, 2126,  588,   53,   52,  849, 1316,  541,  109,  269,    8,   89,\n",
       "          779,  277,    0, 2489],\n",
       "        [1473,    1,    4,    4,  440,    0,    0,   45,  119,    2,    2,    9,\n",
       "            5,    2,  479,    1,    0,   11,    7,    2,  202,    5,    6,    0,\n",
       "           10,    0,    0,   71],\n",
       "        [1731,    2,    2,    2,  895,    1,    0,  307,  509,    2,   20,  139,\n",
       "            9,   26,  344,    0,    0,  109,   95,   17,   50,    2,   34,    0,\n",
       "          379,    2,    0,  363],\n",
       "        [2623,   52,   25,  138, 2921,   22,    6,   19, 2480,    6,   24, 1345,\n",
       "           60,   14,  692,   15,    3,   18,   94,   77,  324,   72,   16,    0,\n",
       "         1588,   10,    0, 1314],\n",
       "        [2590,  112,   51,   24,  818,    1,    0,    5, 1256,    7,    1,    5,\n",
       "          168,   20,  452,   38,    0,   97,   35,    4,  139,    3,    2,    0,\n",
       "          287,   11,    0,  516],\n",
       "        [2977,    8,  213,  704, 1359,   11,  273,   26, 1725,   44,   58,  195,\n",
       "           19, 1906,  496,    5,    2,   44,  278,  443,   96,   55,   11,    6,\n",
       "          465,  145,    0, 6763],\n",
       "        [ 149,  140,  114,  190,  132,   34,   44,  171,   69,   16,   68,  619,\n",
       "          261, 2411,  115,   95,    3, 1059,  504,  118,  275,  176,  114,   45,\n",
       "          103,   54,    0,  855],\n",
       "        [ 209,    2,    1,    0,  197,    1,    0,  204,   61,    1,    1,   16,\n",
       "            1,    1,   59,   39,    0,  151,   16,   17,    4,    0,    0,    0,\n",
       "           12,    0,    0,   33],\n",
       "        [  13,    0,    0,    0,    1,    0,    0,    0,   13,    0,    0,    1,\n",
       "            2,    0,    2,    0,    0,    1,    2,    0,  206,    0,    3,    0,\n",
       "            0,    0,    0,   28],\n",
       "        [2356,   41,   99,  187, 1697,    9,   76,  121, 3033,   25,   90,  413,\n",
       "          162,  140,  869,   14,   16,  425,  190,  208,  252,   80,   21,    3,\n",
       "          773,   23,    0, 1377],\n",
       "        [1201,   21,   60,    9,  884,    2,    2, 1285,  684,    2,   82,  279,\n",
       "           90,   24,  531,   51,    1,   55,  461,  765,  185,   14,   24,    0,\n",
       "          215,   10,    0, 1169],\n",
       "        [1027,    1,   17,    0,  716,    2,    2,  647,  532,    3,    0,  134,\n",
       "            4,   22,  667,    0,    0,  352,   35,  374,   78,   15,   11,    2,\n",
       "          341,  105,    0,  483],\n",
       "        [ 163,  103,  103,  136,  169,   19,   47,   58,  121,   14,   93,  301,\n",
       "          154,  275,   10,   16,   10,  414,  474,   82,    3,   37,   86,   34,\n",
       "           13,   45,    0,  155],\n",
       "        [ 642,    1,    0,    1,  568,    0,    0,    1,  911,    0,    3,   14,\n",
       "            0,    8,  153,    0,    0,   48,    0,    0,    7,    7,    0,    0,\n",
       "          121,    0,    0,   88],\n",
       "        [ 280,    1,    0,    8,  149,    2,    1,   23,  148,    0,    6,   13,\n",
       "            2,   58,   36,    0,    0,   22,   20,    8,   25,    0,    2,    0,\n",
       "           73,    1,    0,   51],\n",
       "        [ 103,    1,    4,    5,   36,    3,    0,    1,  102,    0,    0,   39,\n",
       "            1,    1,   41,    0,    0,    0,   31,   70,    5,    0,    3,   38,\n",
       "           30,   19,    0,  164],\n",
       "        [2143,   27,  115,  272,  301,   12,   30,   22,  192,   23,   86, 1104,\n",
       "          148, 1826,  271,   15,    6,  291,  401,  104,  141,  106,    4,   28,\n",
       "           23,   78,    0, 2007],\n",
       "        [ 860,    4,    2,    2,  373,    0,    1,   43,  364,    2,    2,  123,\n",
       "           35,    4,  110,    2,    0,   32,    4,    4,   73,    2,    3,    1,\n",
       "          147,   45,    0,  160],\n",
       "        [4410, 1306, 1542, 1690, 1531,  417,  669,  874,  591, 2422, 2963, 1572,\n",
       "         2538, 1146,  394,  515,   92, 1639, 2055, 1308,   78,  376,  307,  134,\n",
       "          535,  929,    0,    0],\n",
       "        [   0,    0,    0,    0,    0,    0,    0,    0,    0,    0,    0,    0,\n",
       "            0,    0,    0,    0,    0,    0,    0,    0,    0,    0,    0,    0,\n",
       "            0,    0,    0,    0]], dtype=torch.int32)"
      ]
     },
     "execution_count": 70,
     "metadata": {},
     "output_type": "execute_result"
    }
   ],
   "source": [
    "import torch\n",
    "\n",
    "# Use tensors to capture the frequency of bigrams. First lets determine the characters\n",
    "# in the dataset used as offsets within the tensor.\n",
    "\n",
    "START = '<S>'\n",
    "END = '<E>'\n",
    "\n",
    "chars = sorted(list(set(''.join(words))))\n",
    "stoi = { s: i for i, s in enumerate(chars) }\n",
    "stoi[START] = 26\n",
    "stoi[END] = 27\n",
    "\n",
    "N = torch.zeros(SZ, SZ, dtype=torch.int32)\n",
    "for w in words:\n",
    "    chs = [START]  + list(w) + [END]\n",
    "    for ch1, ch2 in zip(chs, chs[1:]):\n",
    "        N[stoi[ch1], stoi[ch2]] +=1"
   ]
  }
 ],
 "metadata": {
  "kernelspec": {
   "display_name": "venv",
   "language": "python",
   "name": "python3"
  },
  "language_info": {
   "codemirror_mode": {
    "name": "ipython",
    "version": 3
   },
   "file_extension": ".py",
   "mimetype": "text/x-python",
   "name": "python",
   "nbconvert_exporter": "python",
   "pygments_lexer": "ipython3",
   "version": "3.11.1"
  },
  "orig_nbformat": 4
 },
 "nbformat": 4,
 "nbformat_minor": 2
}
