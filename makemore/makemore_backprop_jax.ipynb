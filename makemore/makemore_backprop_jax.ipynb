{
 "cells": [
  {
   "cell_type": "code",
   "execution_count": 27,
   "metadata": {},
   "outputs": [],
   "source": [
    "from typing import Union, Any\n",
    "import matplotlib.pyplot as plt\n",
    "%matplotlib inline"
   ]
  },
  {
   "cell_type": "code",
   "execution_count": 28,
   "metadata": {},
   "outputs": [
    {
     "data": {
      "text/plain": [
       "32033"
      ]
     },
     "execution_count": 28,
     "metadata": {},
     "output_type": "execute_result"
    }
   ],
   "source": [
    "with open('names.txt') as f:\n",
    "    content = f.read()\n",
    "    words = content.splitlines()\n",
    "len(words)"
   ]
  },
  {
   "cell_type": "code",
   "execution_count": 29,
   "metadata": {},
   "outputs": [],
   "source": [
    "chars = sorted(list(set(''.join(words))))\n",
    "stoi = { s: i+1 for i, s in enumerate(chars) }\n",
    "stoi['.'] = 0\n",
    "itos = { i: s for s, i in stoi.items() }\n",
    "vocab_size = len(itos)"
   ]
  },
  {
   "cell_type": "code",
   "execution_count": 30,
   "metadata": {},
   "outputs": [
    {
     "name": "stdout",
     "output_type": "stream",
     "text": [
      "(182625, 3) (182625,)\n",
      "(22655, 3) (22655,)\n",
      "(22866, 3) (22866,)\n"
     ]
    }
   ],
   "source": [
    "import jax\n",
    "import jax.numpy as jnp\n",
    "\n",
    "# Build dataset splits\n",
    "def build_dataset(words: list[str], block_size: int) -> (jnp.array, jnp.array):\n",
    "    x, y = [], []\n",
    "    for w in words:\n",
    "        #print(w)\n",
    "        context = [0] * block_size\n",
    "        for ch in w + '.':\n",
    "            ix = stoi[ch]\n",
    "            x.append(context)\n",
    "            y.append(ix)\n",
    "            #print(''.join(itos[i] for i in context), \"--->\", ch)\n",
    "            # Advance the rolling window of context\n",
    "            context = context[1:] + [ix]\n",
    "    X = jnp.array(x)\n",
    "    Y = jnp.array(y)\n",
    "    print(X.shape, Y.shape)\n",
    "    return X, Y\n",
    "\n",
    "import random\n",
    "random.seed(42)\n",
    "random.shuffle(words)\n",
    "n1 = int(0.8*len(words))\n",
    "n2 = int(0.9*len(words))\n",
    "\n",
    "CONTEXT_SZ = 3\n",
    "Xtr, Ytr = build_dataset(words[:n1], CONTEXT_SZ)\n",
    "Xdev, Ydev = build_dataset(words[n1:n2], CONTEXT_SZ)\n",
    "Xte, Yte = build_dataset(words[n2:], CONTEXT_SZ)"
   ]
  },
  {
   "attachments": {},
   "cell_type": "markdown",
   "metadata": {},
   "source": [
    "# Model"
   ]
  },
  {
   "cell_type": "code",
   "execution_count": 31,
   "metadata": {},
   "outputs": [],
   "source": [
    "from flax import linen as nn\n",
    "\n",
    "EMBED_SZ = 24\n",
    "HIDDEN_LAYER_SZ = 128\n",
    "\n",
    "class Model(nn.Module):\n",
    "    \"\"\"Replicating makemore backprop with flax\"\"\"\n",
    "\n",
    "    vocab_size: int\n",
    "\n",
    "    def setup(self) -> None:\n",
    "        \"\"\"Assign submodules\"\"\"\n",
    "        self.embed = nn.Embed(vocab_size, EMBED_SZ)\n",
    "\n",
    "\n",
    "    @nn.compact\n",
    "    def __call__(self, x: jnp.array, train: bool) -> jnp.array:\n",
    "        \"\"\"Forward pass.\"\"\"\n",
    "        x = self.embed(x)\n",
    "        x = jnp.reshape(x, (x.shape[0], -1))\n",
    "\n",
    "        x = nn.Dense(HIDDEN_LAYER_SZ)(x)\n",
    "        x = nn.BatchNorm(use_running_average=not train)(x)\n",
    "        x = nn.leaky_relu(x)\n",
    "\n",
    "        x = nn.Dense(HIDDEN_LAYER_SZ)(x)\n",
    "        x = nn.BatchNorm(use_running_average=not train)(x)\n",
    "        x = nn.leaky_relu(x)\n",
    "\n",
    "        x = nn.Dense(HIDDEN_LAYER_SZ)(x)\n",
    "        x = nn.BatchNorm(use_running_average=not train)(x)\n",
    "        x = nn.leaky_relu(x)\n",
    "\n",
    "        x = nn.Dense(vocab_size)(x)\n",
    "        x = nn.BatchNorm(use_running_average=not train)(x)\n",
    "        return x\n"
   ]
  },
  {
   "cell_type": "code",
   "execution_count": 32,
   "metadata": {},
   "outputs": [
    {
     "name": "stdout",
     "output_type": "stream",
     "text": [
      "\n",
      "\u001b[3m                                                   Model Summary                                                   \u001b[0m\n",
      "┏━━━━━━━━━━━━━┳━━━━━━━━━━━┳━━━━━━━━━━━━━━━━━━┳━━━━━━━━━━━━━━━━━━━┳━━━━━━━━━━━━━━━━━━━━━━━━━━━┳━━━━━━━━━━━━━━━━━━━━┓\n",
      "┃\u001b[1m \u001b[0m\u001b[1mpath       \u001b[0m\u001b[1m \u001b[0m┃\u001b[1m \u001b[0m\u001b[1mmodule   \u001b[0m\u001b[1m \u001b[0m┃\u001b[1m \u001b[0m\u001b[1minputs          \u001b[0m\u001b[1m \u001b[0m┃\u001b[1m \u001b[0m\u001b[1moutputs          \u001b[0m\u001b[1m \u001b[0m┃\u001b[1m \u001b[0m\u001b[1mparams                   \u001b[0m\u001b[1m \u001b[0m┃\u001b[1m \u001b[0m\u001b[1mbatch_stats       \u001b[0m\u001b[1m \u001b[0m┃\n",
      "┡━━━━━━━━━━━━━╇━━━━━━━━━━━╇━━━━━━━━━━━━━━━━━━╇━━━━━━━━━━━━━━━━━━━╇━━━━━━━━━━━━━━━━━━━━━━━━━━━╇━━━━━━━━━━━━━━━━━━━━┩\n",
      "│             │ Model     │ - \u001b[2mint32\u001b[0m[128,3]   │ \u001b[2mfloat32\u001b[0m[128,27]   │                           │                    │\n",
      "│             │           │ - train: True    │                   │                           │                    │\n",
      "├─────────────┼───────────┼──────────────────┼───────────────────┼───────────────────────────┼────────────────────┤\n",
      "│ embed       │ Embed     │ \u001b[2mint32\u001b[0m[128,3]     │ \u001b[2mfloat32\u001b[0m[128,3,24] │ embedding: \u001b[2mfloat32\u001b[0m[27,24] │                    │\n",
      "│             │           │                  │                   │                           │                    │\n",
      "│             │           │                  │                   │ \u001b[1m648 \u001b[0m\u001b[1;2m(2.6 KB)\u001b[0m              │                    │\n",
      "├─────────────┼───────────┼──────────────────┼───────────────────┼───────────────────────────┼────────────────────┤\n",
      "│ Dense_0     │ Dense     │ \u001b[2mfloat32\u001b[0m[128,72]  │ \u001b[2mfloat32\u001b[0m[128,128]  │ bias: \u001b[2mfloat32\u001b[0m[128]        │                    │\n",
      "│             │           │                  │                   │ kernel: \u001b[2mfloat32\u001b[0m[72,128]   │                    │\n",
      "│             │           │                  │                   │                           │                    │\n",
      "│             │           │                  │                   │ \u001b[1m9,344 \u001b[0m\u001b[1;2m(37.4 KB)\u001b[0m           │                    │\n",
      "├─────────────┼───────────┼──────────────────┼───────────────────┼───────────────────────────┼────────────────────┤\n",
      "│ BatchNorm_0 │ BatchNorm │ \u001b[2mfloat32\u001b[0m[128,128] │ \u001b[2mfloat32\u001b[0m[128,128]  │ bias: \u001b[2mfloat32\u001b[0m[128]        │ mean: \u001b[2mfloat32\u001b[0m[128] │\n",
      "│             │           │                  │                   │ scale: \u001b[2mfloat32\u001b[0m[128]       │ var: \u001b[2mfloat32\u001b[0m[128]  │\n",
      "│             │           │                  │                   │                           │                    │\n",
      "│             │           │                  │                   │ \u001b[1m256 \u001b[0m\u001b[1;2m(1.0 KB)\u001b[0m              │ \u001b[1m256 \u001b[0m\u001b[1;2m(1.0 KB)\u001b[0m       │\n",
      "├─────────────┼───────────┼──────────────────┼───────────────────┼───────────────────────────┼────────────────────┤\n",
      "│ Dense_1     │ Dense     │ \u001b[2mfloat32\u001b[0m[128,128] │ \u001b[2mfloat32\u001b[0m[128,128]  │ bias: \u001b[2mfloat32\u001b[0m[128]        │                    │\n",
      "│             │           │                  │                   │ kernel: \u001b[2mfloat32\u001b[0m[128,128]  │                    │\n",
      "│             │           │                  │                   │                           │                    │\n",
      "│             │           │                  │                   │ \u001b[1m16,512 \u001b[0m\u001b[1;2m(66.0 KB)\u001b[0m          │                    │\n",
      "├─────────────┼───────────┼──────────────────┼───────────────────┼───────────────────────────┼────────────────────┤\n",
      "│ BatchNorm_1 │ BatchNorm │ \u001b[2mfloat32\u001b[0m[128,128] │ \u001b[2mfloat32\u001b[0m[128,128]  │ bias: \u001b[2mfloat32\u001b[0m[128]        │ mean: \u001b[2mfloat32\u001b[0m[128] │\n",
      "│             │           │                  │                   │ scale: \u001b[2mfloat32\u001b[0m[128]       │ var: \u001b[2mfloat32\u001b[0m[128]  │\n",
      "│             │           │                  │                   │                           │                    │\n",
      "│             │           │                  │                   │ \u001b[1m256 \u001b[0m\u001b[1;2m(1.0 KB)\u001b[0m              │ \u001b[1m256 \u001b[0m\u001b[1;2m(1.0 KB)\u001b[0m       │\n",
      "├─────────────┼───────────┼──────────────────┼───────────────────┼───────────────────────────┼────────────────────┤\n",
      "│ Dense_2     │ Dense     │ \u001b[2mfloat32\u001b[0m[128,128] │ \u001b[2mfloat32\u001b[0m[128,128]  │ bias: \u001b[2mfloat32\u001b[0m[128]        │                    │\n",
      "│             │           │                  │                   │ kernel: \u001b[2mfloat32\u001b[0m[128,128]  │                    │\n",
      "│             │           │                  │                   │                           │                    │\n",
      "│             │           │                  │                   │ \u001b[1m16,512 \u001b[0m\u001b[1;2m(66.0 KB)\u001b[0m          │                    │\n",
      "├─────────────┼───────────┼──────────────────┼───────────────────┼───────────────────────────┼────────────────────┤\n",
      "│ BatchNorm_2 │ BatchNorm │ \u001b[2mfloat32\u001b[0m[128,128] │ \u001b[2mfloat32\u001b[0m[128,128]  │ bias: \u001b[2mfloat32\u001b[0m[128]        │ mean: \u001b[2mfloat32\u001b[0m[128] │\n",
      "│             │           │                  │                   │ scale: \u001b[2mfloat32\u001b[0m[128]       │ var: \u001b[2mfloat32\u001b[0m[128]  │\n",
      "│             │           │                  │                   │                           │                    │\n",
      "│             │           │                  │                   │ \u001b[1m256 \u001b[0m\u001b[1;2m(1.0 KB)\u001b[0m              │ \u001b[1m256 \u001b[0m\u001b[1;2m(1.0 KB)\u001b[0m       │\n",
      "├─────────────┼───────────┼──────────────────┼───────────────────┼───────────────────────────┼────────────────────┤\n",
      "│ Dense_3     │ Dense     │ \u001b[2mfloat32\u001b[0m[128,128] │ \u001b[2mfloat32\u001b[0m[128,27]   │ bias: \u001b[2mfloat32\u001b[0m[27]         │                    │\n",
      "│             │           │                  │                   │ kernel: \u001b[2mfloat32\u001b[0m[128,27]   │                    │\n",
      "│             │           │                  │                   │                           │                    │\n",
      "│             │           │                  │                   │ \u001b[1m3,483 \u001b[0m\u001b[1;2m(13.9 KB)\u001b[0m           │                    │\n",
      "├─────────────┼───────────┼──────────────────┼───────────────────┼───────────────────────────┼────────────────────┤\n",
      "│ BatchNorm_3 │ BatchNorm │ \u001b[2mfloat32\u001b[0m[128,27]  │ \u001b[2mfloat32\u001b[0m[128,27]   │ bias: \u001b[2mfloat32\u001b[0m[27]         │ mean: \u001b[2mfloat32\u001b[0m[27]  │\n",
      "│             │           │                  │                   │ scale: \u001b[2mfloat32\u001b[0m[27]        │ var: \u001b[2mfloat32\u001b[0m[27]   │\n",
      "│             │           │                  │                   │                           │                    │\n",
      "│             │           │                  │                   │ \u001b[1m54 \u001b[0m\u001b[1;2m(216 B)\u001b[0m                │ \u001b[1m54 \u001b[0m\u001b[1;2m(216 B)\u001b[0m         │\n",
      "├─────────────┼───────────┼──────────────────┼───────────────────┼───────────────────────────┼────────────────────┤\n",
      "│\u001b[1m \u001b[0m\u001b[1m           \u001b[0m\u001b[1m \u001b[0m│\u001b[1m \u001b[0m\u001b[1m         \u001b[0m\u001b[1m \u001b[0m│\u001b[1m \u001b[0m\u001b[1m                \u001b[0m\u001b[1m \u001b[0m│\u001b[1m \u001b[0m\u001b[1m            Total\u001b[0m\u001b[1m \u001b[0m│\u001b[1m \u001b[0m\u001b[1m47,321 \u001b[0m\u001b[1;2m(189.3 KB)\u001b[0m\u001b[1m        \u001b[0m\u001b[1m \u001b[0m│\u001b[1m \u001b[0m\u001b[1m822 \u001b[0m\u001b[1;2m(3.3 KB)\u001b[0m\u001b[1m      \u001b[0m\u001b[1m \u001b[0m│\n",
      "└─────────────┴───────────┴──────────────────┴───────────────────┴───────────────────────────┴────────────────────┘\n",
      "\u001b[1m                                                                                                                   \u001b[0m\n",
      "\u001b[1m                                        Total Parameters: 48,143 \u001b[0m\u001b[1;2m(192.6 KB)\u001b[0m\u001b[1m                                        \u001b[0m\n",
      "\n",
      "\n"
     ]
    }
   ],
   "source": [
    "\n",
    "MINI_BATCH_SZ = 128\n",
    "\n",
    "model = Model(vocab_size=vocab_size)\n",
    "\n",
    "\n",
    "def random_batch_index(key: jax.random.PRNGKey) -> jnp.array:\n",
    "    return jax.random.randint(subkey, shape=(MINI_BATCH_SZ,), minval=0, maxval=Xtr.shape[0])\n",
    "\n",
    "\n",
    "key = jax.random.PRNGKey(0)\n",
    "key, subkey = jax.random.split(key)\n",
    "ix = random_batch_index(subkey)\n",
    "Xb, Yb = Xtr[ix], Ytr[ix]\n",
    "\n",
    "print(model.tabulate(subkey, Xb, console_kwargs={'width': 120}, train=True))\n"
   ]
  },
  {
   "cell_type": "code",
   "execution_count": 33,
   "metadata": {},
   "outputs": [
    {
     "name": "stderr",
     "output_type": "stream",
     "text": [
      "LR: 0.00001, Loss 1.9264: 100%|██████████| 120000/120000 [04:35<00:00, 434.79it/s]\n"
     ]
    }
   ],
   "source": [
    "from statistics import mean\n",
    "#from tqdm.notebook import tqdm\n",
    "from tqdm import tqdm\n",
    "from clu import metrics\n",
    "from flax.training import train_state  # Useful dataclass to keep train state\n",
    "from flax import struct                # Flax dataclasses\n",
    "import optax                           # Common loss functions and optimizers\n",
    "from collections.abc import Callable\n",
    "\n",
    "\n",
    "@struct.dataclass\n",
    "class Metrics(metrics.Collection):\n",
    "    accuracy: metrics.Accuracy\n",
    "    loss: metrics.Average.from_output('loss')\n",
    "\n",
    "\n",
    "class TrainState(train_state.TrainState):\n",
    "    metrics: Metrics\n",
    "    batch_stats: Any\n",
    "\n",
    "\n",
    "def create_train_state(\n",
    "        module: nn.Module,\n",
    "        rng: jax.random.PRNGKey,\n",
    "        data: jnp.array,\n",
    "        tx: optax.GradientTransformation,\n",
    ") -> TrainState:\n",
    "    \"\"\"Creates an initial `TrainState`.\"\"\"\n",
    "    init = module.init(rng, data, train=True)\n",
    "    return TrainState.create(\n",
    "        apply_fn=module.apply,\n",
    "        params=init['params'],\n",
    "        tx=tx,\n",
    "        batch_stats=init['batch_stats'],\n",
    "        metrics=Metrics.empty(),\n",
    "    )\n",
    "\n",
    "@jax.jit\n",
    "def train_step(state, X, Y):\n",
    "    \"\"\"Train for a single step.\"\"\"\n",
    "\n",
    "    def loss_fn(params, batch_stats):\n",
    "        logits, updates = state.apply_fn(\n",
    "            {\n",
    "                'params': params,\n",
    "                'batch_stats': batch_stats\n",
    "            },\n",
    "            x=X,\n",
    "            train=True,\n",
    "            mutable=['batch_stats']\n",
    "        )\n",
    "        loss = optax.softmax_cross_entropy_with_integer_labels(\n",
    "            logits=logits,\n",
    "            labels=Y\n",
    "        ).mean()\n",
    "        return loss, (logits, updates)\n",
    "    \n",
    "    grad_fn = jax.value_and_grad(loss_fn, has_aux=True)\n",
    "    (loss, (logits, updates)), grads = grad_fn(state.params, state.batch_stats)\n",
    "    state = state.apply_gradients(grads=grads)\n",
    "    state = state.replace(batch_stats=updates['batch_stats'])\n",
    "    return state\n",
    "\n",
    "@jax.jit\n",
    "def compute_metrics(state, X, Y):\n",
    "    logits = state.apply_fn({\n",
    "        'params': state.params,\n",
    "        'batch_stats': state.batch_stats\n",
    "        }, x=X, train=False)\n",
    "    loss = optax.softmax_cross_entropy_with_integer_labels(\n",
    "            logits=logits,\n",
    "            labels=Y\n",
    "    ).mean()\n",
    "    metric_updates = state.metrics.single_from_model_output(\n",
    "        logits=logits,\n",
    "        labels=Y,\n",
    "        loss=loss\n",
    "    )\n",
    "    metrics = state.metrics.merge(metric_updates)\n",
    "    state = state.replace(metrics=metrics)\n",
    "    return state\n",
    "\n",
    "key, subkey = jax.random.split(key)\n",
    "ix = random_batch_index(subkey)\n",
    "Xb, Yb = Xtr[ix], Ytr[ix]\n",
    "\n",
    "\n",
    "steps = 120000\n",
    "schedule = optax.warmup_cosine_decay_schedule(\n",
    "    init_value=10**-1,\n",
    "    peak_value=10**-1,\n",
    "    warmup_steps=steps*0.40,\n",
    "    decay_steps=steps,\n",
    "    end_value=10**-5,\n",
    ")\n",
    "\n",
    "#learning_rate = 0.01\n",
    "momentum = 0.9\n",
    "#momentum = 0.001\n",
    "\n",
    "tx = optax.sgd(learning_rate=schedule, momentum=momentum)\n",
    "#tx = optax.adamw(learning_rate=schedule, weight_decay=momentum)\n",
    "\n",
    "\n",
    "key, subkey = jax.random.split(key)\n",
    "state = create_train_state(model, subkey, Xb, tx)\n",
    "\n",
    "num_steps_per_epoch = 1000\n",
    "metrics_history = {'train_loss': [],\n",
    "                   'train_logloss': [],\n",
    "                   'train_accuracy': []}\n",
    "\n",
    "pbar = tqdm(range(steps))\n",
    "for i in pbar:\n",
    "    # Calculate a single batch\n",
    "    key, subkey = jax.random.split(key)\n",
    "    ix = random_batch_index(subkey)\n",
    "    Xb, Yb = Xtr[ix], Ytr[ix]\n",
    "\n",
    "    # Run optimization steps over training batches and compute batch metrics\n",
    "    state = train_step(state, Xb, Yb) # get updated train state (which contains the updated parameters)\n",
    "    state = compute_metrics(state, Xb, Yb) # aggregate batch metrics\n",
    "\n",
    "    if (i+1) % num_steps_per_epoch == 0: # one training epoch has passed\n",
    "        met = state.metrics.compute()\n",
    "        for metric, value in met.items(): # compute metrics\n",
    "           metrics_history[f'train_{metric}'].append(value) # record metrics\n",
    "        metrics_history[\"train_logloss\"].append(jnp.log(met[\"loss\"]))\n",
    "        state = state.replace(metrics=state.metrics.empty()) # reset train_metrics for next training epoch\n",
    "        loss = metrics_history[\"train_loss\"]\n",
    "        if loss:\n",
    "            pbar.set_description(\"LR: %0.5f, Loss %0.4f\" % (schedule(i+1), loss[-1]))\n"
   ]
  },
  {
   "cell_type": "code",
   "execution_count": 34,
   "metadata": {},
   "outputs": [
    {
     "data": {
      "text/plain": [
       "[<matplotlib.lines.Line2D at 0x2ad17f750>]"
      ]
     },
     "execution_count": 34,
     "metadata": {},
     "output_type": "execute_result"
    },
    {
     "data": {
      "image/png": "[encoded data removed]",
      "text/plain": [
       "<Figure size 640x480 with 1 Axes>"
      ]
     },
     "metadata": {},
     "output_type": "display_data"
    }
   ],
   "source": [
    "plt.plot(metrics_history[\"train_logloss\"])"
   ]
  },
  {
   "cell_type": "code",
   "execution_count": 35,
   "metadata": {},
   "outputs": [
    {
     "data": {
      "text/plain": [
       "[<matplotlib.lines.Line2D at 0x2dddf0d90>]"
      ]
     },
     "execution_count": 35,
     "metadata": {},
     "output_type": "execute_result"
    },
    {
     "data": {
      "image/png": "[encoded data removed]",
      "text/plain": [
       "<Figure size 640x480 with 1 Axes>"
      ]
     },
     "metadata": {},
     "output_type": "display_data"
    }
   ],
   "source": [
    "plt.plot([ schedule(i) for i in range(0, steps, int(steps/1000)) ])"
   ]
  },
  {
   "attachments": {},
   "cell_type": "markdown",
   "metadata": {},
   "source": [
    "# View Results"
   ]
  },
  {
   "cell_type": "code",
   "execution_count": 36,
   "metadata": {},
   "outputs": [
    {
     "name": "stdout",
     "output_type": "stream",
     "text": [
      "{'MINI_BATCH_SZ': 128, 'CONTEXT_SZ': 3, 'EMBED_SZ': 24, 'HIDDEN_LAYER_SZ': 128}\n",
      "Xtr loss: 1.9249\n",
      "Xdev loss: 2.0769\n"
     ]
    }
   ],
   "source": [
    "print({\n",
    "    'MINI_BATCH_SZ': MINI_BATCH_SZ,\n",
    "    'CONTEXT_SZ': CONTEXT_SZ,\n",
    "    'EMBED_SZ': EMBED_SZ,\n",
    "    'HIDDEN_LAYER_SZ': HIDDEN_LAYER_SZ,\n",
    "})\n",
    "\n",
    "logits = state.apply_fn({\n",
    "    'params': state.params,\n",
    "    'batch_stats': state.batch_stats\n",
    "    }, x=Xtr, train=False)\n",
    "xtr_loss = optax.softmax_cross_entropy_with_integer_labels(\n",
    "    logits=logits, labels=Ytr).mean()\n",
    "print(f\"Xtr loss: {xtr_loss:0.4f}\")\n",
    "\n",
    "logits = state.apply_fn({\n",
    "    'params': state.params,\n",
    "    'batch_stats': state.batch_stats\n",
    "    }, x=Xdev, train=False)\n",
    "xdev_loss = optax.softmax_cross_entropy_with_integer_labels(\n",
    "    logits=logits, labels=Ydev).mean()\n",
    "print(f\"Xdev loss: {xdev_loss:0.4f}\")\n"
   ]
  },
  {
   "attachments": {},
   "cell_type": "markdown",
   "metadata": {},
   "source": [
    "# Sample from the model"
   ]
  },
  {
   "cell_type": "code",
   "execution_count": 37,
   "metadata": {},
   "outputs": [
    {
     "name": "stdout",
     "output_type": "stream",
     "text": [
      "ken.\n",
      "khaleigh.\n",
      "mark.\n",
      "rayson.\n",
      "kynleyianaldon.\n",
      "yianner.\n",
      "reckington.\n",
      "remernar.\n",
      "gursen.\n",
      "sammed.\n",
      "zacion.\n",
      "aarynn.\n",
      "obellissandrianoreon.\n",
      "callarius.\n",
      "lora.\n",
      "makhiri.\n",
      "gurneralynn.\n",
      "mazel.\n",
      "ttrevany.\n",
      "adin.\n"
     ]
    }
   ],
   "source": [
    "for _ in range(20):\n",
    "    out = []\n",
    "    context = [0] * CONTEXT_SZ\n",
    "    while True:\n",
    "        x = jnp.array([context])\n",
    "        logits = state.apply_fn({\n",
    "            'params': state.params,\n",
    "            'batch_stats': state.batch_stats\n",
    "            }, x=x, train=False)\n",
    "\n",
    "        # Sample from probabilities\n",
    "        key, subkey = jax.random.split(key)\n",
    "        ix = jax.random.categorical(subkey, logits, axis=1)[0]\n",
    "        context = context[1:] + [ix]\n",
    "        out.append(itos[int(ix)])\n",
    "        if ix == 0:\n",
    "            break\n",
    "    print(''.join(out))"
   ]
  },
  {
   "attachments": {},
   "cell_type": "markdown",
   "metadata": {},
   "source": [
    "# Results\n",
    "\n",
    "\n",
    "## Single Linear Layer\n",
    "\n",
    "```\n",
    "{'MINI_BATCH_SZ': 32, 'CONTEXT_SZ': 3, 'EMBED_SZ': 10, 'HIDDEN_LAYER_SZ': 64}\n",
    "Xtr loss: 2.1687\n",
    "Xdev loss: 2.1772\n",
    "```\n",
    "\n",
    "## Three Linear Layers\n",
    "\n",
    "```\n",
    "{'MINI_BATCH_SZ': 32, 'CONTEXT_SZ': 3, 'EMBED_SZ': 10, 'HIDDEN_LAYER_SZ': 64}\n",
    "Xtr loss: 2.1068\n",
    "Xdev loss: 2.1392\n",
    "```\n",
    "\n",
    "## Increased Layer Sizes\n",
    "\n",
    "```\n",
    "{'MINI_BATCH_SZ': 32, 'CONTEXT_SZ': 3, 'EMBED_SZ': 24, 'HIDDEN_LAYER_SZ': 128}\n",
    "Xtr loss: 2.0340\n",
    "Xdev loss: 2.1019\n",
    "```\n",
    "\n",
    "## Learning Rate Modifications\n",
    "\n",
    "{'MINI_BATCH_SZ': 32, 'CONTEXT_SZ': 3, 'EMBED_SZ': 24, 'HIDDEN_LAYER_SZ': 128}\n",
    "Xtr loss: 2.0940\n",
    "Xdev loss: 2.1264\n",
    "\n",
    "\n",
    "## Learning Rate Schedule and Batch Size\n",
    "\n",
    "The learning rate schedule is using `warmup_cosine_decay_schedule` and 120k steps,\n",
    "and `optax.sgd`.\n",
    "\n",
    "```\n",
    "{'MINI_BATCH_SZ': 128, 'CONTEXT_SZ': 3, 'EMBED_SZ': 24, 'HIDDEN_LAYER_SZ': 128}\n",
    "Xtr loss: 1.9259\n",
    "Xdev loss: 2.0883\n",
    "```\n",
    "\n",
    "## Add extra batch norm layer\n",
    "\n",
    "Added an extra batchnorm layer at the end of the network:\n",
    "\n",
    "```\n",
    "{'MINI_BATCH_SZ': 128, 'CONTEXT_SZ': 3, 'EMBED_SZ': 24, 'HIDDEN_LAYER_SZ': 128}\n",
    "Xtr loss: 1.9249\n",
    "Xdev loss: 2.0769\n",
    "```"
   ]
  },
  {
   "cell_type": "code",
   "execution_count": 38,
   "metadata": {},
   "outputs": [
    {
     "data": {
      "text/plain": [
       "[CpuDevice(id=0)]"
      ]
     },
     "execution_count": 38,
     "metadata": {},
     "output_type": "execute_result"
    }
   ],
   "source": [
    "jax.devices()"
   ]
  }
 ],
 "metadata": {
  "kernelspec": {
   "display_name": "venv",
   "language": "python",
   "name": "python3"
  },
  "language_info": {
   "codemirror_mode": {
    "name": "ipython",
    "version": 3
   },
   "file_extension": ".py",
   "mimetype": "text/x-python",
   "name": "python",
   "nbconvert_exporter": "python",
   "pygments_lexer": "ipython3",
   "version": "3.11.3"
  },
  "orig_nbformat": 4
 },
 "nbformat": 4,
 "nbformat_minor": 2
}
