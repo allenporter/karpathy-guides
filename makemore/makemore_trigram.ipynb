{
 "cells": [
  {
   "cell_type": "markdown",
   "metadata": {},
   "source": [
    "# Dataset"
   ]
  },
  {
   "cell_type": "code",
   "execution_count": 4,
   "metadata": {},
   "outputs": [
    {
     "name": "stdout",
     "output_type": "stream",
     "text": [
      "Dataset size:  32033\n",
      "Smallest length:  2\n",
      "Largest length:  15\n",
      "Examples:  ['emma', 'olivia', 'ava', 'isabella', 'sophia', 'charlotte', 'mia', 'amelia', 'harper', 'evelyn']\n"
     ]
    }
   ],
   "source": [
    "device = torch.device(\"mps\")\n",
    "\n",
    "with open('names.txt') as f:\n",
    "    content = f.read()\n",
    "    words = content.splitlines()\n",
    "\n",
    "print(\"Dataset size: \", len(words))\n",
    "print(\"Smallest length: \", min(len(w) for w in words))\n",
    "print(\"Largest length: \", max(len(w) for w in words))\n",
    "print(\"Examples: \", words[:10])"
   ]
  },
  {
   "cell_type": "code",
   "execution_count": 7,
   "metadata": {},
   "outputs": [],
   "source": [
    "import torch\n",
    "\n",
    "# Use tensors to capture the frequency of bigrams. First lets determine the characters\n",
    "# in the dataset used as offsets within the tensor.\n",
    "chars = sorted(list(set(''.join(words))))\n",
    "stoi = { s: i+1 for i, s in enumerate(chars) }\n",
    "stoi['.'] = 0\n",
    "itos = { i: s for s, i in stoi.items() }\n",
    "\n",
    "NUM_1D = len(stoi)\n",
    "NUM_CLASSES = NUM_1D * NUM_1D\n",
    "\n",
    "def compute_token(ch1: str, ch2: str) -> str:\n",
    "    return stoi[ch1] * NUM_1D + stoi[ch2]\n",
    "\n",
    "\n",
    "N = torch.zeros(NUM_CLASSES, NUM_1D, dtype=torch.int32)\n",
    "for w in words:\n",
    "    chs = ['.']  + list(w) + ['.']\n",
    "    for ch1, ch2, ch3 in zip(chs, chs[1:], chs[2:]):\n",
    "        input_token = compute_token(ch1, ch2)\n",
    "        N[input_token, stoi[ch3]] += 1\n",
    "\n",
    "N = N.to(device=device)\n"
   ]
  },
  {
   "cell_type": "code",
   "execution_count": 8,
   "metadata": {},
   "outputs": [
    {
     "data": {
      "text/plain": [
       "729"
      ]
     },
     "execution_count": 8,
     "metadata": {},
     "output_type": "execute_result"
    }
   ],
   "source": [
    "NUM_CLASSES"
   ]
  },
  {
   "cell_type": "markdown",
   "metadata": {},
   "source": [
    "# Training set of trigrams"
   ]
  },
  {
   "cell_type": "code",
   "execution_count": 10,
   "metadata": {},
   "outputs": [
    {
     "name": "stdout",
     "output_type": "stream",
     "text": [
      "number of examples:  228146\n"
     ]
    }
   ],
   "source": [
    "# Initialize the weights\n",
    "g = torch.Generator(device=device).manual_seed(2147483647)\n",
    "W = torch.randn((NUM_CLASSES, NUM_1D), generator=g, requires_grad=True, device=device)\n",
    "\n",
    "xs, ys = [], []\n",
    "for w in words:\n",
    "    chs = ['.', '.']  + list(w) + ['.']\n",
    "    for ch1, ch2, ch3 in zip(chs, chs[1:], chs[2:]):\n",
    "        input_token = compute_token(ch1, ch2)\n",
    "        ix3 = stoi[ch3]\n",
    "        xs.append(input_token)\n",
    "        ys.append(ix3)\n",
    "\n",
    "xs = torch.tensor(xs).to(device=device)\n",
    "ys = torch.tensor(ys).to(device=device)\n",
    "num = xs.nelement()\n",
    "print(\"number of examples: \", num)"
   ]
  },
  {
   "cell_type": "code",
   "execution_count": 11,
   "metadata": {},
   "outputs": [
    {
     "data": {
      "text/plain": [
       "torch.Size([729, 27])"
      ]
     },
     "execution_count": 11,
     "metadata": {},
     "output_type": "execute_result"
    }
   ],
   "source": [
    "W.shape"
   ]
  },
  {
   "cell_type": "code",
   "execution_count": 82,
   "metadata": {},
   "outputs": [
    {
     "data": {
      "text/plain": [
       "torch.Size([228146])"
      ]
     },
     "execution_count": 82,
     "metadata": {},
     "output_type": "execute_result"
    }
   ],
   "source": [
    "xs.shape\n"
   ]
  },
  {
   "cell_type": "code",
   "execution_count": 86,
   "metadata": {},
   "outputs": [
    {
     "data": {
      "text/plain": [
       "tensor([], device='mps:0', dtype=torch.int64)"
      ]
     },
     "execution_count": 86,
     "metadata": {},
     "output_type": "execute_result"
    }
   ],
   "source": [
    "xs[6:0]"
   ]
  },
  {
   "cell_type": "code",
   "execution_count": 97,
   "metadata": {},
   "outputs": [
    {
     "name": "stderr",
     "output_type": "stream",
     "text": [
      "STAGE:2024-08-04 23:15:00 38631:273768667 ActivityProfilerController.cpp:311] Completed Stage: Warm Up\n"
     ]
    },
    {
     "name": "stdout",
     "output_type": "stream",
     "text": [
      "2.2228968143463135\n",
      "2.222891330718994\n",
      "2.222885847091675\n",
      "2.2228801250457764\n",
      "2.222874641418457\n"
     ]
    },
    {
     "name": "stderr",
     "output_type": "stream",
     "text": [
      "STAGE:2024-08-04 23:15:02 38631:273768667 ActivityProfilerController.cpp:317] Completed Stage: Collection\n",
      "STAGE:2024-08-04 23:15:02 38631:273768667 ActivityProfilerController.cpp:321] Completed Stage: Post Processing\n"
     ]
    }
   ],
   "source": [
    "import random\n",
    "import torch.nn.functional as F\n",
    "from torch.profiler import profile, record_function, ProfilerActivity\n",
    "\n",
    "BATCH_SIZE = 128\n",
    "num_records = xs.shape[0]\n",
    "rang = torch.arange(num, device=device)\n",
    "\n",
    "with profile(activities=[ProfilerActivity.CPU], record_shapes=True) as prof:\n",
    "\n",
    "    for k in range(500):\n",
    "        batch_start = int(xs.shape[0] * random.random())        \n",
    "        batch = xs[batch_start:batch_start+BATCH_SIZE].to(device)\n",
    "        xenc = F.one_hot(xs, num_classes=NUM_CLASSES).float().to(device)\n",
    "\n",
    "        # Forward pass    \n",
    "        logits = (xenc @ W) # log counts\n",
    "        counts = logits.exp()  # equivalent N\n",
    "        probs = counts.div(counts.sum(1, keepdim=True))\n",
    "        # Add regularization loss\n",
    "        loss = -probs[rang, ys].log().mean() + 0.01 * (W**2).mean()\n",
    "        print(loss.item())\n",
    "\n",
    "        # Backward pass\n",
    "        W.grad = None\n",
    "        loss.backward()\n",
    "\n",
    "        # Update\n",
    "        W.data += -50 * W.grad\n"
   ]
  },
  {
   "cell_type": "code",
   "execution_count": 98,
   "metadata": {},
   "outputs": [
    {
     "name": "stdout",
     "output_type": "stream",
     "text": [
      "-------------------------------------------------------  ------------  ------------  ------------  ------------  ------------  ------------  \n",
      "                                                   Name    Self CPU %      Self CPU   CPU total %     CPU total  CPU time avg    # of Calls  \n",
      "-------------------------------------------------------  ------------  ------------  ------------  ------------  ------------  ------------  \n",
      "                                             aten::item         0.01%     199.000us        94.58%        2.548s      56.626ms            45  \n",
      "                              aten::_local_scalar_dense        94.56%        2.548s        94.57%        2.548s      56.621ms            45  \n",
      "                                               aten::mm         2.44%      65.719ms         2.44%      65.719ms       6.572ms            10  \n",
      "                                           aten::matmul         0.01%     180.000us         2.38%      63.991ms      12.798ms             5  \n",
      "                                          aten::one_hot         0.01%     139.000us         0.48%      13.020ms       2.604ms             5  \n",
      "                                         aten::scatter_         0.39%      10.596ms         0.45%      12.161ms       2.432ms             5  \n",
      "                                              aten::div         0.34%       9.047ms         0.34%       9.067ms     259.057us            35  \n",
      "                                              aten::mul         0.26%       7.095ms         0.27%       7.160ms     204.571us            35  \n",
      "      autograd::engine::evaluate_function: DivBackward0         0.01%     148.000us         0.25%       6.633ms       1.327ms             5  \n",
      "                                            aten::index         0.23%       6.101ms         0.23%       6.292ms       1.258ms             5  \n",
      "-------------------------------------------------------  ------------  ------------  ------------  ------------  ------------  ------------  \n",
      "Self CPU time total: 2.694s\n",
      "\n"
     ]
    }
   ],
   "source": [
    "print(prof.key_averages().table(sort_by=\"cpu_time_total\", row_limit=10))\n"
   ]
  },
  {
   "cell_type": "markdown",
   "metadata": {},
   "source": [
    "# Inference"
   ]
  },
  {
   "cell_type": "code",
   "execution_count": 99,
   "metadata": {},
   "outputs": [
    {
     "name": "stdout",
     "output_type": "stream",
     "text": [
      "daima.\n",
      "salon.\n",
      "ods.\n",
      "sy.\n",
      "jayascovann.\n"
     ]
    }
   ],
   "source": [
    "# This neural net is identical to the bigram model as above, but achieved through a different technique\n",
    "g = torch.Generator(device=device).manual_seed(2147483647)\n",
    "for i in range(5):\n",
    "    out = []\n",
    "    ix1, ix2 = '.', '.'\n",
    "    while True:\n",
    "        token = compute_token(ix1, ix2)\n",
    "        xenc = F.one_hot(torch.tensor([token]), num_classes=NUM_CLASSES).float().to(device)\n",
    "        logits = xenc @ W\n",
    "        counts = logits.exp()\n",
    "        p = counts / counts.sum(1, keepdim=True)\n",
    "        ix = torch.multinomial(p, num_samples=1, replacement=True, generator=g).item()\n",
    "        out.append(itos[ix])\n",
    "        if ix == 0:\n",
    "            break\n",
    "        ix1 = ix2\n",
    "        ix2 = itos[ix]\n",
    "    print(''.join(out))"
   ]
  }
 ],
 "metadata": {
  "kernelspec": {
   "display_name": "venv",
   "language": "python",
   "name": "python3"
  },
  "language_info": {
   "codemirror_mode": {
    "name": "ipython",
    "version": 3
   },
   "file_extension": ".py",
   "mimetype": "text/x-python",
   "name": "python",
   "nbconvert_exporter": "python",
   "pygments_lexer": "ipython3",
   "version": "3.11.3"
  }
 },
 "nbformat": 4,
 "nbformat_minor": 2
}
