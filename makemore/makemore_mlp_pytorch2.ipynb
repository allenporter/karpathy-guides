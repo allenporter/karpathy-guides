{
 "cells": [
  {
   "cell_type": "code",
   "execution_count": 2,
   "metadata": {},
   "outputs": [],
   "source": [
    "import matplotlib.pyplot as plt\n",
    "%matplotlib inline"
   ]
  },
  {
   "cell_type": "code",
   "execution_count": 3,
   "metadata": {},
   "outputs": [],
   "source": [
    "with open('names.txt') as f:\n",
    "    content = f.read()\n",
    "    words = content.splitlines()"
   ]
  },
  {
   "cell_type": "code",
   "execution_count": 4,
   "metadata": {},
   "outputs": [
    {
     "data": {
      "text/plain": [
       "32033"
      ]
     },
     "execution_count": 4,
     "metadata": {},
     "output_type": "execute_result"
    }
   ],
   "source": [
    "len(words)"
   ]
  },
  {
   "attachments": {},
   "cell_type": "markdown",
   "metadata": {},
   "source": [
    "# Preprocess the data"
   ]
  },
  {
   "cell_type": "code",
   "execution_count": 5,
   "metadata": {},
   "outputs": [],
   "source": [
    "chars = sorted(list(set(''.join(words))))\n",
    "stoi = { s: i+1 for i, s in enumerate(chars) }\n",
    "stoi['.'] = 0\n",
    "itos = { i: s for s, i in stoi.items() }\n",
    "vocab_size = len(itos)"
   ]
  },
  {
   "cell_type": "code",
   "execution_count": 6,
   "metadata": {},
   "outputs": [
    {
     "name": "stdout",
     "output_type": "stream",
     "text": [
      "torch.Size([182625, 5]) torch.Size([182625])\n",
      "torch.Size([22655, 5]) torch.Size([22655])\n",
      "torch.Size([22866, 5]) torch.Size([22866])\n"
     ]
    }
   ],
   "source": [
    "import torch\n",
    "\n",
    "# Build dataset splits\n",
    "def build_dataset(words: list[str], block_size: int) -> (torch.tensor, torch.tensor):\n",
    "    x, y = [], []\n",
    "    for w in words:\n",
    "        #print(w)\n",
    "        context = [0] * block_size\n",
    "        for ch in w + '.':\n",
    "            ix = stoi[ch]\n",
    "            x.append(context)\n",
    "            y.append(ix)\n",
    "            #print(''.join(itos[i] for i in context), \"--->\", ch)\n",
    "            # Advance the rolling window of context\n",
    "            context = context[1:] + [ix]\n",
    "    X = torch.tensor(x)\n",
    "    Y = torch.tensor(y)\n",
    "    print(X.shape, Y.shape)\n",
    "    return X, Y\n",
    "\n",
    "import random\n",
    "random.seed(42)\n",
    "random.shuffle(words)\n",
    "n1 = int(0.8*len(words))\n",
    "n2 = int(0.9*len(words))\n",
    "\n",
    "CONTEXT_SZ = 5\n",
    "Xtr, Ytr = build_dataset(words[:n1], CONTEXT_SZ)\n",
    "Xdev, Ydev = build_dataset(words[n1:n2], CONTEXT_SZ)\n",
    "Xte, Yte = build_dataset(words[n2:], CONTEXT_SZ)"
   ]
  },
  {
   "attachments": {},
   "cell_type": "markdown",
   "metadata": {},
   "source": [
    "# Model"
   ]
  },
  {
   "cell_type": "code",
   "execution_count": 47,
   "metadata": {},
   "outputs": [
    {
     "data": {
      "text/plain": [
       "19131"
      ]
     },
     "execution_count": 47,
     "metadata": {},
     "output_type": "execute_result"
    }
   ],
   "source": [
    "EMBED_SZ = 32\n",
    "HIDDEN_LAYER_SZ = 96\n",
    "activation = 'leaky_relu'  # relu\n",
    "\n",
    "g = torch.Generator().manual_seed(2147483647)\n",
    "C = torch.randn((vocab_size, EMBED_SZ), generator=g)\n",
    "\n",
    "# Kaiming init\n",
    "W1 = torch.randn((CONTEXT_SZ * EMBED_SZ, HIDDEN_LAYER_SZ), generator=g).abs()\n",
    "W1 = torch.nn.init.kaiming_normal_(W1, nonlinearity=activation)\n",
    "# Bias is disabled since we've added a batchnorm layer\n",
    "#b1 = torch.randn(HIDDEN_LAYER_SZ, generator=g) * 0.01\n",
    "\n",
    "W2 = torch.randn((HIDDEN_LAYER_SZ, vocab_size), generator=g) * 0.01\n",
    "b2 = torch.randn(vocab_size, generator=g) * 0\n",
    "\n",
    "# Batch normalizations\n",
    "bngain = torch.ones((1, HIDDEN_LAYER_SZ))\n",
    "bnbias = torch.zeros((1, HIDDEN_LAYER_SZ))\n",
    "\n",
    "parameters = [C, W1, b1, W2, b2, bngain, bnbias]\n",
    "\n",
    "# Reset parameters for training\n",
    "for p in parameters:\n",
    "    p.requires_grad = True\n",
    "\n",
    "bnmean_running = torch.zeros((1, HIDDEN_LAYER_SZ))\n",
    "bnstd_running = torch.ones((1, HIDDEN_LAYER_SZ))\n",
    "\n",
    "# Total number of parameters\n",
    "sum(p.nelement() for p in parameters)"
   ]
  },
  {
   "attachments": {},
   "cell_type": "markdown",
   "metadata": {},
   "source": [
    "# Training"
   ]
  },
  {
   "cell_type": "code",
   "execution_count": 60,
   "metadata": {},
   "outputs": [],
   "source": [
    "from typing import Union\n",
    "\n",
    "relu = torch.nn.LeakyReLU() if activation == 'leaky_relu' else torch.nn.ReLU()\n",
    "#relu = torch.tanh\n",
    "\n",
    "# Batch normalization momentum for running mean/stdev. Set based on batch size\n",
    "# based on how much thrashing seen w/ smaller batches\n",
    "momentum = 0.001\n",
    "\n",
    "def forward_pass(\n",
    "        x: torch.tensor,\n",
    "        bmean: Union[torch.tensor, None] = None,\n",
    "        bstd: Union[torch.tensor, None] = None,\n",
    "        stdize=False\n",
    ") -> torch.tensor:\n",
    "    \"\"\"Forward pass.\"\"\"\n",
    "    emb = C[x] # (N, CONTEXT_SZ, 2)\n",
    "    embcat = emb.view(emb.shape[0], -1)  # concatenate the vectors\n",
    "\n",
    "    # Linear layer\n",
    "    hpreact = embcat @ W1 # + b1  # Hidden layer pre-activation\n",
    "\n",
    "    # Batchnorm layer\n",
    "    if bmean is None:\n",
    "        bm = hpreact.mean(0, keepdim=True)\n",
    "        with torch.no_grad():\n",
    "            global bnmean_running\n",
    "            bnmean_running = (1-momentum) * bnmean_running + momentum * bm\n",
    "    else:\n",
    "        bm = bmean\n",
    "    if bstd is None:\n",
    "        bs = hpreact.std(0, keepdim=True)\n",
    "        with torch.no_grad():\n",
    "            global bnstd_running\n",
    "            bnstd_running = (1-momentum) * bnstd_running + momentum * bs\n",
    "    else:\n",
    "        bs = bstd\n",
    "    # TODO: Epsilon can go here\n",
    "    hpreact = bngain * (hpreact - bm) / bs + bnbias\n",
    "\n",
    "    # Non-linearity\n",
    "    h = relu(hpreact)  # hidden layer  # (N, HIDDEN_LAYER_SZ)\n",
    "    return h @ W2 + b2 # output layer (HIDDEN_LAYER_SZ, 27)"
   ]
  },
  {
   "cell_type": "code",
   "execution_count": 55,
   "metadata": {},
   "outputs": [
    {
     "name": "stderr",
     "output_type": "stream",
     "text": [
      "LR: 0.0000 Loss 1.9853: 100%|██████████| 150000/150000 [01:53<00:00, 1324.35it/s]\n"
     ]
    }
   ],
   "source": [
    "from statistics import mean\n",
    "from tqdm import tqdm\n",
    "from torch import nn\n",
    "from torch.nn import functional as F\n",
    "\n",
    "MINI_BATCH_SZ = 128\n",
    "\n",
    "# It doesn't make sense to step through the learning rate linearly. Instead, we'll\n",
    "# step through the exponents linearly.\n",
    "lre = torch.cat([-1 * torch.ones(100000), torch.linspace(-1, -5, steps=50000)])\n",
    "lrs = 10**lre\n",
    "#plt.plot(range(0, len(lrs)), lrs)\n",
    "\n",
    "lri = []\n",
    "lossi = []\n",
    "loglossi = []\n",
    "loglossiavg = []\n",
    "stepi = []\n",
    "\n",
    "pbar = tqdm(range(len(lrs)))\n",
    "for i in pbar:\n",
    "    # Mini batch\n",
    "    ix = torch.randint(0, Xtr.shape[0], (MINI_BATCH_SZ,), generator=g) # (MINI_BATCH_SZ)\n",
    "    Xb, Yb = Xtr[ix], Ytr[ix]\n",
    "\n",
    "    if i == 0:\n",
    "        with torch.no_grad():\n",
    "            # This is repeated here for the exercise of looking at the impact of poor\n",
    "            # initialization weights with respect to the activation function.\n",
    "            emb = C[Xb]\n",
    "            h = emb.view(-1, CONTEXT_SZ * EMBED_SZ) @ W1 + b1\n",
    "\n",
    "    # Forward pass\n",
    "    logits = forward_pass(Xb)\n",
    "    loss = F.cross_entropy(logits, Yb)\n",
    "\n",
    "    # Update parameters\n",
    "    lr = lrs[i]\n",
    "    sgd = torch.optim.SGD(parameters, lr=lr, weight_decay=0.001)\n",
    "    sgd.zero_grad()\n",
    "    loss.backward()\n",
    "    sgd.step()\n",
    "\n",
    "    # Track stats\n",
    "    stepi.append(i)\n",
    "    lossi.append(loss.item())\n",
    "    loglossi.append(loss.log10().item())\n",
    "    if i < 500:\n",
    "        loglossiavg.append(loss.log10().item())\n",
    "    else:\n",
    "        loglossiavg.append(mean(loglossi[-500:]))\n",
    "    if i % 1000 == 0:\n",
    "        pbar.set_description(\"LR: %0.4f Loss %0.4f\" % (lr, mean(lossi[-500:])))"
   ]
  },
  {
   "cell_type": "code",
   "execution_count": 13,
   "metadata": {},
   "outputs": [
    {
     "name": "stdout",
     "output_type": "stream",
     "text": [
      "Initialization\n"
     ]
    },
    {
     "data": {
      "image/png": "[encoded data removed]",
      "text/plain": [
       "<Figure size 640x480 with 1 Axes>"
      ]
     },
     "metadata": {},
     "output_type": "display_data"
    }
   ],
   "source": [
    "plt.hist(h.view(-1).tolist(), 50)\n",
    "print(\"Initialization\")"
   ]
  },
  {
   "cell_type": "code",
   "execution_count": 14,
   "metadata": {},
   "outputs": [
    {
     "data": {
      "text/plain": [
       "<matplotlib.image.AxesImage at 0x169f3b710>"
      ]
     },
     "execution_count": 14,
     "metadata": {},
     "output_type": "execute_result"
    },
    {
     "data": {
      "image/png": "[encoded data removed]",
      "text/plain": [
       "<Figure size 2000x1000 with 1 Axes>"
      ]
     },
     "metadata": {},
     "output_type": "display_data"
    }
   ],
   "source": [
    "# Visualizing dead neurons\n",
    "plt.figure(figsize=(20, 10))\n",
    "plt.imshow(h.abs() > 0.99, cmap='gray', interpolation='nearest')"
   ]
  },
  {
   "attachments": {},
   "cell_type": "markdown",
   "metadata": {},
   "source": [
    "# Evaluate Loss"
   ]
  },
  {
   "cell_type": "code",
   "execution_count": 15,
   "metadata": {},
   "outputs": [
    {
     "data": {
      "text/plain": [
       "0.5173748731613159"
      ]
     },
     "execution_count": 15,
     "metadata": {},
     "output_type": "execute_result"
    },
    {
     "data": {
      "image/png": "[encoded data removed]",
      "text/plain": [
       "<Figure size 640x480 with 1 Axes>"
      ]
     },
     "metadata": {},
     "output_type": "display_data"
    }
   ],
   "source": [
    "plt.plot(stepi, loglossi)\n",
    "loglossi[0]"
   ]
  },
  {
   "cell_type": "code",
   "execution_count": 16,
   "metadata": {},
   "outputs": [
    {
     "data": {
      "text/plain": [
       "tensor(3.2958)"
      ]
     },
     "execution_count": 16,
     "metadata": {},
     "output_type": "execute_result"
    }
   ],
   "source": [
    "# Expected loss at initialization\n",
    "-torch.tensor(1/27.0).log()"
   ]
  },
  {
   "attachments": {},
   "cell_type": "markdown",
   "metadata": {},
   "source": [
    "# Calibrate the batch norm"
   ]
  },
  {
   "cell_type": "code",
   "execution_count": 61,
   "metadata": {},
   "outputs": [
    {
     "name": "stdout",
     "output_type": "stream",
     "text": [
      "{'MINI_BATCH_SZ': 128, 'CONTEXT_SZ': 5, 'EMBED_SZ': 32, 'HIDDEN_LAYER_SZ': 96, 'num_parameters': 19131}\n",
      "Xtr loss: 1.9729\n",
      "Xdev loss: 2.0348\n"
     ]
    }
   ],
   "source": [
    "print({\n",
    "    'MINI_BATCH_SZ': MINI_BATCH_SZ,\n",
    "    'CONTEXT_SZ': CONTEXT_SZ,\n",
    "    'EMBED_SZ': EMBED_SZ,\n",
    "    'HIDDEN_LAYER_SZ': HIDDEN_LAYER_SZ,\n",
    "    'num_parameters': sum(p.nelement() for p in parameters),\n",
    "})\n",
    "\n",
    "with torch.no_grad():\n",
    "    xtr_loss = F.cross_entropy(forward_pass(Xtr, bnmean_running, bnstd_running), Ytr)\n",
    "    print(f\"Xtr loss: {xtr_loss:0.4f}\")\n",
    "\n",
    "    xdev_loss = F.cross_entropy(forward_pass(Xdev, bnmean_running, bnstd_running), Ydev)\n",
    "    print(f\"Xdev loss: {xdev_loss:0.4f}\")"
   ]
  },
  {
   "attachments": {},
   "cell_type": "markdown",
   "metadata": {},
   "source": [
    "# Sample from the Model"
   ]
  },
  {
   "cell_type": "code",
   "execution_count": 63,
   "metadata": {},
   "outputs": [
    {
     "name": "stdout",
     "output_type": "stream",
     "text": [
      "carmah.\n",
      "amille.\n",
      "khirmin.\n",
      "reety.\n",
      "salaya.\n",
      "ejazhut.\n",
      "faresa.\n",
      "chareei.\n",
      "nella.\n",
      "archaily.\n",
      "kaleigh.\n",
      "haman.\n",
      "cadesinn.\n",
      "shoilea.\n",
      "jadiquin.\n",
      "elogieary.\n",
      "ixan.\n",
      "euniru.\n",
      "bredde.\n",
      "igabette.\n"
     ]
    }
   ],
   "source": [
    "g = torch.Generator().manual_seed(2147483647 + 10)\n",
    "\n",
    "for _ in range(20):\n",
    "    out = []\n",
    "    context = [0] * CONTEXT_SZ\n",
    "    while True:\n",
    "        x = torch.tensor([context])\n",
    "        logits = forward_pass(x, bnmean_running, bnstd_running)\n",
    "        \n",
    "        # Make logits sum to 1\n",
    "        probs = F.softmax(logits, dim=1)\n",
    "\n",
    "        # Sample from probabilities\n",
    "        ix = torch.multinomial(probs, num_samples=1, generator=g).item()\n",
    "        context = context[1:] + [ix]\n",
    "        out.append(itos[ix])\n",
    "        if ix == 0:\n",
    "            break\n",
    "    print(''.join(out))"
   ]
  },
  {
   "cell_type": "code",
   "execution_count": null,
   "metadata": {},
   "outputs": [
    {
     "name": "stdout",
     "output_type": "stream",
     "text": [
      "tensor([[-0.0359,  0.0529, -0.0196, -0.0305,  0.0063, -0.0364,  0.0026,  0.0266,\n",
      "         -0.0238, -0.0368,  0.0141,  0.0203,  0.0057, -0.0836, -0.0111,  0.1291,\n",
      "         -0.0760, -0.0108,  0.1225,  0.0081, -0.0140, -0.0328, -0.0079, -0.0588,\n",
      "         -0.0481, -0.0084, -0.0038,  0.0249,  0.0214,  0.0195,  0.0028, -0.0127,\n",
      "         -0.0440,  0.0886, -0.0341,  0.0016, -0.0323,  0.0227,  0.1169, -0.0429,\n",
      "          0.0153, -0.0717,  0.0442, -0.0257,  0.0089,  0.0709, -0.0513,  0.0573,\n",
      "          0.0429,  0.0658,  0.0152,  0.0163,  0.0326, -0.0059, -0.0162, -0.0277,\n",
      "         -0.0179, -0.0495,  0.0413, -0.0294, -0.0410, -0.0483, -0.0021,  0.0086,\n",
      "         -0.0045, -0.0257,  0.0277,  0.0039,  0.0273,  0.1149,  0.0131, -0.0336,\n",
      "         -0.0303,  0.0364, -0.0302,  0.0323, -0.0137, -0.0241, -0.0227, -0.0159,\n",
      "          0.0167, -0.0048, -0.0119,  0.0184, -0.0200,  0.0766,  0.0076, -0.0610,\n",
      "          0.0045,  0.1051,  0.1596,  0.0187, -0.0320, -0.0381, -0.0141, -0.0035]],\n",
      "       grad_fn=<MmBackward0>)\n",
      "tensor([[nan, nan, nan, nan, nan, nan, nan, nan, nan, nan, nan, nan, nan, nan, nan, nan, nan, nan, nan, nan, nan, nan, nan, nan,\n",
      "         nan, nan, nan, nan, nan, nan, nan, nan, nan, nan, nan, nan, nan, nan, nan, nan, nan, nan, nan, nan, nan, nan, nan, nan,\n",
      "         nan, nan, nan, nan, nan, nan, nan, nan, nan, nan, nan, nan, nan, nan, nan, nan, nan, nan, nan, nan, nan, nan, nan, nan,\n",
      "         nan, nan, nan, nan, nan, nan, nan, nan, nan, nan, nan, nan, nan, nan, nan, nan, nan, nan, nan, nan, nan, nan, nan, nan]],\n",
      "       grad_fn=<StdBackward0>)\n",
      "tensor([[nan, nan, nan, nan, nan, nan, nan, nan, nan, nan, nan, nan, nan, nan, nan, nan, nan, nan, nan, nan, nan, nan, nan, nan,\n",
      "         nan, nan, nan, nan, nan, nan, nan, nan, nan, nan, nan, nan, nan, nan, nan, nan, nan, nan, nan, nan, nan, nan, nan, nan,\n",
      "         nan, nan, nan, nan, nan, nan, nan, nan, nan, nan, nan, nan, nan, nan, nan, nan, nan, nan, nan, nan, nan, nan, nan, nan,\n",
      "         nan, nan, nan, nan, nan, nan, nan, nan, nan, nan, nan, nan, nan, nan, nan, nan, nan, nan, nan, nan, nan, nan, nan, nan]],\n",
      "       grad_fn=<AddBackward0>)\n",
      "tensor([[nan, nan, nan, nan, nan, nan, nan, nan, nan, nan, nan, nan, nan, nan, nan, nan, nan, nan, nan, nan, nan, nan, nan, nan,\n",
      "         nan, nan, nan, nan, nan, nan, nan, nan, nan, nan, nan, nan, nan, nan, nan, nan, nan, nan, nan, nan, nan, nan, nan, nan,\n",
      "         nan, nan, nan, nan, nan, nan, nan, nan, nan, nan, nan, nan, nan, nan, nan, nan, nan, nan, nan, nan, nan, nan, nan, nan,\n",
      "         nan, nan, nan, nan, nan, nan, nan, nan, nan, nan, nan, nan, nan, nan, nan, nan, nan, nan, nan, nan, nan, nan, nan, nan]],\n",
      "       grad_fn=<LeakyReluBackward0>)\n"
     ]
    },
    {
     "data": {
      "text/plain": [
       "tensor([[nan, nan, nan, nan, nan, nan, nan, nan, nan, nan, nan, nan, nan, nan, nan, nan, nan, nan, nan, nan, nan, nan, nan, nan,\n",
       "         nan, nan, nan]], grad_fn=<AddBackward0>)"
      ]
     },
     "execution_count": 321,
     "metadata": {},
     "output_type": "execute_result"
    }
   ],
   "source": [
    "def foo():\n",
    "    x = torch.tensor([0,0,0,0,0])\n",
    "    emb = C[x] # (N, CONTEXT_SZ, 2)\n",
    "    embcat = emb.view(1, -1)  # concatenate the vectors\n",
    "    #print(embcat)\n",
    "    hpreact = embcat @ W1 + b1  # Hidden layer pre-activation\n",
    "    print(embcat @ W1)\n",
    "    print(hpreact.std(0, keepdim=True))\n",
    "    hpreact = bngain * (hpreact - hpreact.mean(0, keepdim=True)) / hpreact.std(0, keepdim=True) + bnbias\n",
    "    print(hpreact)\n",
    "\n",
    "    h = relu(hpreact)  # hidden layer  # (N, HIDDEN_LAYER_SZ)\n",
    "    print(h)\n",
    "    return h @ W2 + b2 # output layer (HIDDEN_LAYER_SZ, 27)\n",
    "foo()"
   ]
  },
  {
   "attachments": {},
   "cell_type": "markdown",
   "metadata": {},
   "source": [
    "# Improvement Log\n",
    "\n",
    "## Initialization Improvements\n",
    "\n",
    "```\n",
    "{'MINI_BATCH_SZ': 128, 'CONTEXT_SZ': 5, 'EMBED_SZ': 32, 'HIDDEN_LAYER_SZ': 96, 'num_parameters': 18939}\n",
    "Xtr loss: 2.0590\n",
    "Xdev loss: 2.0950\n",
    "```\n",
    "\n",
    "## Saturated Tanh\n",
    "\n",
    "I previously discovered independently that `ReLU` performed better than `tanh`. This appears to be because of the gradient squashing ocurring? However, this also happens with `ReLU` has negative weights -- so the same issue but in a different region of the space.\n"
   ]
  },
  {
   "attachments": {},
   "cell_type": "markdown",
   "metadata": {},
   "source": [
    "# Unsaturated Tanh\n",
    "\n",
    "```\n",
    "{'MINI_BATCH_SZ': 128, 'CONTEXT_SZ': 5, 'EMBED_SZ': 32, 'HIDDEN_LAYER_SZ': 96, 'num_parameters': 18939}\n",
    "Xtr loss: 2.0943\n",
    "Xdev loss: 2.1121\n",
    "```"
   ]
  },
  {
   "attachments": {},
   "cell_type": "markdown",
   "metadata": {},
   "source": [
    "# ReLU\n",
    "\n",
    "Moving back to ReLU with adjusted weights.\n",
    "\n",
    "```\n",
    "{'MINI_BATCH_SZ': 128, 'CONTEXT_SZ': 5, 'EMBED_SZ': 32, 'HIDDEN_LAYER_SZ': 96, 'num_parameters': 18939}\n",
    "Xtr loss: 2.0637\n",
    "Xdev loss: 2.0897\n",
    "```"
   ]
  },
  {
   "attachments": {},
   "cell_type": "markdown",
   "metadata": {},
   "source": [
    "# Kaiming init\n",
    "\n",
    "Initializing the weights using Kaiming init did not see improvements.\n",
    "\n",
    "```\n",
    "{'MINI_BATCH_SZ': 128, 'CONTEXT_SZ': 5, 'EMBED_SZ': 32, 'HIDDEN_LAYER_SZ': 96, 'num_parameters': 18939}\n",
    "Xtr loss: 2.0553\n",
    "Xdev loss: 2.0836\n",
    "```"
   ]
  },
  {
   "attachments": {},
   "cell_type": "markdown",
   "metadata": {},
   "source": [
    "# Leaky ReLU\n",
    "\n",
    "Switching to leaky relu did not help.\n",
    "\n",
    "```\n",
    "{'MINI_BATCH_SZ': 128, 'CONTEXT_SZ': 5, 'EMBED_SZ': 32, 'HIDDEN_LAYER_SZ': 96, 'num_parameters': 18939}\n",
    "Xtr loss: 2.0553\n",
    "Xdev loss: 2.0811\n",
    "```\n",
    "\n",
    "I noticed there still seem to be a bunch of zero values. Let's investigate that."
   ]
  },
  {
   "attachments": {},
   "cell_type": "markdown",
   "metadata": {},
   "source": [
    "# Batch Normalization\n",
    "\n",
    "Batch normalization with leaky relu seemed to help quite a bit.\n",
    "\n",
    "```\n",
    "{'MINI_BATCH_SZ': 128, 'CONTEXT_SZ': 5, 'EMBED_SZ': 32, 'HIDDEN_LAYER_SZ': 96, 'num_parameters': 19131}\n",
    "Xtr loss: 1.9757\n",
    "Xdev loss: 2.0346\n",
    "```"
   ]
  }
 ],
 "metadata": {
  "kernelspec": {
   "display_name": "venv",
   "language": "python",
   "name": "python3"
  },
  "language_info": {
   "codemirror_mode": {
    "name": "ipython",
    "version": 3
   },
   "file_extension": ".py",
   "mimetype": "text/x-python",
   "name": "python",
   "nbconvert_exporter": "python",
   "pygments_lexer": "ipython3",
   "version": "3.11.3"
  },
  "orig_nbformat": 4
 },
 "nbformat": 4,
 "nbformat_minor": 2
}
