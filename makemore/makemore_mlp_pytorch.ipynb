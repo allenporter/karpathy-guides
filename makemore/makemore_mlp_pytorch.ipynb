{
 "cells": [
  {
   "cell_type": "code",
   "execution_count": 2,
   "metadata": {},
   "outputs": [],
   "source": [
    "import matplotlib.pyplot as plt\n",
    "%matplotlib inline"
   ]
  },
  {
   "attachments": {},
   "cell_type": "markdown",
   "metadata": {},
   "source": [
    "# Dataset"
   ]
  },
  {
   "cell_type": "code",
   "execution_count": 3,
   "metadata": {},
   "outputs": [],
   "source": [
    "with open('names.txt') as f:\n",
    "    content = f.read()\n",
    "    words = content.splitlines()"
   ]
  },
  {
   "cell_type": "code",
   "execution_count": 4,
   "metadata": {},
   "outputs": [
    {
     "data": {
      "text/plain": [
       "32033"
      ]
     },
     "execution_count": 4,
     "metadata": {},
     "output_type": "execute_result"
    }
   ],
   "source": [
    "len(words)"
   ]
  },
  {
   "cell_type": "code",
   "execution_count": 5,
   "metadata": {},
   "outputs": [
    {
     "name": "stdout",
     "output_type": "stream",
     "text": [
      "{1: 'a', 2: 'b', 3: 'c', 4: 'd', 5: 'e', 6: 'f', 7: 'g', 8: 'h', 9: 'i', 10: 'j', 11: 'k', 12: 'l', 13: 'm', 14: 'n', 15: 'o', 16: 'p', 17: 'q', 18: 'r', 19: 's', 20: 't', 21: 'u', 22: 'v', 23: 'w', 24: 'x', 25: 'y', 26: 'z', 0: '.'}\n"
     ]
    }
   ],
   "source": [
    "chars = sorted(list(set(''.join(words))))\n",
    "stoi = { s: i+1 for i, s in enumerate(chars) }\n",
    "stoi['.'] = 0\n",
    "itos = { i: s for s, i in stoi.items() }\n",
    "print(itos)"
   ]
  },
  {
   "cell_type": "code",
   "execution_count": 6,
   "metadata": {},
   "outputs": [],
   "source": [
    "import torch\n",
    "\n",
    "# Context length of how many characters support the prediction. This is consistent with\n",
    "# the paper we're following\n",
    "block_size = 3\n",
    "\n",
    "x, y = [], []\n",
    "for w in words:\n",
    "    #print(w)\n",
    "    context = [0] * block_size\n",
    "    for ch in w + '.':\n",
    "        ix = stoi[ch]\n",
    "        x.append(context)\n",
    "        y.append(ix)\n",
    "        #print(''.join(itos[i] for i in context), \"--->\", ch)\n",
    "        # Advance the rolling window of context\n",
    "        context = context[1:] + [ix]\n",
    "\n",
    "\n",
    "X = torch.tensor(x)\n",
    "Y = torch.tensor(y)"
   ]
  },
  {
   "cell_type": "code",
   "execution_count": 99,
   "metadata": {},
   "outputs": [
    {
     "data": {
      "text/plain": [
       "(torch.Size([228146, 3]), torch.int64, torch.Size([228146]), torch.int64)"
      ]
     },
     "execution_count": 99,
     "metadata": {},
     "output_type": "execute_result"
    }
   ],
   "source": [
    "X.shape, X.dtype, Y.shape, Y.dtype"
   ]
  },
  {
   "cell_type": "code",
   "execution_count": 98,
   "metadata": {},
   "outputs": [
    {
     "name": "stdout",
     "output_type": "stream",
     "text": [
      "torch.Size([182512, 5]) torch.Size([182512])\n",
      "torch.Size([22860, 5]) torch.Size([22860])\n",
      "torch.Size([22774, 5]) torch.Size([22774])\n"
     ]
    }
   ],
   "source": [
    "# Build dataset splits\n",
    "def build_dataset(words: list[str], block_size: int) -> (torch.tensor, torch.tensor):\n",
    "    x, y = [], []\n",
    "    for w in words:\n",
    "        #print(w)\n",
    "        context = [0] * block_size\n",
    "        for ch in w + '.':\n",
    "            ix = stoi[ch]\n",
    "            x.append(context)\n",
    "            y.append(ix)\n",
    "            #print(''.join(itos[i] for i in context), \"--->\", ch)\n",
    "            # Advance the rolling window of context\n",
    "            context = context[1:] + [ix]\n",
    "    X = torch.tensor(x)\n",
    "    Y = torch.tensor(y)\n",
    "    print(X.shape, Y.shape)\n",
    "    return X, Y\n",
    "\n",
    "import random\n",
    "random.seed(42)\n",
    "random.shuffle(words)\n",
    "n1 = int(0.8*len(words))\n",
    "n2 = int(0.9*len(words))\n",
    "\n",
    "CONTEXT_SZ = 5\n",
    "Xtr, Ytr = build_dataset(words[:n1], CONTEXT_SZ)\n",
    "Xdev, Ydev = build_dataset(words[n1:n2], CONTEXT_SZ)\n",
    "Xte, Yte = build_dataset(words[n2:], CONTEXT_SZ)\n"
   ]
  },
  {
   "attachments": {},
   "cell_type": "markdown",
   "metadata": {},
   "source": [
    "# Embedding Lookup table"
   ]
  },
  {
   "cell_type": "code",
   "execution_count": 8,
   "metadata": {},
   "outputs": [
    {
     "data": {
      "text/plain": [
       "torch.Size([27, 2])"
      ]
     },
     "execution_count": 8,
     "metadata": {},
     "output_type": "execute_result"
    }
   ],
   "source": [
    "import torch.nn.functional as F\n",
    "\n",
    "# C is the lookup table which is the first layer of the network\n",
    "C = torch.randn((27, 2))\n",
    "C.shape"
   ]
  },
  {
   "cell_type": "code",
   "execution_count": 400,
   "metadata": {},
   "outputs": [
    {
     "data": {
      "text/plain": [
       "torch.Size([228146, 3, 2])"
      ]
     },
     "execution_count": 400,
     "metadata": {},
     "output_type": "execute_result"
    }
   ],
   "source": [
    "emb = C[X]\n",
    "emb.shape"
   ]
  },
  {
   "attachments": {},
   "cell_type": "markdown",
   "metadata": {},
   "source": [
    "# Hidden Layer"
   ]
  },
  {
   "cell_type": "code",
   "execution_count": 401,
   "metadata": {},
   "outputs": [],
   "source": [
    "W1 = torch.randn((6, 100))\n",
    "b1 = torch.randn(100)"
   ]
  },
  {
   "cell_type": "code",
   "execution_count": 402,
   "metadata": {},
   "outputs": [
    {
     "data": {
      "text/plain": [
       "torch.Size([228146, 100])"
      ]
     },
     "execution_count": 402,
     "metadata": {},
     "output_type": "execute_result"
    }
   ],
   "source": [
    "# Hidden layer of activations for examples\n",
    "\n",
    "# torch.concat(emb[:, 0, :], emb[:, 1, :], emb[:, 2, :])\n",
    "# torch.unbind(emb, 1), 1)\n",
    "h = torch.tanh(emb.view(-1, 6) @ W1 + b)\n",
    "h.shape"
   ]
  },
  {
   "attachments": {},
   "cell_type": "markdown",
   "metadata": {},
   "source": [
    "# Output layer"
   ]
  },
  {
   "cell_type": "code",
   "execution_count": 403,
   "metadata": {},
   "outputs": [
    {
     "data": {
      "text/plain": [
       "torch.Size([228146, 27])"
      ]
     },
     "execution_count": 403,
     "metadata": {},
     "output_type": "execute_result"
    }
   ],
   "source": [
    "W2 = torch.randn((100,27))\n",
    "b2 = torch.randn(27)\n",
    "logits = h @ W2 + B2\n",
    "logits.shape"
   ]
  },
  {
   "cell_type": "code",
   "execution_count": 342,
   "metadata": {},
   "outputs": [
    {
     "data": {
      "text/plain": [
       "torch.Size([228146, 27])"
      ]
     },
     "execution_count": 342,
     "metadata": {},
     "output_type": "execute_result"
    }
   ],
   "source": [
    "counts = logits.exp()\n",
    "counts.shape"
   ]
  },
  {
   "cell_type": "code",
   "execution_count": 343,
   "metadata": {},
   "outputs": [
    {
     "data": {
      "text/plain": [
       "torch.Size([228146, 27])"
      ]
     },
     "execution_count": 343,
     "metadata": {},
     "output_type": "execute_result"
    }
   ],
   "source": [
    "probs = counts / counts.sum(1, keepdim=True)\n",
    "probs.shape"
   ]
  },
  {
   "attachments": {},
   "cell_type": "markdown",
   "metadata": {},
   "source": [
    "# Negative Log Likelihood Loss"
   ]
  },
  {
   "cell_type": "code",
   "execution_count": null,
   "metadata": {},
   "outputs": [],
   "source": [
    "# Current probabilities to the correct character in the sequence\n",
    "loss = -probs[torch.arange(32), Y].log().mean()\n",
    "loss.item()"
   ]
  },
  {
   "cell_type": "code",
   "execution_count": 197,
   "metadata": {},
   "outputs": [
    {
     "data": {
      "text/plain": [
       "(torch.Size([182580, 3]), torch.Size([182580]))"
      ]
     },
     "execution_count": 197,
     "metadata": {},
     "output_type": "execute_result"
    }
   ],
   "source": [
    "Xtr.shape, Ytr.shape"
   ]
  },
  {
   "cell_type": "code",
   "execution_count": 96,
   "metadata": {},
   "outputs": [
    {
     "data": {
      "text/plain": [
       "tensor([[3.1192e-05, 1.3759e-01, 4.0767e-02, 4.8129e-02, 5.2745e-02, 4.7785e-02,\n",
       "         1.3038e-02, 2.0898e-02, 2.7293e-02, 1.8465e-02, 7.5577e-02, 9.2452e-02,\n",
       "         4.9064e-02, 7.9195e-02, 3.5777e-02, 1.2321e-02, 1.6095e-02, 2.9008e-03,\n",
       "         5.1154e-02, 6.4130e-02, 4.0830e-02, 2.4641e-03, 1.1759e-02, 9.6070e-03,\n",
       "         4.2109e-03, 1.6719e-02, 2.9008e-02],\n",
       "        [1.9583e-01, 1.6425e-02, 1.5983e-02, 1.3889e-02, 3.0756e-02, 2.0435e-02,\n",
       "         3.9809e-03, 4.9835e-03, 6.8796e-02, 4.8685e-02, 5.1899e-03, 1.6779e-02,\n",
       "         7.4575e-02, 4.8213e-02, 1.6039e-01, 1.8872e-03, 2.4475e-03, 1.7988e-03,\n",
       "         9.6279e-02, 3.2997e-02, 2.0288e-02, 1.1264e-02, 2.4623e-02, 4.7771e-03,\n",
       "         5.3963e-03, 6.0480e-02, 1.2857e-02],\n",
       "        [4.3039e-02, 1.2051e-01, 1.4596e-02, 7.4850e-04, 2.4701e-02, 2.4551e-01,\n",
       "         3.7425e-04, 3.7425e-04, 1.5719e-02, 8.1587e-02, 7.4850e-04, 3.7425e-04,\n",
       "         3.8922e-02, 3.7425e-04, 1.8713e-03, 3.9671e-02, 3.7425e-04, 3.7425e-04,\n",
       "         3.1549e-01, 3.3683e-03, 1.1228e-03, 1.7216e-02, 3.7425e-04, 3.7425e-04,\n",
       "         3.7425e-04, 3.1437e-02, 3.7425e-04],\n",
       "        [2.7536e-02, 2.2928e-01, 2.8098e-04, 1.2082e-02, 5.6196e-04, 1.5510e-01,\n",
       "         2.8098e-04, 8.4293e-04, 1.8685e-01, 7.6426e-02, 1.1239e-03, 8.9070e-02,\n",
       "         3.2874e-02, 2.8098e-04, 2.8098e-04, 1.0705e-01, 5.6196e-04, 3.3717e-03,\n",
       "         2.1635e-02, 1.6859e-03, 1.0115e-02, 1.0115e-02, 2.8098e-04, 2.8098e-04,\n",
       "         1.1239e-03, 2.9503e-02, 1.4049e-03],\n",
       "        [9.3609e-02, 2.3610e-01, 3.6212e-04, 7.2424e-04, 2.7159e-02, 2.3248e-01,\n",
       "         1.0864e-03, 4.7076e-03, 2.1546e-02, 1.2222e-01, 1.8106e-03, 7.2424e-04,\n",
       "         1.1045e-02, 5.6129e-03, 5.7940e-03, 6.8622e-02, 1.8106e-04, 3.6212e-04,\n",
       "         7.6951e-02, 5.4318e-03, 9.0531e-04, 1.6839e-02, 3.2591e-03, 4.3455e-03,\n",
       "         1.8106e-04, 5.7577e-02, 3.6212e-04],\n",
       "        [1.9482e-01, 3.3252e-02, 5.9658e-03, 7.5306e-03, 1.8826e-02, 6.2200e-02,\n",
       "         4.0587e-03, 6.1614e-03, 7.4817e-03, 4.0049e-02, 2.7384e-03, 8.7531e-03,\n",
       "         1.5888e-01, 3.7653e-02, 1.3086e-01, 1.3203e-02, 4.1076e-03, 7.3350e-04,\n",
       "         9.5795e-02, 4.2152e-02, 2.8411e-02, 3.4230e-03, 2.2689e-02, 2.4939e-03,\n",
       "         6.5037e-03, 5.2372e-02, 8.8998e-03],\n",
       "        [8.6910e-02, 2.6073e-01, 1.0730e-03, 1.0730e-03, 1.0730e-03, 1.3305e-01,\n",
       "         4.8283e-02, 2.1459e-03, 2.1459e-03, 1.7275e-01, 1.0730e-03, 3.2189e-03,\n",
       "         2.2532e-02, 1.0730e-03, 5.3648e-03, 6.5451e-02, 1.0730e-03, 1.0730e-03,\n",
       "         1.2339e-01, 7.5107e-03, 2.0386e-02, 1.1803e-02, 1.0730e-03, 5.3648e-03,\n",
       "         1.0730e-03, 1.6094e-02, 3.2189e-03],\n",
       "        [5.5783e-02, 1.6940e-01, 2.0471e-03, 5.1177e-04, 1.0235e-02, 1.7144e-01,\n",
       "         1.0235e-03, 1.3306e-02, 1.8475e-01, 9.7748e-02, 2.0471e-03, 5.1177e-04,\n",
       "         1.6888e-02, 3.5824e-03, 1.4330e-02, 4.2989e-02, 5.1177e-04, 5.1177e-04,\n",
       "         1.0338e-01, 1.5865e-02, 1.6377e-02, 4.4012e-02, 1.0235e-03, 1.3818e-02,\n",
       "         5.1177e-04, 1.6377e-02, 1.0235e-03],\n",
       "        [3.1532e-01, 2.9373e-01, 1.1775e-03, 3.9252e-04, 3.2710e-03, 8.8316e-02,\n",
       "         3.9252e-04, 3.9252e-04, 2.6168e-04, 9.5512e-02, 1.3084e-03, 3.9252e-03,\n",
       "         2.4336e-02, 1.5439e-02, 1.8187e-02, 3.7682e-02, 2.6168e-04, 2.6168e-04,\n",
       "         2.6822e-02, 4.1868e-03, 9.4204e-03, 2.1850e-02, 5.2335e-03, 1.4392e-03,\n",
       "         1.3084e-04, 2.7999e-02, 2.7476e-03],\n",
       "        [1.4046e-01, 1.3797e-01, 6.2613e-03, 2.8768e-02, 2.4876e-02, 9.3299e-02,\n",
       "         5.7536e-03, 2.4199e-02, 5.4152e-03, 4.6819e-03, 4.3434e-03, 2.5158e-02,\n",
       "         7.5925e-02, 2.4143e-02, 1.1998e-01, 3.3224e-02, 3.0460e-03, 2.9896e-03,\n",
       "         4.7947e-02, 7.4289e-02, 3.0573e-02, 6.2049e-03, 1.5230e-02, 5.0767e-04,\n",
       "         5.0767e-03, 4.3998e-02, 1.5681e-02],\n",
       "        [2.4599e-02, 5.0359e-01, 6.8329e-04, 1.7082e-03, 1.7082e-03, 1.5067e-01,\n",
       "         3.4165e-04, 3.4165e-04, 1.5716e-02, 4.0998e-02, 1.0249e-03, 1.0249e-03,\n",
       "         3.4165e-03, 2.0499e-03, 1.0249e-03, 1.6399e-01, 6.8329e-04, 3.4165e-04,\n",
       "         4.0998e-03, 2.7332e-03, 1.0249e-03, 6.9354e-02, 2.0499e-03, 2.3915e-03,\n",
       "         3.4165e-04, 3.7581e-03, 3.4165e-04],\n",
       "        [7.1837e-02, 3.4182e-01, 5.9207e-04, 5.9207e-04, 5.9207e-04, 1.7683e-01,\n",
       "         3.9471e-04, 1.9736e-04, 6.0785e-02, 1.0065e-01, 5.9207e-04, 4.1445e-03,\n",
       "         2.7630e-02, 1.9736e-03, 5.3286e-03, 6.8088e-02, 1.9736e-04, 1.9736e-04,\n",
       "         2.1709e-02, 1.8946e-02, 3.5524e-03, 1.0065e-02, 5.9207e-04, 6.9074e-03,\n",
       "         1.9736e-04, 7.4995e-02, 5.9207e-04],\n",
       "        [9.4029e-02, 1.8763e-01, 3.7898e-03, 1.8591e-03, 9.9392e-03, 2.0894e-01,\n",
       "         1.6446e-03, 5.0054e-04, 1.4301e-03, 1.7740e-01, 5.0054e-04, 1.7876e-03,\n",
       "         9.6246e-02, 4.3618e-03, 1.0726e-03, 4.9553e-02, 1.1441e-03, 2.8602e-04,\n",
       "         1.3586e-03, 6.7930e-03, 5.5774e-03, 2.3239e-02, 5.2199e-03, 1.2156e-03,\n",
       "         7.1505e-05, 1.1362e-01, 7.8656e-04],\n",
       "        [7.7523e-02, 3.8851e-01, 1.6944e-02, 7.7973e-03, 3.7487e-03, 1.2281e-01,\n",
       "         2.9990e-04, 1.4995e-04, 8.9969e-04, 1.8848e-01, 1.1996e-03, 2.9990e-04,\n",
       "         8.9969e-04, 2.5341e-02, 3.1489e-03, 6.7926e-02, 5.8480e-03, 1.4995e-04,\n",
       "         1.4695e-02, 5.3981e-03, 7.4974e-04, 2.0993e-02, 5.9979e-04, 4.4984e-04,\n",
       "         1.4995e-04, 4.3185e-02, 1.7994e-03],\n",
       "        [3.6853e-01, 1.6225e-01, 4.9036e-04, 1.1660e-02, 3.8411e-02, 7.4098e-02,\n",
       "         6.5381e-04, 1.4929e-02, 1.4711e-03, 9.4039e-02, 2.4518e-03, 3.2146e-03,\n",
       "         1.0679e-02, 1.0897e-03, 1.0390e-01, 2.7079e-02, 3.2690e-04, 1.6345e-04,\n",
       "         2.4518e-03, 1.5201e-02, 2.4191e-02, 5.2850e-03, 3.0511e-03, 6.5381e-04,\n",
       "         3.8139e-04, 2.5390e-02, 7.9547e-03],\n",
       "        [1.0752e-01, 1.8842e-02, 1.7711e-02, 1.4445e-02, 2.3992e-02, 1.6706e-02,\n",
       "         4.3964e-03, 5.6526e-03, 2.1605e-02, 8.7929e-03, 2.1354e-03, 8.6673e-03,\n",
       "         7.7880e-02, 3.2910e-02, 3.0298e-01, 1.4571e-02, 1.2059e-02, 5.0245e-04,\n",
       "         1.3315e-01, 6.3434e-02, 1.4948e-02, 3.4669e-02, 2.2233e-02, 1.4445e-02,\n",
       "         5.7782e-03, 1.3064e-02, 6.9087e-03],\n",
       "        [3.2289e-02, 1.9943e-01, 2.8490e-03, 1.8993e-03, 9.4967e-04, 1.8803e-01,\n",
       "         1.8993e-03, 9.4967e-04, 1.9468e-01, 5.8879e-02, 1.8993e-03, 1.8993e-03,\n",
       "         1.6144e-02, 1.8993e-03, 1.8993e-03, 5.6980e-02, 3.7987e-02, 9.4967e-04,\n",
       "         1.4435e-01, 1.6144e-02, 1.7094e-02, 4.7483e-03, 9.4967e-04, 9.4967e-04,\n",
       "         9.4967e-04, 1.2346e-02, 9.4967e-04],\n",
       "        [9.6990e-02, 4.6823e-02, 3.3445e-03, 3.3445e-03, 3.3445e-03, 6.6890e-03,\n",
       "         3.3445e-03, 3.3445e-03, 3.3445e-03, 4.6823e-02, 3.3445e-03, 3.3445e-03,\n",
       "         6.6890e-03, 1.0033e-02, 3.3445e-03, 1.0033e-02, 3.3445e-03, 3.3445e-03,\n",
       "         6.6890e-03, 1.0033e-02, 3.3445e-03, 6.9231e-01, 3.3445e-03, 1.3378e-02,\n",
       "         3.3445e-03, 3.3445e-03, 3.3445e-03],\n",
       "        [1.0827e-01, 1.8520e-01, 3.3001e-03, 7.8573e-03, 1.4772e-02, 1.3342e-01,\n",
       "         7.8573e-04, 6.0501e-03, 9.5859e-03, 2.3839e-01, 2.0429e-03, 7.1502e-03,\n",
       "         3.2529e-02, 1.2807e-02, 1.1079e-02, 6.8359e-02, 1.1786e-03, 1.3357e-03,\n",
       "         3.3472e-02, 1.5007e-02, 1.6422e-02, 1.9879e-02, 6.3644e-03, 1.7286e-03,\n",
       "         3.1429e-04, 6.0816e-02, 1.8858e-03],\n",
       "        [1.4386e-01, 1.4779e-01, 2.7050e-03, 7.5003e-03, 1.2296e-03, 1.0882e-01,\n",
       "         3.6887e-04, 3.6887e-04, 1.5812e-01, 8.4225e-02, 3.6887e-04, 1.0205e-02,\n",
       "         3.4428e-02, 1.1189e-02, 3.0739e-03, 6.5413e-02, 6.3937e-03, 2.4591e-04,\n",
       "         6.8855e-03, 5.6806e-02, 9.4184e-02, 2.2870e-02, 1.8443e-03, 3.0739e-03,\n",
       "         1.2296e-04, 2.6558e-02, 1.3525e-03],\n",
       "        [8.6475e-02, 1.8367e-01, 3.5733e-04, 3.2160e-03, 1.7867e-04, 1.2810e-01,\n",
       "         5.3600e-04, 5.3600e-04, 1.1578e-01, 9.5230e-02, 7.1467e-04, 1.7867e-04,\n",
       "         2.4120e-02, 8.9334e-04, 4.1093e-03, 1.1935e-01, 1.7867e-04, 1.7867e-04,\n",
       "         6.3070e-02, 6.4320e-03, 6.7000e-02, 1.4115e-02, 2.8587e-03, 2.1440e-03,\n",
       "         5.3600e-04, 6.1104e-02, 1.8939e-02],\n",
       "        [4.9336e-02, 5.1866e-02, 3.2891e-02, 3.2891e-02, 4.3327e-02, 5.3763e-02,\n",
       "         6.3251e-03, 1.5180e-02, 1.8659e-02, 3.8583e-02, 4.7438e-03, 2.9728e-02,\n",
       "         9.5509e-02, 4.9020e-02, 8.7287e-02, 3.4788e-03, 5.3763e-03, 3.4788e-03,\n",
       "         1.3125e-01, 1.5022e-01, 2.6249e-02, 1.2650e-03, 1.2018e-02, 2.7514e-02,\n",
       "         1.1069e-02, 4.4276e-03, 1.4548e-02],\n",
       "        [3.4231e-02, 2.4731e-01, 7.6923e-04, 3.8462e-04, 7.6923e-04, 2.1885e-01,\n",
       "         3.8462e-04, 3.8462e-04, 7.6923e-04, 3.5077e-01, 3.8462e-04, 1.5385e-03,\n",
       "         5.7692e-03, 3.8462e-04, 3.4615e-03, 5.9231e-02, 3.8462e-04, 3.8462e-04,\n",
       "         1.8846e-02, 3.8462e-04, 3.8462e-04, 3.0769e-03, 3.0769e-03, 3.8462e-04,\n",
       "         3.8462e-04, 4.6923e-02, 3.8462e-04],\n",
       "        [5.4393e-02, 2.9393e-01, 2.0921e-03, 1.0460e-03, 9.4142e-03, 1.5690e-01,\n",
       "         3.1381e-03, 2.0921e-03, 2.5105e-02, 1.5586e-01, 1.0460e-03, 7.3222e-03,\n",
       "         1.4644e-02, 3.1381e-03, 6.1715e-02, 3.8703e-02, 1.0460e-03, 1.0460e-03,\n",
       "         2.4059e-02, 2.1967e-02, 9.4142e-03, 2.7197e-02, 1.0460e-03, 3.1381e-03,\n",
       "         1.0460e-03, 7.7406e-02, 2.0921e-03],\n",
       "        [2.2790e-01, 1.4365e-01, 2.7624e-03, 6.9061e-03, 8.2873e-03, 5.1105e-02,\n",
       "         5.5249e-03, 1.3812e-03, 2.7624e-03, 1.4227e-01, 1.3812e-03, 1.3812e-03,\n",
       "         5.5249e-02, 2.7624e-03, 2.7624e-03, 5.8011e-02, 1.3812e-03, 1.3812e-03,\n",
       "         1.3812e-03, 4.4199e-02, 9.8066e-02, 8.2873e-03, 1.3812e-03, 5.5249e-03,\n",
       "         5.3867e-02, 4.2818e-02, 2.7624e-02],\n",
       "        [2.0484e-01, 2.1871e-01, 2.8563e-03, 1.1833e-02, 2.7849e-02, 3.0807e-02,\n",
       "         1.3261e-03, 3.1623e-03, 2.3462e-03, 1.9688e-02, 2.4482e-03, 8.8748e-03,\n",
       "         1.1272e-01, 1.5199e-02, 1.8637e-01, 2.7747e-02, 1.6322e-03, 7.1407e-04,\n",
       "         2.9787e-02, 4.1008e-02, 1.0711e-02, 1.4485e-02, 1.0915e-02, 5.1005e-04,\n",
       "         2.9583e-03, 2.4482e-03, 8.0588e-03],\n",
       "        [6.6392e-02, 3.5505e-01, 2.0619e-03, 1.2371e-03, 1.2371e-03, 1.5423e-01,\n",
       "         4.1237e-04, 8.2474e-04, 1.8144e-02, 1.5052e-01, 1.2371e-03, 1.2371e-03,\n",
       "         5.1134e-02, 1.4845e-02, 2.0619e-03, 4.5773e-02, 1.2371e-03, 4.1237e-04,\n",
       "         1.3608e-02, 2.0619e-03, 2.0619e-03, 3.0515e-02, 1.2371e-03, 1.6495e-03,\n",
       "         8.2474e-04, 6.1031e-02, 1.8969e-02]])"
      ]
     },
     "execution_count": 96,
     "metadata": {},
     "output_type": "execute_result"
    }
   ],
   "source": [
    "# Model from last time\n",
    "\n",
    "N = torch.zeros(len(stoi), len(stoi), dtype=torch.int32)\n",
    "for w in words:\n",
    "    chs = ['.']  + list(w) + ['.']\n",
    "    for ch1, ch2 in zip(chs, chs[1:]):\n",
    "        N[stoi[ch1], stoi[ch2]] += 1\n",
    "P = (N+1).float()\n",
    "P /= P.sum(1, keepdim=True)\n"
   ]
  },
  {
   "attachments": {},
   "cell_type": "markdown",
   "metadata": {},
   "source": [
    "# Cleaned Up"
   ]
  },
  {
   "cell_type": "code",
   "execution_count": 204,
   "metadata": {},
   "outputs": [],
   "source": [
    "EMBED_SZ = 32\n",
    "HIDDEN_LAYER_SZ = 96\n",
    "OUTPUT_SZ = 27\n",
    "g = torch.Generator().manual_seed(2147483647)\n",
    "C = torch.randn((27, EMBED_SZ), generator=g)\n",
    "\n",
    "W1 = torch.randn((CONTEXT_SZ * EMBED_SZ, HIDDEN_LAYER_SZ), generator=g)\n",
    "b1 = torch.randn(HIDDEN_LAYER_SZ, generator=g)\n",
    "\n",
    "W2 = torch.randn((HIDDEN_LAYER_SZ, OUTPUT_SZ), generator=g)\n",
    "b2 = torch.randn(OUTPUT_SZ, generator=g)\n",
    "\n",
    "parameters = [C, W1, b1, W2, b2]"
   ]
  },
  {
   "cell_type": "code",
   "execution_count": 205,
   "metadata": {},
   "outputs": [
    {
     "data": {
      "text/plain": [
       "18939"
      ]
     },
     "execution_count": 205,
     "metadata": {},
     "output_type": "execute_result"
    }
   ],
   "source": [
    "# Total number of parameters\n",
    "sum(p.nelement() for p in parameters)"
   ]
  },
  {
   "cell_type": "code",
   "execution_count": 206,
   "metadata": {},
   "outputs": [],
   "source": [
    "# Reset parameters for training\n",
    "for p in parameters:\n",
    "    p.requires_grad = True"
   ]
  },
  {
   "cell_type": "code",
   "execution_count": 203,
   "metadata": {},
   "outputs": [
    {
     "data": {
      "text/plain": [
       "[<matplotlib.lines.Line2D at 0x1649ee790>]"
      ]
     },
     "execution_count": 203,
     "metadata": {},
     "output_type": "execute_result"
    },
    {
     "data": {
      "image/png": "[encoded data removed]",
      "text/plain": [
       "<Figure size 640x480 with 1 Axes>"
      ]
     },
     "metadata": {},
     "output_type": "display_data"
    }
   ],
   "source": [
    "# It doesn't make sense to step through the learning rate linearly. Instead, we'll\n",
    "# step through the exponents linearly.\n",
    "lre = torch.cat([-1 * torch.ones(100000), torch.linspace(-1, -5, steps=50000)])\n",
    "lrs = 10**lre\n",
    "\n",
    "#lrs = [0.1] * 90000 + [0.01] * 50000\n",
    "plt.plot(range(0, len(lrs)), lrs)"
   ]
  },
  {
   "cell_type": "code",
   "execution_count": 207,
   "metadata": {},
   "outputs": [],
   "source": [
    "from torch import nn\n",
    "\n",
    "relu = nn.ReLU()\n",
    "\n",
    "def tanh_activation(x):\n",
    "    return torch.tanh(x)\n",
    "\n",
    "def relu_activation(x):\n",
    "    return relu(x)\n",
    "\n",
    "activation = relu_activation"
   ]
  },
  {
   "cell_type": "code",
   "execution_count": 208,
   "metadata": {},
   "outputs": [
    {
     "name": "stderr",
     "output_type": "stream",
     "text": [
      "LR: 0.0000 Loss 2.0700: 100%|██████████| 150000/150000 [00:58<00:00, 2563.52it/s]"
     ]
    },
    {
     "name": "stdout",
     "output_type": "stream",
     "text": [
      "2.002365827560425\n"
     ]
    },
    {
     "name": "stderr",
     "output_type": "stream",
     "text": [
      "\n"
     ]
    }
   ],
   "source": [
    "from statistics import mean\n",
    "from tqdm import tqdm\n",
    "\n",
    "MINI_BATCH_SZ = 128\n",
    "\n",
    "lri = []\n",
    "lossi = []\n",
    "loglossi = []\n",
    "loglossiavg = []\n",
    "stepi = []\n",
    "\n",
    "\n",
    "pbar = tqdm(range(len(lrs)))\n",
    "for i in pbar:\n",
    "    # Mini batch\n",
    "    ix = torch.randint(0, Xtr.shape[0], (MINI_BATCH_SZ,)) # (MINI_BATCH_SZ)\n",
    "\n",
    "    # Forward Pass\n",
    "    emb = C[Xtr[ix]] # (MINI_BATCH_SZ, CONTEXT_SZ, 2)\n",
    "    h = activation(emb.view(-1, CONTEXT_SZ * EMBED_SZ) @ W1 + b1) # (MINI_BATCH_SZ, HIDDEN_LAYER_SZ)\n",
    "    logits = h @ W2 + b2 # (HIDDEN_LAYER_SZ, 27)\n",
    "\n",
    "    loss = F.cross_entropy(logits, Ytr[ix])\n",
    "    #print(loss.item())\n",
    "\n",
    "    # Backward pass\n",
    "    #for p in parameters:\n",
    "    #    p.grad = None\n",
    "    \n",
    "\n",
    "    # Update parameters\n",
    "    lr = lrs[i]\n",
    "\n",
    "    sgd = torch.optim.SGD(parameters, lr=lr, weight_decay=0.001)\n",
    "    sgd.zero_grad()\n",
    "    loss.backward()\n",
    "    sgd.step()\n",
    "\n",
    "    #for p in parameters:\n",
    "    #    p.data += -lr * p.grad\n",
    "\n",
    "    # Track stats\n",
    "    stepi.append(i)\n",
    "    lossi.append(loss.item())\n",
    "    loglossi.append(loss.log10().item())\n",
    "    if i < 500:\n",
    "        loglossiavg.append(loss.log10().item())\n",
    "    else:\n",
    "        loglossiavg.append(mean(loglossi[-500:]))\n",
    "    if i % 1000 == 0:\n",
    "        pbar.set_description(\"LR: %0.4f Loss %0.4f\" % (lr, mean(lossi[-500:])))\n",
    "    #lri.append(lre[i])\n",
    "print(loss.item())\n"
   ]
  },
  {
   "cell_type": "code",
   "execution_count": 209,
   "metadata": {},
   "outputs": [
    {
     "data": {
      "text/plain": [
       "[<matplotlib.lines.Line2D at 0x14f255f50>]"
      ]
     },
     "execution_count": 209,
     "metadata": {},
     "output_type": "execute_result"
    },
    {
     "data": {
      "image/png": "[encoded data removed]",
      "text/plain": [
       "<Figure size 640x480 with 1 Axes>"
      ]
     },
     "metadata": {},
     "output_type": "display_data"
    }
   ],
   "source": [
    "plt.plot(stepi, loglossiavg)"
   ]
  },
  {
   "cell_type": "code",
   "execution_count": 210,
   "metadata": {},
   "outputs": [
    {
     "name": "stdout",
     "output_type": "stream",
     "text": [
      "{'MINI_BATCH_SZ': 128, 'CONTEXT_SZ': 5, 'EMBED_SZ': 32, 'HIDDEN_LAYER_SZ': 96, 'num_parameters': 18939}\n",
      "Xtr loss: 2.0646\n",
      "Xdev loss: 2.0851\n"
     ]
    }
   ],
   "source": [
    "# Loss on training set\n",
    "def loss(x, y) -> float:\n",
    "    emb = C[x] # (32, 3, 2)\n",
    "    h = activation(emb.view(-1, CONTEXT_SZ * EMBED_SZ) @ W1 + b1) # (32, 100)\n",
    "    logits = h @ W2 + b2 # (32, 27)\n",
    "    return F.cross_entropy(logits, y).item()\n",
    "\n",
    "print({\n",
    "    'MINI_BATCH_SZ': MINI_BATCH_SZ,\n",
    "    'CONTEXT_SZ': CONTEXT_SZ,\n",
    "    'EMBED_SZ': EMBED_SZ,\n",
    "    'HIDDEN_LAYER_SZ': HIDDEN_LAYER_SZ,\n",
    "    'num_parameters': sum(p.nelement() for p in parameters),\n",
    "})\n",
    "\n",
    "xtr_loss = loss(Xtr, Ytr)\n",
    "print(f\"Xtr loss: {xtr_loss:0.4f}\")\n",
    "\n",
    "xdev_loss = loss(Xdev, Ydev)\n",
    "print(f\"Xdev loss: {xdev_loss:0.4f}\")"
   ]
  },
  {
   "cell_type": "code",
   "execution_count": null,
   "metadata": {},
   "outputs": [],
   "source": [
    "# Loss on entire training set\n",
    "emb = C[X] # (32, 3, 2)\n",
    "h = torch.tanh(emb.view(-1, CONTEXT_SZ * EMBED_SZ) @ W1 + b1) # (32, 100)\n",
    "logits = h @ W2 + b2 # (32, 27)\n",
    "loss = F.cross_entropy(logits, Y)\n",
    "print(loss.item())"
   ]
  },
  {
   "cell_type": "code",
   "execution_count": null,
   "metadata": {},
   "outputs": [],
   "source": [
    "# Display embeddings. This works w/ lower dimension embeddings.\n",
    "plt.figure(figsize=(8,8))\n",
    "plt.scatter(C[:,0].data, C[:,1].data, s=200)\n",
    "for i in range(C.shape[0]):\n",
    "    plt.text(C[i,0].item(), C[i,1].item(), itos[i], ha=\"center\", va=\"center\", color=\"white\")\n",
    "plt.grid(\"minor\")"
   ]
  },
  {
   "attachments": {},
   "cell_type": "markdown",
   "metadata": {},
   "source": [
    "# Challenge\n",
    "\n",
    "Knobs available:\n",
    "- number of neurons in hidden layer\n",
    "- embedding table size\n",
    "- numbers of characters as input\n",
    "- details of optimization\n",
    "- batch size (convergence speed)\n",
    "\n",
    "Read the paper, and it also has ideas for improvements."
   ]
  },
  {
   "attachments": {},
   "cell_type": "markdown",
   "metadata": {},
   "source": [
    "# Sample from the model"
   ]
  },
  {
   "cell_type": "code",
   "execution_count": 211,
   "metadata": {},
   "outputs": [
    {
     "name": "stdout",
     "output_type": "stream",
     "text": [
      "carmah.\n",
      "amille.\n",
      "khismy.\n",
      "xilah.\n",
      "khalani.\n",
      "ejrahnen.\n",
      "deliah.\n",
      "jareei.\n",
      "nermari.\n",
      "chaiir.\n",
      "kaleig.\n",
      "dham.\n",
      "joce.\n",
      "quinn.\n",
      "shoilea.\n",
      "jadbi.\n",
      "wazelo.\n",
      "dearyn.\n",
      "kakhen.\n",
      "duray.\n"
     ]
    }
   ],
   "source": [
    "g = torch.Generator().manual_seed(2147483647 + 10)\n",
    "\n",
    "for _ in range(20):\n",
    "    out = []\n",
    "    context = [0] * CONTEXT_SZ\n",
    "    while True:\n",
    "        emb = C[torch.tensor([context])] # (1, block_size, d)\n",
    "        h = activation(emb.view(1, -1) @ W1 + b1)\n",
    "        logits = h @ W2 + b2\n",
    "        # Make logits sum to 1\n",
    "        probs = F.softmax(logits, dim=1)\n",
    "\n",
    "        # Sample from probabilities\n",
    "        ix = torch.multinomial(probs, num_samples=1, generator=g).item()\n",
    "        context = context[1:] + [ix]\n",
    "        out.append(itos[ix])\n",
    "        if ix == 0:\n",
    "            break\n",
    "    print(''.join(out))\n"
   ]
  },
  {
   "attachments": {},
   "cell_type": "markdown",
   "metadata": {},
   "source": [
    "# Challenge Progress\n",
    "\n",
    "Prior loss on dev set: 2.17\n",
    "\n",
    "## Update the batch size\n",
    "\n",
    "First attempt to update `CONTEXT_SZ` from 3 to 4.\n",
    "EMBED_SZ = 10\n",
    "\n",
    "Attempting two rounds of optimization:\n",
    "- 100k at 0.1\n",
    "- 100k at 0.01\n",
    "- 200k at 0.01:  Xtr: 2.11, Xdev: 2.16\n",
    "- 200k at 0.001: Xtr: 2.10, Xdev: 2.14\n",
    "\n",
    "Since the training and dev set are diverging this tells me that continuing to train may just be over fitting.\n",
    "\n",
    "## Rewriting the learning rates\n",
    "\n",
    "Training Optimization: `lrs = [0.1] * 100000 + [0.01] * 200000 + [0.001] * 100000`\n",
    "\n",
    "Results:\n",
    "- Xtr: 2.13, Xdev: 2.16\n",
    "\n",
    "## Mini batch size as 64\n",
    "\n",
    "Training Optimization: `lrs = [0.1] * 100000 + [0.01] * 200000 + [0.001] * 100000`\n",
    "MINI_BATCH_SZ = 64 (double 32)\n",
    "Revert CONTEXT_SZ to 3\n",
    "\n",
    "Results:\n",
    "\n",
    "- Xtr: 2.10, Xdev: 2.14\n",
    "\n",
    "\n",
    "## Mini batch size as 128\n",
    "\n",
    "Training Optimization: `lrs = [0.1] * 100000 + [0.01] * 200000`\n",
    "MINI_BATCH_SZ = 128 \n",
    "CONTEXT_SZ to 3\n",
    "\n",
    "Results:\n",
    "- Xtr: 2.10, Xdev: 2.14\n",
    "\n",
    "## Mini batch at 32 again\n",
    "\n",
    "Training Optimization: `lrs = [0.1] * 100000 + [0.01] * 200000 + [0.001] * 100000`\n",
    "MINI_BATCH_SZ = 32\n",
    "CONTEXT_SZ to 3\n",
    "\n",
    "Results:\n",
    "- Xtr: 2.12, Xdev: 2.16\n",
    "\n",
    "## Training Optimization Only: Linear walk through exponents\n",
    "\n",
    "```\n",
    "lre = torch.linspace(-1, -4, steps=300000)\n",
    "lrs = 10**lre\n",
    "```\n",
    "MINI_BATCH_SZ = 32\n",
    "CONTEXT_SZ to 3\n",
    "\n",
    "Results:\n",
    "- Xtr: 2.17, Xdev: 2.19\n",
    "\n",
    "## Training optimization only: More time at 0.1\n",
    "\n",
    "```\n",
    "lre = torch.cat([-1 * torch.ones(100000), torch.linspace(-1, -3, steps=400000)])\n",
    "```\n",
    "MINI_BATCH_SZ = 32\n",
    "CONTEXT_SZ to 3\n",
    "\n",
    "Results:\n",
    "- Xtr: 2.06, Xdev: 2.12\n",
    "\n",
    "This is very likely overfitting?\n",
    "\n",
    "## Backing off to moderate training optimization\n",
    "\n",
    "```\n",
    "lre = torch.cat([-1 * torch.ones(75000), torch.linspace(-1.5, -4, steps=200000)])\n",
    "```\n",
    "- Xtr: 2.12, Xdev: 2.159\n",
    "\n",
    "## Context size increase to 5\n",
    "\n",
    "15k parameters\n",
    "CONTEXT_SZ = 5\n",
    "- Xtr: 2.18, Xdev: 2.20\n",
    "\n",
    "## Embedding size increase to 20\n",
    "\n",
    "Preserved learning rate\n",
    "CONTEXT_SZ = 5\n",
    "EMBED_SZ = 20\n",
    "26k parameters\n",
    "- Xtr: 2.21, Xdev: 2.25\n",
    "\n",
    "# Embedding size to 20 w/ content size reverted\n",
    "\n",
    "Preserved learning rate\n",
    "CONTEXT_SZ = 3\n",
    "EMBED_SZ = 20\n",
    "26k parameters\n",
    "- Xtr: 2.07, Xdev: 2.13\n",
    "\n",
    "# Go big\n",
    "\n",
    "Learning: ```lre = torch.cat([-1 * torch.ones(10000), torch.linspace(-1.5, -4, steps=300000)])```\n",
    "MINI_BATCH_SZ = 512\n",
    "CONTEXT_SZ = 6\n",
    "EMBED_SZ = 100\n",
    "HIDDEN_LAYER_SZ = 500\n",
    "\n",
    "Result:\n",
    "- Xtr: 2.08, Xdev: 2.68\n",
    "\n",
    "Massive overfitting!\n",
    "\n",
    "\n",
    "\n",
    "## Learning rate revert\n",
    "\n",
    "```lre = torch.cat([-1 * torch.ones(100000), torch.linspace(-1, -5, steps=300000)])```\n",
    "\n",
    "## Reading the research paper\n",
    "\n",
    "From the paper:\n",
    "> the vocabulary size is |V| = 17,964, the number of hidden units is h = 60, the order\n",
    "of the model is n = 6, the number of word features is m = 100.\n",
    "\n",
    "From the paper results, seems like:\n",
    "- n=3, h=100, m=30 did well\n",
    "\n",
    "Perhaps adding another layer would help? This turned out to not work at all with the above learning rate.\n",
    "\n",
    "## Back down to earth\n",
    "\n",
    "CONTEXT_SZ = 3\n",
    "EMBED_SZ = 6\n",
    "HIDDEN_LAYER_SZ = 16\n",
    "BATCH_SIZE = 32\n",
    "\n",
    "Result:\n",
    "- Xtr: 2.28, Xdev: 2.29\n",
    "\n",
    "## Bring back up parameters\n",
    "\n",
    "\n",
    "Learning: `lre = torch.cat([-1 * torch.ones(100000), -2 * torch.ones(100000), torch.linspace(-2, -5, steps=100000)])`\n",
    "EMBED_SZ = 16\n",
    "HIDDEN_LAYER_SZ = 27\n",
    "OUTPUT_SZ = 27\n",
    "MINI_BATCH_SZ = 64\n",
    "\n",
    "Result:\n",
    "- Xtr: 2.23, Xdev: 2.24\n",
    "\n",
    "## What was the key from before?\n",
    "\n",
    "Seems like hidden layer size was the main difference..\n",
    "\n",
    "`lre = torch.cat([-1 * torch.ones(100000), -2 * torch.ones(100000), torch.linspace(-2, -5, steps=100000)])`\n",
    "EMBED_SZ = 16\n",
    "HIDDEN_LAYER_SZ = 128\n",
    "OUTPUT_SZ = 27\n",
    "MINI_BATCH_SZ = 64\n",
    "\n",
    "Result:\n",
    "- Xtr: 2.09, Xdev: 2.16\n",
    "\n",
    "## Caps\n",
    "\n",
    "`lre = torch.cat([-1 * torch.ones(75000), -2 * torch.ones(75000), torch.linspace(-2, -5, steps=250000)])`\n",
    "EMBED_SZ = 32\n",
    "HIDDEN_LAYER_SZ = 256\n",
    "OUTPUT_SZ = 27\n",
    "MINI_BATCH_SZ = 64\n",
    "\n",
    "Result:\n",
    "- Xtr: 2.02, Xdev: 2.16\n",
    "\n",
    "## Bring back context size again, Lowering Embed and hidden layers to avoid overfitting\n",
    "\n",
    "`lre = torch.cat([-1 * torch.ones(75000), -2 * torch.ones(75000), torch.linspace(-2, -5, steps=250000)])`\n",
    "CONTEXT_SZ = 4\n",
    "EMBED_SZ = 16\n",
    "HIDDEN_LAYER_SZ = 128\n",
    "OUTPUT_SZ = 27\n",
    "12k parameters\n",
    "\n",
    "Result:\n",
    "- Xtr: 2.10, Xdev: 2.15"
   ]
  },
  {
   "attachments": {},
   "cell_type": "markdown",
   "metadata": {},
   "source": [
    "## All about the learning rates\n",
    "\n",
    "```\n",
    "lre = torch.cat([-1 * torch.ones(200000), -2 * torch.ones(75000), torch.linspace(-2, -5, steps=50000)])\n",
    "{'MINI_BATCH_SZ': 64, 'CONTEXT_SZ': 4, 'EMBED_SZ': 16, 'HIDDEN_LAYER_SZ': 128}\n",
    "Xtr loss: 2.0524\n",
    "Xdev loss: 2.1219\n",
    "```"
   ]
  },
  {
   "attachments": {},
   "cell_type": "markdown",
   "metadata": {},
   "source": [
    "# Further learning adjustments\n",
    "\n",
    "Attempted to avoid over fitting by staying longer on larger learning rate.\n",
    "\n",
    "```\n",
    "lre = torch.cat([-1 * torch.ones(250000), torch.linspace(-1, -5, steps=100000)])\n",
    "{'MINI_BATCH_SZ': 64, 'CONTEXT_SZ': 4, 'EMBED_SZ': 16, 'HIDDEN_LAYER_SZ': 128}\n",
    "Xtr loss: 2.0324\n",
    "Xdev loss: 2.1093\n",
    "```\n",
    "\n",
    "Next, will try adjusting the batch size further. Maybe also do fewer steps on the later space."
   ]
  },
  {
   "attachments": {},
   "cell_type": "markdown",
   "metadata": {},
   "source": [
    "# Weight Decay experiment\n",
    "\n",
    "Using a weight decay did seem to reduce the amount of overfitting, though lost some of the\n",
    "gains seen in the losses.\n",
    "\n",
    "```\n",
    "weight_decay=0.001\n",
    "\n",
    "{'MINI_BATCH_SZ': 64, 'CONTEXT_SZ': 4, 'EMBED_SZ': 16, 'HIDDEN_LAYER_SZ': 128}\n",
    "Xtr loss: 2.1361\n",
    "Xdev loss: 2.1465\n",
    "```"
   ]
  },
  {
   "attachments": {},
   "cell_type": "markdown",
   "metadata": {},
   "source": [
    "# Embedding Size\n",
    "\n",
    "```\n",
    "{'MINI_BATCH_SZ': 64, 'CONTEXT_SZ': 4, 'EMBED_SZ': 32, 'HIDDEN_LAYER_SZ': 128}\n",
    "Xtr loss: 2.1279\n",
    "Xdev loss: 2.1391\n",
    "```"
   ]
  },
  {
   "attachments": {},
   "cell_type": "markdown",
   "metadata": {},
   "source": [
    "# Bigger Embed and hidden layers\n",
    "\n",
    "```\n",
    "{'MINI_BATCH_SZ': 128, 'CONTEXT_SZ': 4, 'EMBED_SZ': 64, 'HIDDEN_LAYER_SZ': 256}\n",
    "Xtr loss: 2.1183\n",
    "Xdev loss: 2.1309\n",
    "```\n",
    "\n",
    "This didn't add anything.\n",
    "\n",
    "Reducing embed size, hidden layers, and # of steps w/ learning rate didn't lose anything:\n",
    "\n",
    "```\n",
    "{'MINI_BATCH_SZ': 128, 'CONTEXT_SZ': 4, 'EMBED_SZ': 32, 'HIDDEN_LAYER_SZ': 128}\n",
    "Xtr loss: 2.1218\n",
    "Xdev loss: 2.1324\n",
    "```"
   ]
  },
  {
   "attachments": {},
   "cell_type": "markdown",
   "metadata": {},
   "source": [
    "# Increase Context Size\n",
    "\n",
    "Now increasing context size seemed to help:\n",
    "\n",
    "```\n",
    "{'MINI_BATCH_SZ': 128, 'CONTEXT_SZ': 5, 'EMBED_SZ': 32, 'HIDDEN_LAYER_SZ': 128}\n",
    "Xtr loss: 2.0940\n",
    "Xdev loss: 2.1102\n",
    "```\n",
    "\n",
    "However, increasing it more just overfit:\n",
    "\n",
    "```\n",
    "{'MINI_BATCH_SZ': 128, 'CONTEXT_SZ': 6, 'EMBED_SZ': 32, 'HIDDEN_LAYER_SZ': 128, 'num_parameters': 29051}\n",
    "Xtr loss: 2.0858\n",
    "Xdev loss: 2.1149\n",
    "```\n",
    "\n",
    "Reverting back content size, and lowering embed / hidden layer size didn't seem to hurt.\n",
    "\n",
    "```\n",
    "{'MINI_BATCH_SZ': 128, 'CONTEXT_SZ': 5, 'EMBED_SZ': 24, 'HIDDEN_LAYER_SZ': 96, 'num_parameters': 14883}\n",
    "Xtr loss: 2.0974\n",
    "Xdev loss: 2.1122\n",
    "```"
   ]
  },
  {
   "attachments": {},
   "cell_type": "markdown",
   "metadata": {},
   "source": [
    "# Activation function\n",
    "\n",
    "Picking the RELU activation function seemed to perform much better.\n",
    "\n",
    "```\n",
    "{'MINI_BATCH_SZ': 128, 'CONTEXT_SZ': 5, 'EMBED_SZ': 24, 'HIDDEN_LAYER_SZ': 96, 'num_parameters': 14883}\n",
    "Xtr loss: 2.0615\n",
    "Xdev loss: 2.0809\n",
    "```"
   ]
  },
  {
   "attachments": {},
   "cell_type": "markdown",
   "metadata": {},
   "source": [
    "# Increased batch sizes\n",
    "\n",
    "```\n",
    "{'MINI_BATCH_SZ': 256, 'CONTEXT_SZ': 5, 'EMBED_SZ': 32, 'HIDDEN_LAYER_SZ': 96, 'num_parameters': 18939}\n",
    "Xtr loss: 2.0776\n",
    "Xdev loss: 2.0962\n",
    "```"
   ]
  }
 ],
 "metadata": {
  "kernelspec": {
   "display_name": "venv",
   "language": "python",
   "name": "python3"
  },
  "language_info": {
   "codemirror_mode": {
    "name": "ipython",
    "version": 3
   },
   "file_extension": ".py",
   "mimetype": "text/x-python",
   "name": "python",
   "nbconvert_exporter": "python",
   "pygments_lexer": "ipython3",
   "version": "3.11.3"
  },
  "orig_nbformat": 4
 },
 "nbformat": 4,
 "nbformat_minor": 2
}
