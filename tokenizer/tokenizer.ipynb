{
 "cells": [
  {
   "cell_type": "markdown",
   "metadata": {},
   "source": [
    "# Tokenizer\n"
   ]
  },
  {
   "cell_type": "code",
   "execution_count": 1,
   "metadata": {},
   "outputs": [
    {
     "data": {
      "text/plain": [
       "104"
      ]
     },
     "execution_count": 1,
     "metadata": {},
     "output_type": "execute_result"
    }
   ],
   "source": [
    "ord(\"h\")"
   ]
  },
  {
   "cell_type": "code",
   "execution_count": 2,
   "metadata": {},
   "outputs": [
    {
     "data": {
      "text/plain": [
       "128512"
      ]
     },
     "execution_count": 2,
     "metadata": {},
     "output_type": "execute_result"
    }
   ],
   "source": [
    "ord(\"😀\")"
   ]
  },
  {
   "cell_type": "code",
   "execution_count": 3,
   "metadata": {},
   "outputs": [
    {
     "data": {
      "text/plain": [
       "[84,\n",
       " 104,\n",
       " 105,\n",
       " 115,\n",
       " 32,\n",
       " 105,\n",
       " 115,\n",
       " 32,\n",
       " 115,\n",
       " 111,\n",
       " 109,\n",
       " 101,\n",
       " 32,\n",
       " 116,\n",
       " 101,\n",
       " 120,\n",
       " 116]"
      ]
     },
     "execution_count": 3,
     "metadata": {},
     "output_type": "execute_result"
    }
   ],
   "source": [
    "list(\"This is some text\".encode())"
   ]
  },
  {
   "cell_type": "code",
   "execution_count": 17,
   "metadata": {},
   "outputs": [],
   "source": [
    "def get_stats(s: list[int]) -> dict[tuple[int, int], int]:\n",
    "    \"\"\"Compute stats of the most common pairs of characters in the strings.\"\"\"\n",
    "    stats = {}\n",
    "    for i in range(len(s) - 1):\n",
    "        pair = (s[i], s[i + 1])\n",
    "        if pair not in stats:\n",
    "            stats[pair] = 0\n",
    "        stats[pair] += 1\n",
    "    return stats  #sorted(stats.items(), key=lambda x: x[1], reverse=True)\n"
   ]
  },
  {
   "cell_type": "code",
   "execution_count": 12,
   "metadata": {},
   "outputs": [
    {
     "data": {
      "text/plain": [
       "[((101, 32), 14),\n",
       " ((32, 111), 11),\n",
       " ((32, 116), 10),\n",
       " ((100, 32), 9),\n",
       " ((116, 32), 9),\n",
       " ((105, 110), 9),\n",
       " ((114, 32), 8),\n",
       " ((32, 97), 8),\n",
       " ((111, 114), 8),\n",
       " ((99, 111), 8),\n",
       " ((115, 32), 7),\n",
       " ((97, 110), 7),\n",
       " ((32, 115), 7),\n",
       " ((116, 104), 7),\n",
       " ((111, 102), 6),\n",
       " ((110, 103), 6),\n",
       " ((97, 116), 6),\n",
       " ((32, 98), 6),\n",
       " ((114, 101), 6),\n",
       " ((32, 105), 5),\n",
       " ((110, 100), 5),\n",
       " ((102, 32), 5),\n",
       " ((104, 101), 5),\n",
       " ((101, 110), 5),\n",
       " ((110, 99), 5),\n",
       " ((111, 100), 5),\n",
       " ((111, 110), 5),\n",
       " ((110, 32), 5),\n",
       " ((101, 114), 5),\n",
       " ((101, 115), 5),\n",
       " ((116, 111), 4),\n",
       " ((112, 114), 4),\n",
       " ((116, 101), 4),\n",
       " ((103, 101), 4),\n",
       " ((32, 101), 4),\n",
       " ((100, 105), 4),\n",
       " ((103, 32), 4),\n",
       " ((32, 99), 4),\n",
       " ((99, 101), 4),\n",
       " ((98, 101), 4),\n",
       " ((100, 101), 4),\n",
       " ((105, 99), 4),\n",
       " ((115, 116), 4),\n",
       " ((121, 32), 4),\n",
       " ((101, 108), 4),\n",
       " ((101, 100), 4),\n",
       " ((97, 108), 3),\n",
       " ((111, 32), 3),\n",
       " ((32, 112), 3),\n",
       " ((114, 111), 3),\n",
       " ((111, 109), 3),\n",
       " ((111, 116), 3),\n",
       " ((32, 117), 3),\n",
       " ((117, 115), 3),\n",
       " ((32, 85), 3),\n",
       " ((104, 97), 3),\n",
       " ((104, 111), 3),\n",
       " ((111, 117), 3),\n",
       " ((117, 108), 3),\n",
       " ((102, 111), 3),\n",
       " ((101, 120), 3),\n",
       " ((103, 115), 3),\n",
       " ((32, 109), 3),\n",
       " ((44, 32), 3),\n",
       " ((110, 105), 3),\n",
       " ((116, 105), 3),\n",
       " ((115, 101), 3),\n",
       " ((115, 46), 3),\n",
       " ((118, 101), 3),\n",
       " ((109, 97), 3),\n",
       " ((117, 114), 2),\n",
       " ((32, 103), 2),\n",
       " ((111, 97), 2),\n",
       " ((108, 32), 2),\n",
       " ((105, 115), 2),\n",
       " ((109, 111), 2),\n",
       " ((115, 117), 2),\n",
       " ((112, 112), 2),\n",
       " ((105, 116), 2),\n",
       " ((115, 104), 2),\n",
       " ((108, 100), 2),\n",
       " ((32, 100), 2),\n",
       " ((99, 104), 2),\n",
       " ((111, 105), 2),\n",
       " ((32, 102), 2),\n",
       " ((114, 105), 2),\n",
       " ((120, 116), 2),\n",
       " ((116, 114), 2),\n",
       " ((99, 97), 2),\n",
       " ((105, 111), 2),\n",
       " ((46, 32), 2),\n",
       " ((32, 87), 2),\n",
       " ((87, 101), 2),\n",
       " ((101, 118), 2),\n",
       " ((105, 109), 2),\n",
       " ((109, 112), 2),\n",
       " ((32, 114), 2),\n",
       " ((97, 114), 2),\n",
       " ((85, 110), 2),\n",
       " ((101, 45), 2),\n",
       " ((117, 103), 2),\n",
       " ((114, 97), 2),\n",
       " ((79, 117), 1),\n",
       " ((103, 111), 1),\n",
       " ((115, 97), 1),\n",
       " ((97, 103), 1),\n",
       " ((117, 112), 1),\n",
       " ((112, 111), 1),\n",
       " ((114, 116), 1),\n",
       " ((85, 84), 1),\n",
       " ((84, 70), 1),\n",
       " ((70, 45), 1),\n",
       " ((45, 56), 1),\n",
       " ((56, 32), 1),\n",
       " ((110, 118), 1),\n",
       " ((118, 105), 1),\n",
       " ((101, 102), 1),\n",
       " ((102, 97), 1),\n",
       " ((97, 117), 1),\n",
       " ((108, 116), 1),\n",
       " ((109, 101), 1),\n",
       " ((101, 109), 1),\n",
       " ((114, 121), 1),\n",
       " ((115, 107), 1),\n",
       " ((107, 44), 1),\n",
       " ((109, 109), 1),\n",
       " ((109, 117), 1),\n",
       " ((117, 110), 1),\n",
       " ((108, 108), 1),\n",
       " ((108, 105), 1),\n",
       " ((105, 101), 1),\n",
       " ((97, 112), 1),\n",
       " ((97, 99), 1),\n",
       " ((104, 32), 1),\n",
       " ((111, 118), 1),\n",
       " ((112, 101), 1),\n",
       " ((114, 102), 1),\n",
       " ((114, 109), 1),\n",
       " ((101, 44), 1),\n",
       " ((100, 117), 1),\n",
       " ((117, 99), 1),\n",
       " ((112, 108), 1),\n",
       " ((108, 101), 1),\n",
       " ((120, 105), 1),\n",
       " ((116, 121), 1),\n",
       " ((115, 111), 1),\n",
       " ((102, 116), 1),\n",
       " ((116, 119), 1),\n",
       " ((119, 97), 1),\n",
       " ((32, 104), 1),\n",
       " ((108, 112), 1),\n",
       " ((112, 115), 1),\n",
       " ((110, 116), 1),\n",
       " ((110, 121), 1),\n",
       " ((45, 114), 1),\n",
       " ((108, 97), 1),\n",
       " ((98, 117), 1),\n",
       " ((103, 103), 1),\n",
       " ((32, 40), 1),\n",
       " ((40, 111), 1),\n",
       " ((116, 44), 1),\n",
       " ((110, 101), 1),\n",
       " ((108, 41), 1),\n",
       " ((41, 32), 1),\n",
       " ((108, 111), 1),\n",
       " ((100, 103), 1),\n",
       " ((45, 99), 1),\n",
       " ((97, 115), 1),\n",
       " ((111, 112), 1),\n",
       " ((112, 116), 1),\n",
       " ((109, 105), 1),\n",
       " ((105, 122), 1),\n",
       " ((122, 97), 1),\n",
       " ((97, 118), 1),\n",
       " ((118, 111), 1),\n",
       " ((105, 100), 1),\n",
       " ((98, 121), 1),\n",
       " ((97, 105), 1),\n",
       " ((110, 115), 1),\n",
       " ((101, 97), 1),\n",
       " ((97, 109), 1),\n",
       " ((109, 32), 1),\n",
       " ((114, 115), 1)]"
      ]
     },
     "execution_count": 12,
     "metadata": {},
     "output_type": "execute_result"
    }
   ],
   "source": [
    "get_stats(list(\"Our goal is to promote usage and support of the UTF-8 encoding and to convince that it should be the default choice of encoding for storing text strings in memory or on disk, for communication and all other uses. We believe that our approach improves performance, reduces complexity of software and helps prevent many Unicode-related bugs. We suggest that other encodings of Unicode (or text, in general) belong to rare edge-cases of optimization and should be avoided by mainstream users.\".encode()))"
   ]
  },
  {
   "cell_type": "code",
   "execution_count": 14,
   "metadata": {},
   "outputs": [
    {
     "data": {
      "text/plain": [
       "('e', ' ')"
      ]
     },
     "execution_count": 14,
     "metadata": {},
     "output_type": "execute_result"
    }
   ],
   "source": [
    "chr(101), chr(32)"
   ]
  },
  {
   "cell_type": "code",
   "execution_count": 19,
   "metadata": {},
   "outputs": [
    {
     "data": {
      "text/plain": [
       "(101, 32)"
      ]
     },
     "execution_count": 19,
     "metadata": {},
     "output_type": "execute_result"
    }
   ],
   "source": [
    "stats = get_stats(list(\"Our goal is to promote usage and support of the UTF-8 encoding and to convince that it should be the default choice of encoding for storing text strings in memory or on disk, for communication and all other uses. We believe that our approach improves performance, reduces complexity of software and helps prevent many Unicode-related bugs. We suggest that other encodings of Unicode (or text, in general) belong to rare edge-cases of optimization and should be avoided by mainstream users.\".encode()))\n",
    "top_pair = max(stats, key=stats.get)\n",
    "top_pair"
   ]
  }
 ],
 "metadata": {
  "kernelspec": {
   "display_name": "Python 3",
   "language": "python",
   "name": "python3"
  },
  "language_info": {
   "codemirror_mode": {
    "name": "ipython",
    "version": 3
   },
   "file_extension": ".py",
   "mimetype": "text/x-python",
   "name": "python",
   "nbconvert_exporter": "python",
   "pygments_lexer": "ipython3",
   "version": "3.9.6"
  }
 },
 "nbformat": 4,
 "nbformat_minor": 2
}
